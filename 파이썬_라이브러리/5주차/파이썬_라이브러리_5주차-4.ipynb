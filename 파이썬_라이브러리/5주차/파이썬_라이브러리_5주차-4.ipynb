{
 "cells": [
  {
   "cell_type": "code",
   "execution_count": 1,
   "id": "64629fe7-dd10-41ea-8baa-642507e96efe",
   "metadata": {},
   "outputs": [],
   "source": [
    "#데이터 전처리: 인코딩(Encoding)"
   ]
  },
  {
   "cell_type": "code",
   "execution_count": 92,
   "id": "3ca1b4ff-a70e-459e-9dc8-66e03e330885",
   "metadata": {},
   "outputs": [],
   "source": [
    "#인코딩(Encoding)이란?\n",
    "#인코딩은 범주형 데이터(Categorical Data)를 수치형 데이터로 변환하는 과정.\n",
    "#많은 머신러닝 모델은 수치형 데이터만 처리할 수 있기 때문에, 범주형 데이터를 인코딩하는 것이 필수적."
   ]
  },
  {
   "cell_type": "code",
   "execution_count": null,
   "id": "f602c646-2cd3-48b2-a164-b5e8770dd260",
   "metadata": {},
   "outputs": [],
   "source": []
  },
  {
   "cell_type": "code",
   "execution_count": 95,
   "id": "6ea628d8-b276-42c2-87e7-1e7b1f2784fc",
   "metadata": {},
   "outputs": [],
   "source": [
    "#레이블 인코딩(Label Encoding)\n",
    "#레이블 인코딩은 범주형 데이터를 순서가 있는 숫자로 변환.\n",
    "# 각 범주에 고유한 숫자가 할당."
   ]
  },
  {
   "cell_type": "code",
   "execution_count": 97,
   "id": "8a1e6833-2a4b-4c9f-8b5c-b587c4a9852c",
   "metadata": {},
   "outputs": [],
   "source": [
    "import pandas as pd\n",
    "from sklearn.preprocessing import LabelEncoder\n",
    "\n",
    "#예시 데이터프레임 생성\n",
    "data = {'과일': ['사과', '바나나', '사과', '오렌지', '바나나']}\n",
    "df = pd.DataFrame(data)\n",
    "\n",
    "#레이블 인코딩\n",
    "label_encoder = LabelEncoder()\n",
    "df['과일_인코딩'] = label_encoder.fit_transform(df['과일'])"
   ]
  },
  {
   "cell_type": "code",
   "execution_count": 99,
   "id": "fdeb7af9-fe97-41ab-92db-f2ad22aaa831",
   "metadata": {},
   "outputs": [
    {
     "data": {
      "text/html": [
       "<div>\n",
       "<style scoped>\n",
       "    .dataframe tbody tr th:only-of-type {\n",
       "        vertical-align: middle;\n",
       "    }\n",
       "\n",
       "    .dataframe tbody tr th {\n",
       "        vertical-align: top;\n",
       "    }\n",
       "\n",
       "    .dataframe thead th {\n",
       "        text-align: right;\n",
       "    }\n",
       "</style>\n",
       "<table border=\"1\" class=\"dataframe\">\n",
       "  <thead>\n",
       "    <tr style=\"text-align: right;\">\n",
       "      <th></th>\n",
       "      <th>과일</th>\n",
       "      <th>과일_인코딩</th>\n",
       "    </tr>\n",
       "  </thead>\n",
       "  <tbody>\n",
       "    <tr>\n",
       "      <th>0</th>\n",
       "      <td>사과</td>\n",
       "      <td>1</td>\n",
       "    </tr>\n",
       "    <tr>\n",
       "      <th>1</th>\n",
       "      <td>바나나</td>\n",
       "      <td>0</td>\n",
       "    </tr>\n",
       "    <tr>\n",
       "      <th>2</th>\n",
       "      <td>사과</td>\n",
       "      <td>1</td>\n",
       "    </tr>\n",
       "    <tr>\n",
       "      <th>3</th>\n",
       "      <td>오렌지</td>\n",
       "      <td>2</td>\n",
       "    </tr>\n",
       "    <tr>\n",
       "      <th>4</th>\n",
       "      <td>바나나</td>\n",
       "      <td>0</td>\n",
       "    </tr>\n",
       "  </tbody>\n",
       "</table>\n",
       "</div>"
      ],
      "text/plain": [
       "    과일  과일_인코딩\n",
       "0   사과       1\n",
       "1  바나나       0\n",
       "2   사과       1\n",
       "3  오렌지       2\n",
       "4  바나나       0"
      ]
     },
     "execution_count": 99,
     "metadata": {},
     "output_type": "execute_result"
    }
   ],
   "source": [
    "#출력\n",
    "df"
   ]
  },
  {
   "cell_type": "code",
   "execution_count": 101,
   "id": "5afefd67-1c4e-49f9-8c7e-7230bedf3b44",
   "metadata": {},
   "outputs": [],
   "source": [
    "#사과는 0, 바나나는 1, 오렌지는 2로 인코딩"
   ]
  },
  {
   "cell_type": "code",
   "execution_count": 103,
   "id": "0a478a18-a6cc-4cc5-9f79-34e9670b2bb7",
   "metadata": {},
   "outputs": [],
   "source": [
    "# 레이블 인코딩의 주의점\n",
    "\n",
    "# 레이블 인코딩은 범주형 데이터에 순서가 있을 때 적합.\n",
    "# 순서가 없는 데이터에 사용하면, 모델이 값을 크기로 인식해 잘못된 결과를 초래할 수 있음."
   ]
  },
  {
   "cell_type": "code",
   "execution_count": null,
   "id": "55cdd14c-4cc5-44b0-85d0-61605af11e8f",
   "metadata": {},
   "outputs": [],
   "source": []
  },
  {
   "cell_type": "code",
   "execution_count": 106,
   "id": "45de1803-59e2-4e47-91de-743bf4e2b1d4",
   "metadata": {},
   "outputs": [],
   "source": [
    "#원-핫 인코딩(One-Hot Encoding)\n",
    "#원-핫 인코딩은 각 범주를 이진 벡터로 변환. 각 범주는 고유한 열을 가지며, 해당하는 열에는 1, 나머지 열에는 0이 할당."
   ]
  },
  {
   "cell_type": "code",
   "execution_count": 108,
   "id": "bb0a01c6-b14e-4872-b110-ddf1d30c5fc8",
   "metadata": {},
   "outputs": [],
   "source": [
    "#원-핫 인코딩\n",
    "df_one_hot = pd.get_dummies(df['과일'], prefix='과일')\n",
    "\n",
    "# 정수형(int)으로 변환\n",
    "df_one_hot = df_one_hot.astype(int)"
   ]
  },
  {
   "cell_type": "code",
   "execution_count": 110,
   "id": "2443dd0b-76e1-494d-8f9a-4cbcdfaec89f",
   "metadata": {},
   "outputs": [
    {
     "name": "stdout",
     "output_type": "stream",
     "text": [
      "   과일_바나나  과일_사과  과일_오렌지\n",
      "0       0      1       0\n",
      "1       1      0       0\n",
      "2       0      1       0\n",
      "3       0      0       1\n",
      "4       1      0       0\n"
     ]
    }
   ],
   "source": [
    "#출력\n",
    "print(df_one_hot)"
   ]
  },
  {
   "cell_type": "code",
   "execution_count": null,
   "id": "6fcedae4-0779-4836-8fe5-abcf422fa4db",
   "metadata": {},
   "outputs": [],
   "source": [
    "#원-핫 인코딩의 장점\n",
    "#범주형 데이터에 순서가 없을 때 사용하기 좋음.\n",
    "#모델이 범주 간의 순서나 관계를 인식하지 않고 각 범주를 독립적으로 처리할 수 있음."
   ]
  },
  {
   "cell_type": "code",
   "execution_count": null,
   "id": "b99027e2-80ef-407f-91a7-ba04a1773b86",
   "metadata": {},
   "outputs": [],
   "source": []
  },
  {
   "cell_type": "code",
   "execution_count": 113,
   "id": "9fae69ee-4a52-4459-94eb-cde9876dfbfb",
   "metadata": {},
   "outputs": [],
   "source": [
    "#차원 축소 인코딩(Count or Frequency Encoding)\n",
    "#차원 축소 인코딩은 범주형 데이터가 많을 때 유용함.\n",
    "#각 범주를 데이터셋 내에서의 출현 빈도로 인코딩함."
   ]
  },
  {
   "cell_type": "code",
   "execution_count": 115,
   "id": "67b8aea5-ff61-43e1-abb0-44c9e7395251",
   "metadata": {},
   "outputs": [],
   "source": [
    "#빈도 기반 인코딩\n",
    "df['과일_빈도'] = df['과일'].map(df['과일'].value_counts())"
   ]
  },
  {
   "cell_type": "code",
   "execution_count": 117,
   "id": "60857ec5-7031-44d9-9144-87a0da3c2982",
   "metadata": {},
   "outputs": [
    {
     "data": {
      "text/html": [
       "<div>\n",
       "<style scoped>\n",
       "    .dataframe tbody tr th:only-of-type {\n",
       "        vertical-align: middle;\n",
       "    }\n",
       "\n",
       "    .dataframe tbody tr th {\n",
       "        vertical-align: top;\n",
       "    }\n",
       "\n",
       "    .dataframe thead th {\n",
       "        text-align: right;\n",
       "    }\n",
       "</style>\n",
       "<table border=\"1\" class=\"dataframe\">\n",
       "  <thead>\n",
       "    <tr style=\"text-align: right;\">\n",
       "      <th></th>\n",
       "      <th>과일</th>\n",
       "      <th>과일_인코딩</th>\n",
       "      <th>과일_빈도</th>\n",
       "    </tr>\n",
       "  </thead>\n",
       "  <tbody>\n",
       "    <tr>\n",
       "      <th>0</th>\n",
       "      <td>사과</td>\n",
       "      <td>1</td>\n",
       "      <td>2</td>\n",
       "    </tr>\n",
       "    <tr>\n",
       "      <th>1</th>\n",
       "      <td>바나나</td>\n",
       "      <td>0</td>\n",
       "      <td>2</td>\n",
       "    </tr>\n",
       "    <tr>\n",
       "      <th>2</th>\n",
       "      <td>사과</td>\n",
       "      <td>1</td>\n",
       "      <td>2</td>\n",
       "    </tr>\n",
       "    <tr>\n",
       "      <th>3</th>\n",
       "      <td>오렌지</td>\n",
       "      <td>2</td>\n",
       "      <td>1</td>\n",
       "    </tr>\n",
       "    <tr>\n",
       "      <th>4</th>\n",
       "      <td>바나나</td>\n",
       "      <td>0</td>\n",
       "      <td>2</td>\n",
       "    </tr>\n",
       "  </tbody>\n",
       "</table>\n",
       "</div>"
      ],
      "text/plain": [
       "    과일  과일_인코딩  과일_빈도\n",
       "0   사과       1      2\n",
       "1  바나나       0      2\n",
       "2   사과       1      2\n",
       "3  오렌지       2      1\n",
       "4  바나나       0      2"
      ]
     },
     "execution_count": 117,
     "metadata": {},
     "output_type": "execute_result"
    }
   ],
   "source": [
    "#출력\n",
    "df"
   ]
  },
  {
   "cell_type": "code",
   "execution_count": 119,
   "id": "0ca56beb-8d68-4720-aa0a-99f2d6f95ba5",
   "metadata": {},
   "outputs": [],
   "source": [
    "#주의\n",
    "#이 방법은 범주형 데이터의 빈도가 매우 중요한 경우에 적합하며, 범주의 고유성을 잃을 수 있으므로 주의해서 사용해야함."
   ]
  },
  {
   "cell_type": "code",
   "execution_count": null,
   "id": "7f4c7e4e-7a8a-4c5e-b9c9-dcf48155b5e7",
   "metadata": {},
   "outputs": [],
   "source": []
  },
  {
   "cell_type": "code",
   "execution_count": 122,
   "id": "7627bf2e-fe96-4bd0-a235-08dd3b8a0616",
   "metadata": {},
   "outputs": [],
   "source": [
    "#순서형 인코딩(Ordinal Encoding)\n",
    "#순서형 인코딩은 순서가 있는 범주형 데이터를 그 순서에 따라 숫자로 변환하는 형식"
   ]
  },
  {
   "cell_type": "code",
   "execution_count": 124,
   "id": "8ade4f9b-4e0c-4428-b53c-a4d498d3c8e4",
   "metadata": {},
   "outputs": [],
   "source": [
    "#예시 데이터\n",
    "data = {'등급': ['낮음','중간','높음','중간','높음']}\n",
    "df = pd.DataFrame(data)\n",
    "\n",
    "#순서형 인코딩\n",
    "order = {'낮음': 1, '중간': 2, '높음': 3}\n",
    "df['등급_인코딩'] = df['등급'].map(order)"
   ]
  },
  {
   "cell_type": "code",
   "execution_count": 126,
   "id": "2495ef57-a4ce-4868-86b6-d081c57c7c01",
   "metadata": {},
   "outputs": [
    {
     "data": {
      "text/html": [
       "<div>\n",
       "<style scoped>\n",
       "    .dataframe tbody tr th:only-of-type {\n",
       "        vertical-align: middle;\n",
       "    }\n",
       "\n",
       "    .dataframe tbody tr th {\n",
       "        vertical-align: top;\n",
       "    }\n",
       "\n",
       "    .dataframe thead th {\n",
       "        text-align: right;\n",
       "    }\n",
       "</style>\n",
       "<table border=\"1\" class=\"dataframe\">\n",
       "  <thead>\n",
       "    <tr style=\"text-align: right;\">\n",
       "      <th></th>\n",
       "      <th>등급</th>\n",
       "      <th>등급_인코딩</th>\n",
       "    </tr>\n",
       "  </thead>\n",
       "  <tbody>\n",
       "    <tr>\n",
       "      <th>0</th>\n",
       "      <td>낮음</td>\n",
       "      <td>1</td>\n",
       "    </tr>\n",
       "    <tr>\n",
       "      <th>1</th>\n",
       "      <td>중간</td>\n",
       "      <td>2</td>\n",
       "    </tr>\n",
       "    <tr>\n",
       "      <th>2</th>\n",
       "      <td>높음</td>\n",
       "      <td>3</td>\n",
       "    </tr>\n",
       "    <tr>\n",
       "      <th>3</th>\n",
       "      <td>중간</td>\n",
       "      <td>2</td>\n",
       "    </tr>\n",
       "    <tr>\n",
       "      <th>4</th>\n",
       "      <td>높음</td>\n",
       "      <td>3</td>\n",
       "    </tr>\n",
       "  </tbody>\n",
       "</table>\n",
       "</div>"
      ],
      "text/plain": [
       "   등급  등급_인코딩\n",
       "0  낮음       1\n",
       "1  중간       2\n",
       "2  높음       3\n",
       "3  중간       2\n",
       "4  높음       3"
      ]
     },
     "execution_count": 126,
     "metadata": {},
     "output_type": "execute_result"
    }
   ],
   "source": [
    "#출력\n",
    "df"
   ]
  },
  {
   "cell_type": "code",
   "execution_count": 128,
   "id": "92ef862f-c9f1-4c40-94ea-5c46a44728cc",
   "metadata": {},
   "outputs": [],
   "source": [
    "#사용 예시\n",
    "#순서형 인코딩은 만족도(낮음, 중간, 높음), 등급(A,B,C) 등 순서가 중요한 경우에 적합."
   ]
  },
  {
   "cell_type": "code",
   "execution_count": null,
   "id": "2aff482e-5863-43a0-8a4a-3cfc1d58b497",
   "metadata": {},
   "outputs": [],
   "source": []
  },
  {
   "cell_type": "code",
   "execution_count": 133,
   "id": "e77e5235-1214-416c-a67e-c657858e1d29",
   "metadata": {},
   "outputs": [],
   "source": [
    "#임베딩(Embedding)\n",
    "#임베딩은 딥러닝에서 주로 사용되며, 범주형 데이터를 벡터 공간에 매핑하여 변환.\n",
    "#아눈 툭하 고차원 범주형 데이터에서 유용."
   ]
  },
  {
   "cell_type": "code",
   "execution_count": 136,
   "id": "7a398a62-f118-4dbb-996f-6e587a807b98",
   "metadata": {},
   "outputs": [],
   "source": [
    "#임베딩의 장점\n",
    "# 원-핫 인코딩보다 차원 축소와 메모리 절약 효과가 있으며, 범주 간의 내재된 관계를 학습할 수 있음.\n",
    "\n",
    "#임베딩은 주로 텍스트 데이터에서 단어를 벡터로 변환할 때 사용되며, Keras 등의 라이브러리에서 쉽게 구현할 수 있음."
   ]
  },
  {
   "cell_type": "code",
   "execution_count": null,
   "id": "5f1fc001-4ff9-4c56-ace7-2ecf2d723d65",
   "metadata": {},
   "outputs": [],
   "source": []
  },
  {
   "cell_type": "code",
   "execution_count": 139,
   "id": "2e5e58ff-0d5e-49e1-9f3a-efd644b164ba",
   "metadata": {},
   "outputs": [],
   "source": [
    "#요약\n",
    "#인코딩은 범주형 데이터를 수치형 데이터로 변환하는 과정으로, 머신러닝 모델에서 데이터를 처리하기 위해 필수적.\n",
    "#레이블 인코딩은 순서가 있는 범주형 데이터에 적합하며, 원-핫 인코딩은 순서가 없는 범주형 데이터에 사용됨.\n",
    "#빈도 인코딩은 범주의 출현 빈도를 사용하고, 순서형 인코딩은 순서가 중요한 범주형 데이터에 유용.\n",
    "#임베딩은 딥러닝에서 고차원 범주형 데이터를 처리할 때 주로 사용."
   ]
  }
 ],
 "metadata": {
  "kernelspec": {
   "display_name": "Python 3 (ipykernel)",
   "language": "python",
   "name": "python3"
  },
  "language_info": {
   "codemirror_mode": {
    "name": "ipython",
    "version": 3
   },
   "file_extension": ".py",
   "mimetype": "text/x-python",
   "name": "python",
   "nbconvert_exporter": "python",
   "pygments_lexer": "ipython3",
   "version": "3.12.4"
  }
 },
 "nbformat": 4,
 "nbformat_minor": 5
}
