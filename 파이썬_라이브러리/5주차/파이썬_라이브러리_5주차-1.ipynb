{
 "cells": [
  {
   "cell_type": "code",
   "execution_count": 252,
   "id": "a6e2a9d6-65cf-4c29-a5e4-57100182d958",
   "metadata": {},
   "outputs": [],
   "source": [
    "#데이터 전처리:결측치 탐지와 다양한 처리 방법"
   ]
  },
  {
   "cell_type": "code",
   "execution_count": 254,
   "id": "00b3a069-d1e8-4f8d-b363-0205124d53c5",
   "metadata": {},
   "outputs": [],
   "source": [
    "#결측치 탐지\n",
    "# isna()와 isnull()로 결측치 탐지\n",
    "# isna()와 isnull() 함수는 데이터프레임의 각 요소가 결측치인지 여부를 확인.\n",
    "# 두 함수는 동일한 기능을 함."
   ]
  },
  {
   "cell_type": "code",
   "execution_count": 315,
   "id": "78ace80c-159b-428e-9dbe-4a4be78fc7a6",
   "metadata": {},
   "outputs": [
    {
     "name": "stdout",
     "output_type": "stream",
     "text": [
      "      이름     나이     직업\n",
      "0  False  False  False\n",
      "1  False  False  False\n",
      "2  False   True  False\n",
      "3  False  False   True\n",
      "   이름  나이  직업\n",
      "0   0   0   0\n",
      "1   0   0   0\n",
      "2   0   1   0\n",
      "3   0   0   1\n"
     ]
    }
   ],
   "source": [
    "import pandas as pd\n",
    "\n",
    "#데이터프레임 생성\n",
    "data = {\n",
    "    '이름' : ['철수', '영희', '민수', '지수'],\n",
    "    '나이' : [25,30,None,35],\n",
    "    '직업' : ['학생', '회사원', '학생', None]\n",
    "}\n",
    "df = pd.DataFrame(data)\n",
    "\n",
    "#결측치 여부 확인\n",
    "print(df.isna())\n",
    "\n",
    "# 결측치 여부 확인 (True/False 대신 1/0으로 변환)\n",
    "print(df.isna().astype(int))"
   ]
  },
  {
   "cell_type": "code",
   "execution_count": 258,
   "id": "97363c00-5104-4f14-89bc-ab60439ab374",
   "metadata": {},
   "outputs": [],
   "source": [
    "#결측치가 있는 항목에만 True 출력"
   ]
  },
  {
   "cell_type": "code",
   "execution_count": 260,
   "id": "396c16dd-c785-43f1-aa3b-488cf09f36d9",
   "metadata": {},
   "outputs": [],
   "source": [
    "#sum()을 사용한 결측치 개수 확인\n",
    "#결측치의 총 개수를 확인하려면 isna() 또는 isnull()과 sum()을 조합해 사용."
   ]
  },
  {
   "cell_type": "code",
   "execution_count": 262,
   "id": "feed7648-004f-45f8-a8df-547dcd5c2464",
   "metadata": {},
   "outputs": [
    {
     "name": "stdout",
     "output_type": "stream",
     "text": [
      "이름    0\n",
      "나이    1\n",
      "직업    1\n",
      "dtype: int64\n"
     ]
    }
   ],
   "source": [
    "#각 열별 결측치 개수 확인\n",
    "print(df.isna().sum())"
   ]
  },
  {
   "cell_type": "code",
   "execution_count": 264,
   "id": "a77a1963-82f5-4ab4-b4bd-f6acc4c0d916",
   "metadata": {},
   "outputs": [],
   "source": [
    "#위에 True/False로 출력된 결측치값을 주목\n",
    "#True : 1\n",
    "#False : 0\n",
    "#따라서 결측치 개수가 저렇게 출력"
   ]
  },
  {
   "cell_type": "code",
   "execution_count": null,
   "id": "b245dd6d-d056-44cf-a2f8-aa13ab4315f8",
   "metadata": {},
   "outputs": [],
   "source": []
  },
  {
   "cell_type": "code",
   "execution_count": 267,
   "id": "5da1a350-274e-4df0-a1d1-62f05373c13b",
   "metadata": {},
   "outputs": [],
   "source": [
    "#경측치 처리 방법\n",
    "#결측치를 적절하게 처리하는 방법은 데이터의 특성과 분석 목적에 따라 달라짐."
   ]
  },
  {
   "cell_type": "code",
   "execution_count": 269,
   "id": "9828dce6-5d8d-49fe-bf7c-157cc2482dfa",
   "metadata": {},
   "outputs": [
    {
     "name": "stdout",
     "output_type": "stream",
     "text": [
      "   이름    나이   직업\n",
      "0  철수  25.0   학생\n",
      "1  영희  30.0  회사원\n"
     ]
    }
   ],
   "source": [
    "#결측치 제거\n",
    "#결측치가 포함된 행이나 열을 삭제할 수 있음.\n",
    "#dropna()함수 사용\n",
    "\n",
    "#결측치가 있는 행 제거\n",
    "df_dropna_rows = df.dropna()\n",
    "print(df_dropna_rows)"
   ]
  },
  {
   "cell_type": "code",
   "execution_count": 271,
   "id": "493b2100-83a3-47e6-a3b5-c437ea1180dc",
   "metadata": {},
   "outputs": [
    {
     "name": "stdout",
     "output_type": "stream",
     "text": [
      "   이름    나이   직업\n",
      "0  철수  25.0   학생\n",
      "1  영희  30.0  회사원\n"
     ]
    }
   ],
   "source": [
    "#결측치가 있는 행을 제거하고자 하는 경우 (axis=0)\n",
    "df_dropna_columns = df.dropna(axis=0)\n",
    "print(df_dropna_columns)"
   ]
  },
  {
   "cell_type": "code",
   "execution_count": 273,
   "id": "d5140de8-9197-4f1d-bca4-e760d17d1c3f",
   "metadata": {},
   "outputs": [
    {
     "name": "stdout",
     "output_type": "stream",
     "text": [
      "   이름\n",
      "0  철수\n",
      "1  영희\n",
      "2  민수\n",
      "3  지수\n"
     ]
    }
   ],
   "source": [
    "#결측치가 있는 열을 제거하고자 하는 경우 (axis=1)\n",
    "df_dropna_rows = df.dropna(axis=1)\n",
    "print(df_dropna_rows)"
   ]
  },
  {
   "cell_type": "code",
   "execution_count": 275,
   "id": "50e585a8-8ec5-4bf2-a79a-cd9e3acbf29f",
   "metadata": {},
   "outputs": [
    {
     "name": "stdout",
     "output_type": "stream",
     "text": [
      "   이름    나이   직업\n",
      "0  철수  25.0   학생\n",
      "1  영희  30.0  회사원\n",
      "2  민수    없음   학생\n",
      "3  지수  35.0   없음\n"
     ]
    }
   ],
   "source": [
    "#결측치 대체(채우기)\n",
    "#결측치를 특정 값으로 대체(채우기) 가능.\n",
    "#fillna() 함수 사용.\n",
    "\n",
    "#결측치를 '없음'으로 대체\n",
    "df_filled = df.fillna('없음')\n",
    "print(df_filled)"
   ]
  },
  {
   "cell_type": "code",
   "execution_count": 277,
   "id": "bb4c3655-3772-48c8-abaf-5937a5e10d44",
   "metadata": {},
   "outputs": [],
   "source": [
    "#평균, 중앙값, 최빈값 등으로 결측치를 채울 수 있음."
   ]
  },
  {
   "cell_type": "code",
   "execution_count": 279,
   "id": "04aa6862-3f7c-49c3-8dbd-2baf65b23794",
   "metadata": {},
   "outputs": [],
   "source": [
    "# '나이' 열의 결측치를 평균값으로 대체\n",
    "df['나이'] = df['나이'].fillna(df['나이'].mean())"
   ]
  },
  {
   "cell_type": "code",
   "execution_count": 281,
   "id": "05ff937a-ff84-47c1-9b2c-77ae9e940a9b",
   "metadata": {},
   "outputs": [
    {
     "name": "stdout",
     "output_type": "stream",
     "text": [
      "   이름    나이    직업\n",
      "0  철수  25.0    학생\n",
      "1  영희  30.0   회사원\n",
      "2  민수  30.0    학생\n",
      "3  지수  35.0  None\n"
     ]
    }
   ],
   "source": [
    "print(df)"
   ]
  },
  {
   "cell_type": "code",
   "execution_count": null,
   "id": "abbea822-ee8a-4d63-9328-989f1c4ed3ae",
   "metadata": {},
   "outputs": [],
   "source": []
  },
  {
   "cell_type": "code",
   "execution_count": 284,
   "id": "c660fe06-aadb-4ea6-9288-15c6b6305705",
   "metadata": {},
   "outputs": [],
   "source": [
    "#결측치 보간(Interpolation\n",
    "#결측치를 주변 값들을 기반으로 추정하여 보간할 수 있음.\n",
    "#interpolate() 함수를 사용.\n",
    "#특히 시간 데이터를 다룰 때 유용."
   ]
  },
  {
   "cell_type": "code",
   "execution_count": 286,
   "id": "7b0e3ff5-5201-4dd4-a261-cf492622be63",
   "metadata": {},
   "outputs": [
    {
     "name": "stdout",
     "output_type": "stream",
     "text": [
      "          날짜    온도\n",
      "0 2023-01-01  20.0\n",
      "1 2023-01-02  22.0\n",
      "2 2023-01-03  23.0\n",
      "3 2023-01-04  24.0\n",
      "4 2023-01-05  25.0\n"
     ]
    }
   ],
   "source": [
    "#예시 데이터프레임 생성\n",
    "data = {\n",
    "    '날짜' : pd.date_range('2023-01-01', periods=5),\n",
    "    '온도' : [20, 22, None, 24, 25]\n",
    "}\n",
    "df2 = pd.DataFrame(data)\n",
    "\n",
    "#선형 보간법으로 결측치 채우기\n",
    "df2['온도'] = df2['온도'].interpolate()\n",
    "print(df2)"
   ]
  },
  {
   "cell_type": "code",
   "execution_count": null,
   "id": "cc5c4b2e-fa23-4592-8703-54b5c0ba357d",
   "metadata": {},
   "outputs": [],
   "source": []
  },
  {
   "cell_type": "code",
   "execution_count": 289,
   "id": "047703e4-2c96-4035-9854-0e8c5e8fed85",
   "metadata": {},
   "outputs": [],
   "source": [
    "#고급 결측치 처리 방법"
   ]
  },
  {
   "cell_type": "code",
   "execution_count": 291,
   "id": "eb61c387-db7f-470a-a80c-869b076aad56",
   "metadata": {},
   "outputs": [],
   "source": [
    "#특정 조건을 기반으로 결측치 처리\n",
    "#특정 조건을 기반으로 결측치를 처리할 수도 있음.\n",
    "#예를 들어, 다른 열의 값을 기준으로 결측치를 채우는 방법."
   ]
  },
  {
   "cell_type": "code",
   "execution_count": 293,
   "id": "f2443c85-0668-4b24-a73d-200d673f5370",
   "metadata": {},
   "outputs": [
    {
     "name": "stdout",
     "output_type": "stream",
     "text": [
      "   이름    나이    직업\n",
      "0  철수  25.0    학생\n",
      "1  영희  30.0   회사원\n",
      "2  민수  20.0    학생\n",
      "3  지수  35.0  None\n"
     ]
    }
   ],
   "source": [
    "#'직업'이 '학생'이 아닌 경우 '나이'를 20으로 채우기\n",
    "\n",
    "#데이터프레임 생성\n",
    "data = {\n",
    "    '이름' : ['철수', '영희', '민수', '지수'],\n",
    "    '나이' : [25,30,None,35],\n",
    "    '직업' : ['학생', '회사원', '학생', None]\n",
    "}\n",
    "df = pd.DataFrame(data)\n",
    "\n",
    "df.loc[(df['직업'] == '학생') & (df['나이'].isna()), '나이'] = 20\n",
    "print(df)"
   ]
  },
  {
   "cell_type": "code",
   "execution_count": null,
   "id": "1871cc2a-1bd1-464f-8b30-94465c127c18",
   "metadata": {},
   "outputs": [],
   "source": []
  },
  {
   "cell_type": "code",
   "execution_count": 296,
   "id": "f0f3e151-494a-48c8-bb0d-bc1674fbe240",
   "metadata": {},
   "outputs": [],
   "source": [
    "#apply()를 사용한 사용자 정의 함수 적용\n",
    "# apply() 함수를 사용해 결측치를 처리하는 사용자 정의 함수를 적용할 수 있음."
   ]
  },
  {
   "cell_type": "code",
   "execution_count": 307,
   "id": "30910d1c-61b6-4440-bc47-29f4d4962638",
   "metadata": {},
   "outputs": [
    {
     "name": "stdout",
     "output_type": "stream",
     "text": [
      "   이름    나이    직업\n",
      "0  철수  25.0    학생\n",
      "1  영희  30.0   회사원\n",
      "2  민수  18.0    학생\n",
      "3  지수  35.0  None\n"
     ]
    }
   ],
   "source": [
    "#예시: '나이'가 결측치일 경우, 기본값으로 18을 채우는 함수\n",
    "\n",
    "# 데이터프레임 생성: 각 사람의 이름, 나이, 직업을 가진 데이터프레임 생성\n",
    "data = {\n",
    "    '이름' : ['철수', '영희', '민수', '지수'],  # 이름 컬럼\n",
    "    '나이' : [25, 30, None, 35],               # 나이 컬럼, '민수'의 나이는 결측치(None)\n",
    "    '직업' : ['학생', '회사원', '학생', None]   # 직업 컬럼, '지수'의 직업은 결측치(None)\n",
    "}\n",
    "df = pd.DataFrame(data)  # 데이터프레임 생성\n",
    "\n",
    "# '나이'가 결측치일 경우 기본값 18로 대체하는 함수 정의\n",
    "def fill_missing_age(x):\n",
    "    if pd.isna(x):   # 입력값이 결측치(NaN, None)인지 확인\n",
    "        return 18    # 결측치라면 기본값 18 반환\n",
    "    return x         # 결측치가 아니면 원래 값 반환\n",
    "\n",
    "# '나이' 컬럼에 결측치 처리 함수 적용\n",
    "df['나이'] = df['나이'].apply(fill_missing_age)  # 각 '나이' 값을 순회하며 결측치는 18로 대체\n",
    "\n",
    "# 최종 데이터프레임 출력\n",
    "print(df)  # 결측치가 처리된 데이터프레임 출력\n"
   ]
  },
  {
   "cell_type": "code",
   "execution_count": null,
   "id": "7c615e79-b180-48c9-8955-a98897152f38",
   "metadata": {},
   "outputs": [],
   "source": []
  },
  {
   "cell_type": "code",
   "execution_count": null,
   "id": "88b27891-7cad-4965-a41f-b69a6e52e2f0",
   "metadata": {},
   "outputs": [],
   "source": [
    "#요약\n",
    "#결측치 탐지는 isna()와 isnull()을 사용해 수행하며, sum()을 통해 열별 결측치 개수를 확인할 수 있음.\n",
    "#결측치 처리 방법으로는 행 또는 열 삭제(dropna()), 특정 값으로 채우기 (fillna()), 보간법(interpolite()), 조건 기반 처리 및 사용자 정의 함수 적용 등이 있음."
   ]
  }
 ],
 "metadata": {
  "kernelspec": {
   "display_name": "Python 3 (ipykernel)",
   "language": "python",
   "name": "python3"
  },
  "language_info": {
   "codemirror_mode": {
    "name": "ipython",
    "version": 3
   },
   "file_extension": ".py",
   "mimetype": "text/x-python",
   "name": "python",
   "nbconvert_exporter": "python",
   "pygments_lexer": "ipython3",
   "version": "3.12.4"
  }
 },
 "nbformat": 4,
 "nbformat_minor": 5
}
