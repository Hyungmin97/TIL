{
 "cells": [
  {
   "cell_type": "code",
   "execution_count": 1,
   "id": "b9043378-5510-4fb0-b106-c605b0fb14cf",
   "metadata": {},
   "outputs": [],
   "source": [
    "#데이터 변형해보기: 그룹화 및 집계, 피벗테이블"
   ]
  },
  {
   "cell_type": "code",
   "execution_count": 3,
   "id": "ee6e225f-f0e3-4b3f-bf90-772c92b3991f",
   "metadata": {},
   "outputs": [],
   "source": [
    "#데이터 그룹화는 데이터를 특정 기준에 따라 그룹으로 나누고, 집계는 각 그룹에 대해 요약 통계를 계산하는 과정.\n",
    "#pandas에서는 groupby()와 집계함수들을 사용해 이를 손쉽게 수행할 수 있음."
   ]
  },
  {
   "cell_type": "code",
   "execution_count": null,
   "id": "0b5458d8-02f5-4fbe-91e3-4641c1cc5395",
   "metadata": {},
   "outputs": [],
   "source": []
  },
  {
   "cell_type": "code",
   "execution_count": 12,
   "id": "d72236b5-6e09-4b8f-b731-a2db112daa2d",
   "metadata": {},
   "outputs": [],
   "source": [
    "#groupby()를 사용한 그룹화\n",
    "#groupby() 함수는 데이터를 특정 열을 기준으로 그룹화함.\n",
    "\n",
    "import pandas as pd\n",
    "\n",
    "#예시 데이터프레임 생성\n",
    "data = {\n",
    "    '이름' : ['철수', '영희', '민수', '지수', '철수', '영희'],\n",
    "    '과목': ['수학', '수학', '과학', '과학', '영어', '영어'],\n",
    "    '점수': [90, 85, 95, 80, 75, 88]\n",
    "}\n",
    "df = pd.DataFrame(data)\n",
    "\n",
    "#'이름'을 기준으로 그룹화\n",
    "grouped = df.groupby('이름')"
   ]
  },
  {
   "cell_type": "code",
   "execution_count": 15,
   "id": "6c19197a-b99c-4b26-9f88-adcd22ea8be2",
   "metadata": {},
   "outputs": [
    {
     "name": "stdout",
     "output_type": "stream",
     "text": [
      "이름\n",
      "민수    95.0\n",
      "영희    86.5\n",
      "지수    80.0\n",
      "철수    82.5\n",
      "Name: 점수, dtype: float64\n"
     ]
    }
   ],
   "source": [
    "#집계 함수 사용하기\n",
    "#그룹화한 데이터에 대해 다양한 집계함수(mean, sum, count 등)를 사용할 수 있습니다.\n",
    "\n",
    "#각 학생의 평균 점수 계산\n",
    "mean_scores = grouped['점수'].mean()\n",
    "print(mean_scores)"
   ]
  },
  {
   "cell_type": "code",
   "execution_count": 17,
   "id": "8d74b2c3-279b-4223-af3e-077f5cfe9b4c",
   "metadata": {},
   "outputs": [
    {
     "name": "stdout",
     "output_type": "stream",
     "text": [
      "    sum  mean\n",
      "이름           \n",
      "민수   95  95.0\n",
      "영희  173  86.5\n",
      "지수   80  80.0\n",
      "철수  165  82.5\n"
     ]
    }
   ],
   "source": [
    "#여러 집계 함수를 동시에 사용할 수도 있음.\n",
    "\n",
    "#각 학생의 점수 합계와 평균 계산\n",
    "agg_scores = grouped['점수'].agg(['sum', 'mean'])\n",
    "print(agg_scores)"
   ]
  },
  {
   "cell_type": "code",
   "execution_count": 19,
   "id": "107fae19-0b55-40a1-b37e-4e2cfa8ad00f",
   "metadata": {},
   "outputs": [],
   "source": [
    "#agg(): 집계 함수(aggregation function)를 적용하는 메서드로, 하나 이상의 함수를 적용할 수 있습니다."
   ]
  },
  {
   "cell_type": "code",
   "execution_count": 21,
   "id": "42faf70d-952a-4ec4-b05c-d6b2e3f640a8",
   "metadata": {},
   "outputs": [
    {
     "name": "stdout",
     "output_type": "stream",
     "text": [
      "이름  과목\n",
      "민수  과학    95\n",
      "영희  수학    85\n",
      "    영어    88\n",
      "지수  과학    80\n",
      "철수  수학    90\n",
      "    영어    75\n",
      "Name: 점수, dtype: int64\n"
     ]
    }
   ],
   "source": [
    "#여러 열을 기준으로 그룹화하기\n",
    "\n",
    "#'이름'과 '과목'을 기준으로 그룹화하여 점수 합계 계산\n",
    "grouped_multi = df.groupby(['이름', '과목'])['점수'].sum()\n",
    "print(grouped_multi)"
   ]
  },
  {
   "cell_type": "code",
   "execution_count": null,
   "id": "c8e16a34-2911-4f79-aa8e-7d30c4c1bb56",
   "metadata": {},
   "outputs": [],
   "source": []
  },
  {
   "cell_type": "code",
   "execution_count": 24,
   "id": "7ec9e72b-c0c9-4238-938c-0e17fa239d0c",
   "metadata": {},
   "outputs": [],
   "source": [
    "#피벗테이블 사용하기"
   ]
  },
  {
   "cell_type": "code",
   "execution_count": 26,
   "id": "d1deade5-2d9a-437e-8720-685e4f7e1e09",
   "metadata": {},
   "outputs": [
    {
     "name": "stdout",
     "output_type": "stream",
     "text": [
      "과목    과학    수학    영어\n",
      "이름                  \n",
      "민수  95.0   NaN   NaN\n",
      "영희   NaN  85.0  88.0\n",
      "지수  80.0   NaN   NaN\n",
      "철수   NaN  90.0  75.0\n"
     ]
    }
   ],
   "source": [
    "#pivot_table() 기본 사용법\n",
    "#pivot_table() 함수는 데이터를 요약하고, 특정 기준에 따라 재구조화함.\n",
    "\n",
    "#피벗테이블 생성: '이름'을 인덱스로, '과목'을 컬럼으로 하여 점수의 평균 계산\n",
    "pivot = pd.pivot_table(df, index='이름', columns = '과목', values='점수', aggfunc='mean')\n",
    "print(pivot)"
   ]
  },
  {
   "cell_type": "code",
   "execution_count": 28,
   "id": "1514d061-4d9e-4771-ba9f-a9fdb5fb0d1e",
   "metadata": {},
   "outputs": [
    {
     "name": "stdout",
     "output_type": "stream",
     "text": [
      "     sum              mean            \n",
      "과목    과학    수학    영어    과학    수학    영어\n",
      "이름                                    \n",
      "민수  95.0   NaN   NaN  95.0   NaN   NaN\n",
      "영희   NaN  85.0  88.0   NaN  85.0  88.0\n",
      "지수  80.0   NaN   NaN  80.0   NaN   NaN\n",
      "철수   NaN  90.0  75.0   NaN  90.0  75.0\n"
     ]
    }
   ],
   "source": [
    "#여러 집계 함수 사용하기\n",
    "#aggfunc에 여러 집계 함수를 지정하면, 다양한 요약 통계를 얻을 수 있음.\n",
    "\n",
    "#점수의 합게와 평균을 계산하는 피벗테이블 생성\n",
    "pivot_table = pd.pivot_table(df, index='이름', columns = '과목', values = '점수', aggfunc = ['sum', 'mean'])\n",
    "print(pivot_table)"
   ]
  },
  {
   "cell_type": "code",
   "execution_count": 38,
   "id": "86357f2e-b5e8-4c41-9380-cce6269b1e3f",
   "metadata": {},
   "outputs": [
    {
     "name": "stdout",
     "output_type": "stream",
     "text": [
      "과목      과학     수학     영어  All\n",
      "이름                           \n",
      "민수    95.0    NaN    NaN   95\n",
      "영희     NaN   85.0   88.0  173\n",
      "지수    80.0    NaN    NaN   80\n",
      "철수     NaN   90.0   75.0  165\n",
      "All  175.0  175.0  163.0  513\n"
     ]
    }
   ],
   "source": [
    "#margins 옵션을 사용해 전체 합계 추가하기\n",
    "#margins = True 옵션을 사용하면, 각 행과 열의 합계가 추가된 피벗테이블을 생성할 수 있음.\n",
    "\n",
    "#각 이름별, 과목별 총합을 포함한 피벗테이블 생성\n",
    "pivot_with_totals = pd.pivot_table(df, index='이름', columns='과목', values = '점수', aggfunc ='sum', margins = True)\n",
    "print(pivot_with_totals)"
   ]
  },
  {
   "cell_type": "code",
   "execution_count": 40,
   "id": "38712d6f-8858-47d5-908e-a6a65ca9c17d",
   "metadata": {},
   "outputs": [],
   "source": [
    "# margins=False로 설정하면, 행(row)과 열(column)의 총합계를 포함하지 않은 피벗 테이블이 생성\n",
    "# margins=True로 설정 시, 행(row)과 열(column)의 총합계를 포함된 피벗 테이블이 생성"
   ]
  },
  {
   "cell_type": "code",
   "execution_count": null,
   "id": "abf463ee-f527-446b-973b-5bdf453b14b1",
   "metadata": {},
   "outputs": [],
   "source": []
  },
  {
   "cell_type": "code",
   "execution_count": null,
   "id": "8ec06f58-5e2d-42cf-9f7c-6eddb7b192aa",
   "metadata": {},
   "outputs": [],
   "source": [
    "#요약\n",
    "#그룹화는 groupby()를 사용해 데이터를 특정 기준에 따라 그룹으로 나누고, 집계함수를 사용해 각 그룹에 대한 통계를 계산 가능\n",
    "# 피벗테이블은 pivot_tavle()을 사용해 데이터를 요약하고 재구조화할 수 있으며, 여러 집계함수와 margins 옵션을 통해 전체 합계를 포함할 수 있음."
   ]
  }
 ],
 "metadata": {
  "kernelspec": {
   "display_name": "Python 3 (ipykernel)",
   "language": "python",
   "name": "python3"
  },
  "language_info": {
   "codemirror_mode": {
    "name": "ipython",
    "version": 3
   },
   "file_extension": ".py",
   "mimetype": "text/x-python",
   "name": "python",
   "nbconvert_exporter": "python",
   "pygments_lexer": "ipython3",
   "version": "3.12.4"
  }
 },
 "nbformat": 4,
 "nbformat_minor": 5
}
