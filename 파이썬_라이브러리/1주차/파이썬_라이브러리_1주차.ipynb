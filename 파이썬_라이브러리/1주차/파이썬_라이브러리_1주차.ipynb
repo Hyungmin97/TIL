{
 "cells": [
  {
   "cell_type": "code",
   "execution_count": 13,
   "id": "5ee11bac-8769-4459-9dac-cd9581496956",
   "metadata": {},
   "outputs": [],
   "source": [
    "import pandas as pd"
   ]
  },
  {
   "cell_type": "code",
   "execution_count": 15,
   "id": "889296a6-bdf5-43f5-938c-d5f0044ec416",
   "metadata": {},
   "outputs": [],
   "source": [
    "#예시: 시리즈 생성\n",
    "s = pd.Series([10,20,30,40], index=['a','b','c','d'])"
   ]
  },
  {
   "cell_type": "code",
   "execution_count": 17,
   "id": "138ef17b-ba26-406a-b0a6-2d812325c4bb",
   "metadata": {},
   "outputs": [
    {
     "data": {
      "text/plain": [
       "a    10\n",
       "b    20\n",
       "c    30\n",
       "d    40\n",
       "dtype: int64"
      ]
     },
     "execution_count": 17,
     "metadata": {},
     "output_type": "execute_result"
    }
   ],
   "source": [
    "#출력 시, 인덱스와 데이터 값이 쌍으로 구성\n",
    "s"
   ]
  },
  {
   "cell_type": "code",
   "execution_count": 19,
   "id": "be032a15-ad0c-473b-ab22-176686df6dca",
   "metadata": {},
   "outputs": [],
   "source": [
    "#시리즈는 1차원 배열과 같은 데이터 구조"
   ]
  },
  {
   "cell_type": "code",
   "execution_count": null,
   "id": "adfcb0b6-476a-42ee-8a2a-ab859147a63b",
   "metadata": {},
   "outputs": [],
   "source": []
  },
  {
   "cell_type": "code",
   "execution_count": 22,
   "id": "99ae8d42-a045-4952-a7aa-bffb5da995fd",
   "metadata": {},
   "outputs": [],
   "source": [
    "#데이터프레임"
   ]
  },
  {
   "cell_type": "code",
   "execution_count": 28,
   "id": "6a733c2a-33ad-43d6-8b52-e5206ba6cb79",
   "metadata": {},
   "outputs": [],
   "source": [
    "#데이터 프레임 생성\n",
    "data = {\n",
    "    '이름': ['철수','영희','민수'],\n",
    "    '나이': [25,30,35],\n",
    "    '직업': ['학생','회사원','프리랜서']\n",
    "}\n",
    "\n",
    "df=pd.DataFrame(data)"
   ]
  },
  {
   "cell_type": "code",
   "execution_count": 30,
   "id": "022988b8-2001-470c-9b6c-bfe41de489ce",
   "metadata": {},
   "outputs": [
    {
     "data": {
      "text/html": [
       "<div>\n",
       "<style scoped>\n",
       "    .dataframe tbody tr th:only-of-type {\n",
       "        vertical-align: middle;\n",
       "    }\n",
       "\n",
       "    .dataframe tbody tr th {\n",
       "        vertical-align: top;\n",
       "    }\n",
       "\n",
       "    .dataframe thead th {\n",
       "        text-align: right;\n",
       "    }\n",
       "</style>\n",
       "<table border=\"1\" class=\"dataframe\">\n",
       "  <thead>\n",
       "    <tr style=\"text-align: right;\">\n",
       "      <th></th>\n",
       "      <th>이름</th>\n",
       "      <th>나이</th>\n",
       "      <th>직업</th>\n",
       "    </tr>\n",
       "  </thead>\n",
       "  <tbody>\n",
       "    <tr>\n",
       "      <th>0</th>\n",
       "      <td>철수</td>\n",
       "      <td>25</td>\n",
       "      <td>학생</td>\n",
       "    </tr>\n",
       "    <tr>\n",
       "      <th>1</th>\n",
       "      <td>영희</td>\n",
       "      <td>30</td>\n",
       "      <td>회사원</td>\n",
       "    </tr>\n",
       "    <tr>\n",
       "      <th>2</th>\n",
       "      <td>민수</td>\n",
       "      <td>35</td>\n",
       "      <td>프리랜서</td>\n",
       "    </tr>\n",
       "  </tbody>\n",
       "</table>\n",
       "</div>"
      ],
      "text/plain": [
       "   이름  나이    직업\n",
       "0  철수  25    학생\n",
       "1  영희  30   회사원\n",
       "2  민수  35  프리랜서"
      ]
     },
     "execution_count": 30,
     "metadata": {},
     "output_type": "execute_result"
    }
   ],
   "source": [
    "df"
   ]
  },
  {
   "cell_type": "code",
   "execution_count": 32,
   "id": "7f16248e-18c7-43c9-9ecc-e5187f3e5430",
   "metadata": {},
   "outputs": [],
   "source": [
    "#데이터 프레임은 2차원 표 형태 데이터 구조\n",
    "#여러 개의 시리즈가 모여서 만들어짐"
   ]
  },
  {
   "cell_type": "code",
   "execution_count": null,
   "id": "38d2f06e-154b-4953-9e27-0a02e922bcae",
   "metadata": {},
   "outputs": [],
   "source": []
  },
  {
   "cell_type": "code",
   "execution_count": 35,
   "id": "e70a82b3-fd38-4da9-9ea9-a60033c903c6",
   "metadata": {},
   "outputs": [],
   "source": [
    "#데이터 프레임에서 시리즈 다루기"
   ]
  },
  {
   "cell_type": "code",
   "execution_count": 531,
   "id": "f4352069-e534-4e99-99fe-84e5c6dd38fa",
   "metadata": {},
   "outputs": [
    {
     "name": "stdout",
     "output_type": "stream",
     "text": [
      "0    25\n",
      "1    30\n",
      "2    35\n",
      "Name: 나이, dtype: int64\n"
     ]
    }
   ],
   "source": [
    "age_series = df['나이']\n",
    "print(age_series)"
   ]
  },
  {
   "cell_type": "code",
   "execution_count": 533,
   "id": "f854f514-ab25-45e2-ac58-0f8f2ac8bb7b",
   "metadata": {},
   "outputs": [],
   "source": [
    "#데이터 프레임의 열을 선택할 때, 문자열을 사용하면 시리즈가 반환됨.\n",
    "#중복된 인덱스가 있을 때는 시리즈가 복잡해질 수 있으니, 유일한 인덱스를 사용하는 것이 좋음."
   ]
  }
 ],
 "metadata": {
  "kernelspec": {
   "display_name": "Python 3 (ipykernel)",
   "language": "python",
   "name": "python3"
  },
  "language_info": {
   "codemirror_mode": {
    "name": "ipython",
    "version": 3
   },
   "file_extension": ".py",
   "mimetype": "text/x-python",
   "name": "python",
   "nbconvert_exporter": "python",
   "pygments_lexer": "ipython3",
   "version": "3.12.4"
  }
 },
 "nbformat": 4,
 "nbformat_minor": 5
}
