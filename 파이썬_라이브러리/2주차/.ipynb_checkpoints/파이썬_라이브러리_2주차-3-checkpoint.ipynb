{
 "cells": [
  {
   "cell_type": "code",
   "execution_count": 3,
   "id": "bc729da6-efaf-4ea3-927d-22ed71fc861b",
   "metadata": {},
   "outputs": [],
   "source": [
    "#배열 연산 및 브로드캐스팅\n",
    "#NumPy에서 배열 간의 연산을 매우 효율적으로 수행할 수 있음.\n",
    "#특히 브로드캐스팅 기능은 크기가 다른 배열 간의 연산을 가능하게 해줌."
   ]
  },
  {
   "cell_type": "code",
   "execution_count": 7,
   "id": "924faadb-e8ee-434e-9d9f-23f006eb28db",
   "metadata": {},
   "outputs": [],
   "source": [
    "#배열 간의 기본 연산\n",
    "#NumPy 배열 간의 덧셈, 뺄셈, 곱셈, 나눗셈 모두 요소별(element-wise)로 수행됨."
   ]
  },
  {
   "cell_type": "code",
   "execution_count": 11,
   "id": "1cea5240-6a08-4c02-a7ea-34101aec9766",
   "metadata": {},
   "outputs": [
    {
     "name": "stdout",
     "output_type": "stream",
     "text": [
      "[5 7 9]\n",
      "[ 4 10 18]\n"
     ]
    }
   ],
   "source": [
    "import numpy as np\n",
    "\n",
    "arr1 = np.array([1,2,3])\n",
    "arr2 = np.array([4,5,6])\n",
    "\n",
    "#덧셈\n",
    "add_result = arr1 + arr2\n",
    "print(add_result)\n",
    "\n",
    "#곱셈\n",
    "mul_result = arr1 * arr2\n",
    "print(mul_result)"
   ]
  },
  {
   "cell_type": "code",
   "execution_count": 13,
   "id": "7587ec1c-d01c-414b-bab6-973c23e04d40",
   "metadata": {},
   "outputs": [],
   "source": [
    "# 배열 간의 연산이 진행될 때에는 같은 위치에 있는 항목끼리 연산이 진횅됨."
   ]
  },
  {
   "cell_type": "code",
   "execution_count": null,
   "id": "90367a9b-c3b1-43e0-9e2d-f671e58cbdcd",
   "metadata": {},
   "outputs": [],
   "source": []
  },
  {
   "cell_type": "code",
   "execution_count": 16,
   "id": "f03fe8e8-2b37-4fcd-98e6-0f22fb449dad",
   "metadata": {},
   "outputs": [],
   "source": [
    "#브로드캐스팅(Broadcasting)\n",
    "#작은 배열이 큰 배열의 형태에 맞게 자동으로 확장되어 연산이 이루어지는 것을 의미."
   ]
  },
  {
   "cell_type": "code",
   "execution_count": 18,
   "id": "31c6eda6-33b8-4fbc-b8e1-9a70b933d011",
   "metadata": {},
   "outputs": [
    {
     "name": "stdout",
     "output_type": "stream",
     "text": [
      "[[11 12 13]\n",
      " [21 22 23]\n",
      " [31 32 33]]\n"
     ]
    }
   ],
   "source": [
    "#서로 다른 크기의 배열 간에도 연산 가능.\n",
    "#작은 배열이 자동으로 확장되어 연산.\n",
    "\n",
    "arr1 = np.array([1,2,3])\n",
    "arr2 = np.array([[10], [20], [30]])\n",
    "\n",
    "#브로드캐스팅을 이용한 덧셈\n",
    "broadcast_result = arr1 + arr2\n",
    "print(broadcast_result)"
   ]
  },
  {
   "cell_type": "code",
   "execution_count": null,
   "id": "4bb13a27-ba53-494b-86d6-ac711b862a75",
   "metadata": {},
   "outputs": [],
   "source": []
  },
  {
   "cell_type": "code",
   "execution_count": 21,
   "id": "c433d2d2-56ac-4257-9366-164702cc103b",
   "metadata": {},
   "outputs": [],
   "source": [
    "#기본적인 수학 함수와 통계 함수\n",
    "#NumPy는 배열을 다룰 때 자주 사용하는 다양한 수학 함수와 통계 함수를 제공."
   ]
  },
  {
   "cell_type": "code",
   "execution_count": 25,
   "id": "bb5edd6f-3d17-4264-9b2e-c741cf6f6534",
   "metadata": {},
   "outputs": [
    {
     "name": "stdout",
     "output_type": "stream",
     "text": [
      "10\n",
      "24\n"
     ]
    }
   ],
   "source": [
    "#기본적인 수학 함수\n",
    "#배열의 합(sum)과 곱(prod)\n",
    "\n",
    "arr = np.array([1,2,3,4])\n",
    "\n",
    "#합계\n",
    "sum_result = np.sum(arr)\n",
    "print(sum_result)\n",
    "\n",
    "#곱\n",
    "prod_result = np.prod(arr)\n",
    "print(prod_result)"
   ]
  },
  {
   "cell_type": "code",
   "execution_count": null,
   "id": "42e9589f-87d1-4795-a60f-22279d63255f",
   "metadata": {},
   "outputs": [],
   "source": []
  },
  {
   "cell_type": "code",
   "execution_count": 28,
   "id": "d7c44d72-eb0d-4278-a3d6-26a0bfbcbe99",
   "metadata": {},
   "outputs": [
    {
     "name": "stdout",
     "output_type": "stream",
     "text": [
      "[1.         1.41421356 1.73205081 2.        ]\n",
      "[0.         0.69314718 1.09861229 1.38629436]\n"
     ]
    }
   ],
   "source": [
    "#제곱근과 로그\n",
    "\n",
    "#제곱근\n",
    "sqrt_result = np.sqrt(arr)\n",
    "print(sqrt_result)\n",
    "\n",
    "#로그\n",
    "log_result = np.log(arr)\n",
    "print(log_result)"
   ]
  },
  {
   "cell_type": "code",
   "execution_count": null,
   "id": "7af17d22-9d46-4ef1-8262-56c69eb5b0bf",
   "metadata": {},
   "outputs": [],
   "source": []
  },
  {
   "cell_type": "code",
   "execution_count": 31,
   "id": "d39865e9-2628-4ec3-b202-e3fed3afbdad",
   "metadata": {},
   "outputs": [
    {
     "name": "stdout",
     "output_type": "stream",
     "text": [
      "3.0\n",
      "3.0\n",
      "1.4142135623730951\n"
     ]
    }
   ],
   "source": [
    "#기본적인 통계 함수\n",
    "#평균(mean), 중간값(median), 표준편자(std)\n",
    "\n",
    "arr = np.array([1,2,3,4,5])\n",
    "\n",
    "#평균(mean)\n",
    "mean_result = np.mean(arr)\n",
    "print(mean_result)\n",
    "\n",
    "#중간값(median)\n",
    "median_result = np.median(arr)\n",
    "print(median_result)\n",
    "\n",
    "#표준편자(std)\n",
    "std_result = np.std(arr)\n",
    "print(std_result)"
   ]
  },
  {
   "cell_type": "code",
   "execution_count": null,
   "id": "d58a8fcb-1825-4894-bbf5-cf5e6444beb6",
   "metadata": {},
   "outputs": [],
   "source": []
  },
  {
   "cell_type": "code",
   "execution_count": 36,
   "id": "5898c504-6030-4168-a981-e1a60d4a873e",
   "metadata": {},
   "outputs": [
    {
     "name": "stdout",
     "output_type": "stream",
     "text": [
      "7\n",
      "1\n"
     ]
    }
   ],
   "source": [
    "#최댓값(max)과 최소값(min)\n",
    "\n",
    "arr = np.array([1,3,2,7,5])\n",
    "\n",
    "#최댓값\n",
    "max_result = np.max(arr)\n",
    "print(max_result)\n",
    "\n",
    "#최소값\n",
    "min_result = np.min(arr)\n",
    "print(min_result)"
   ]
  },
  {
   "cell_type": "code",
   "execution_count": null,
   "id": "b7ea705d-a56a-4db3-a61b-92514bd9bae4",
   "metadata": {},
   "outputs": [],
   "source": []
  },
  {
   "cell_type": "code",
   "execution_count": null,
   "id": "fc6332ad-a2ce-4364-b3cd-b1f171e19a3b",
   "metadata": {},
   "outputs": [],
   "source": [
    "#배열 간 연산은 요소 별로 수행되며, 크기가 다른 배열 간에도 브로드캐스팅을 통해 연산 가능"
   ]
  }
 ],
 "metadata": {
  "kernelspec": {
   "display_name": "Python 3 (ipykernel)",
   "language": "python",
   "name": "python3"
  },
  "language_info": {
   "codemirror_mode": {
    "name": "ipython",
    "version": 3
   },
   "file_extension": ".py",
   "mimetype": "text/x-python",
   "name": "python",
   "nbconvert_exporter": "python",
   "pygments_lexer": "ipython3",
   "version": "3.12.4"
  }
 },
 "nbformat": 4,
 "nbformat_minor": 5
}
