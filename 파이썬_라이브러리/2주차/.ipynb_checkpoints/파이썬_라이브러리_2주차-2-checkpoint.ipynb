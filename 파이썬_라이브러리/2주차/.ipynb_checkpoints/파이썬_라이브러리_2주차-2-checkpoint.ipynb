{
 "cells": [
  {
   "cell_type": "code",
   "execution_count": 1,
   "id": "9f5960af-3eff-436e-8596-ec3af7b436ac",
   "metadata": {},
   "outputs": [],
   "source": [
    "#Numpy 배열(array) 생성하기\n",
    "\n",
    "import numpy as np\n",
    "\n",
    "#리스트로부터 배열 생성\n",
    "arr = np.array([1,2,3,4,5])"
   ]
  },
  {
   "cell_type": "code",
   "execution_count": 3,
   "id": "3273205d-1ea4-4adb-8d18-969ddc7e542b",
   "metadata": {},
   "outputs": [
    {
     "data": {
      "text/plain": [
       "array([1, 2, 3, 4, 5])"
      ]
     },
     "execution_count": 3,
     "metadata": {},
     "output_type": "execute_result"
    }
   ],
   "source": [
    "arr"
   ]
  },
  {
   "cell_type": "code",
   "execution_count": null,
   "id": "0ceb2857-015b-4aab-8077-687515ff9c53",
   "metadata": {},
   "outputs": [],
   "source": []
  },
  {
   "cell_type": "code",
   "execution_count": 10,
   "id": "6b31e0d8-1b78-4e22-8366-f51b4209340e",
   "metadata": {},
   "outputs": [],
   "source": [
    "#다양한 형태의 배열 생성\n",
    "\n",
    "#0으로 채워진 배열 생성\n",
    "zero_arr = np.zeros([2,3]) # 2x3 크기의 배열"
   ]
  },
  {
   "cell_type": "code",
   "execution_count": 12,
   "id": "3677209f-cf7f-4eea-ae5b-e05002baffd0",
   "metadata": {},
   "outputs": [
    {
     "data": {
      "text/plain": [
       "array([[0., 0., 0.],\n",
       "       [0., 0., 0.]])"
      ]
     },
     "execution_count": 12,
     "metadata": {},
     "output_type": "execute_result"
    }
   ],
   "source": [
    "zero_arr"
   ]
  },
  {
   "cell_type": "code",
   "execution_count": null,
   "id": "7b5b73bd-3c82-4408-8772-f02b0bfad841",
   "metadata": {},
   "outputs": [],
   "source": []
  },
  {
   "cell_type": "code",
   "execution_count": 19,
   "id": "14dc994a-a39d-4eb4-b94e-d1f4d0d8529b",
   "metadata": {},
   "outputs": [],
   "source": [
    "#1로 채워진 배열 생성\n",
    "ones_arr = np.ones ([3,4])"
   ]
  },
  {
   "cell_type": "code",
   "execution_count": 21,
   "id": "c0a68122-118e-495b-9fae-83936e0ee169",
   "metadata": {},
   "outputs": [
    {
     "data": {
      "text/plain": [
       "array([[1., 1., 1., 1.],\n",
       "       [1., 1., 1., 1.],\n",
       "       [1., 1., 1., 1.]])"
      ]
     },
     "execution_count": 21,
     "metadata": {},
     "output_type": "execute_result"
    }
   ],
   "source": [
    "ones_arr"
   ]
  },
  {
   "cell_type": "code",
   "execution_count": null,
   "id": "7aab9f2b-3360-45d4-af6b-e2cb40887ec6",
   "metadata": {},
   "outputs": [],
   "source": []
  },
  {
   "cell_type": "code",
   "execution_count": 28,
   "id": "5c967532-4ee2-483a-b6c9-adfd8babb259",
   "metadata": {},
   "outputs": [],
   "source": [
    "#특정 값으로 채워진 배열 생성\n",
    "full_arr = np.full((2,2),7) #2x2 크기의 7로 채워진 배열"
   ]
  },
  {
   "cell_type": "code",
   "execution_count": 30,
   "id": "1820d120-267c-43b0-958b-83fb9cb66a60",
   "metadata": {},
   "outputs": [
    {
     "data": {
      "text/plain": [
       "array([[7, 7],\n",
       "       [7, 7]])"
      ]
     },
     "execution_count": 30,
     "metadata": {},
     "output_type": "execute_result"
    }
   ],
   "source": [
    "full_arr"
   ]
  },
  {
   "cell_type": "code",
   "execution_count": null,
   "id": "4f9e97c5-6d8b-4d3e-8a8f-82da2e9245a5",
   "metadata": {},
   "outputs": [],
   "source": []
  },
  {
   "cell_type": "code",
   "execution_count": 33,
   "id": "f9e4b9d9-6af2-4691-8cc9-24d7cd5536a1",
   "metadata": {},
   "outputs": [],
   "source": [
    "#연속적인 값으로 채워진 배열 생성\n",
    "range_arr = np.arange(10) #0부터 9까지의 연속된 값"
   ]
  },
  {
   "cell_type": "code",
   "execution_count": 39,
   "id": "6232d904-3d7f-4f63-8b32-999f4bcf5f74",
   "metadata": {},
   "outputs": [
    {
     "data": {
      "text/plain": [
       "array([0, 1, 2, 3, 4, 5, 6, 7, 8, 9])"
      ]
     },
     "execution_count": 39,
     "metadata": {},
     "output_type": "execute_result"
    }
   ],
   "source": [
    "range_arr"
   ]
  },
  {
   "cell_type": "code",
   "execution_count": null,
   "id": "91c8b470-6b24-4cc4-8c2c-2e5b63855b22",
   "metadata": {},
   "outputs": [],
   "source": []
  },
  {
   "cell_type": "code",
   "execution_count": 42,
   "id": "d765f1e3-f931-4741-b52c-7ba19d3be42b",
   "metadata": {},
   "outputs": [],
   "source": [
    "#Numpy 배열의 기초 연산"
   ]
  },
  {
   "cell_type": "code",
   "execution_count": 46,
   "id": "0b5f1234-5898-4e39-90a5-ce69bc5c169b",
   "metadata": {},
   "outputs": [],
   "source": [
    "#기본 연산\n",
    "# 덧셈, 뺄셈, 곱셈, 나눗셈 모두 가능\n",
    "\n",
    "arr = np.array([1,2,3,4,5])\n",
    "\n",
    "#각 원소에 2를 더하기\n",
    "arr_add = arr+2\n",
    "\n",
    "#각 원소에 2를 빼기\n",
    "arr_min = arr -2\n",
    "\n",
    "#각 원소에 2를 곱하기\n",
    "arr_mul = arr * 2\n",
    "\n",
    "#각 원소에 2를 나누기\n",
    "arr_div = arr / 2"
   ]
  },
  {
   "cell_type": "code",
   "execution_count": 56,
   "id": "8da07f39-6332-436b-897d-6a0008ea167b",
   "metadata": {},
   "outputs": [
    {
     "name": "stdout",
     "output_type": "stream",
     "text": [
      "더한 값:  [3 4 5 6 7]\n",
      "뺀 값:  [-1  0  1  2  3]\n",
      "곱한 값:  [ 2  4  6  8 10]\n",
      "나눈 값:  [0.5 1.  1.5 2.  2.5]\n"
     ]
    }
   ],
   "source": [
    "print(\"더한 값: \", arr_add)\n",
    "print(\"뺀 값: \", arr_min)\n",
    "print(\"곱한 값: \", arr_mul)\n",
    "print(\"나눈 값: \", arr_div)"
   ]
  },
  {
   "cell_type": "code",
   "execution_count": null,
   "id": "86f3175e-af7d-4dac-80bd-ee5e4399ed23",
   "metadata": {},
   "outputs": [],
   "source": []
  },
  {
   "cell_type": "code",
   "execution_count": 59,
   "id": "a40f5103-f942-4b11-a44a-0ca9005fca73",
   "metadata": {},
   "outputs": [],
   "source": [
    "#배열 간의 연산\n",
    "arr1 = np.array([1,2,3])\n",
    "arr2 = np.array([4,5,6])\n",
    "\n",
    "#베얄 간 덧셈\n",
    "arr_sum = arr1 + arr2\n",
    "\n",
    "#배열 간 곱셈\n",
    "arr_mul = arr1 * arr2"
   ]
  },
  {
   "cell_type": "code",
   "execution_count": 65,
   "id": "7cd4a1d3-df5c-4d1e-a2eb-08c1e41e7647",
   "metadata": {},
   "outputs": [
    {
     "data": {
      "text/plain": [
       "array([5, 7, 9])"
      ]
     },
     "execution_count": 65,
     "metadata": {},
     "output_type": "execute_result"
    }
   ],
   "source": [
    "arr_sum"
   ]
  },
  {
   "cell_type": "code",
   "execution_count": 67,
   "id": "7ceed32a-4420-482c-8425-2c0465dcae97",
   "metadata": {},
   "outputs": [
    {
     "data": {
      "text/plain": [
       "array([ 4, 10, 18])"
      ]
     },
     "execution_count": 67,
     "metadata": {},
     "output_type": "execute_result"
    }
   ],
   "source": [
    "arr_mul"
   ]
  },
  {
   "cell_type": "code",
   "execution_count": 69,
   "id": "5b7ad98a-32d0-4998-851f-d9c396745e0c",
   "metadata": {},
   "outputs": [],
   "source": [
    "# 배열간 더하거나 곱했을 때는 \"같은 위치\"에 있는 항목끼리 계산 진행"
   ]
  },
  {
   "cell_type": "code",
   "execution_count": null,
   "id": "6aa689a4-7119-405b-8ae3-c19faa2029b7",
   "metadata": {},
   "outputs": [],
   "source": []
  },
  {
   "cell_type": "code",
   "execution_count": 72,
   "id": "5b571797-cefd-4e97-b327-4ac54b4dac2b",
   "metadata": {},
   "outputs": [],
   "source": [
    "#배열의 인덱싱과 슬라이싱"
   ]
  },
  {
   "cell_type": "code",
   "execution_count": 89,
   "id": "c1c5a8e4-c6d9-45a2-8b84-0a809ffefaec",
   "metadata": {},
   "outputs": [
    {
     "name": "stdout",
     "output_type": "stream",
     "text": [
      "10\n",
      "50\n"
     ]
    }
   ],
   "source": [
    "#인덱싱\n",
    "#배열의 특정 위치에 접근하는 방법\n",
    "arr = np.array([10,20,30,40,50])\n",
    "\n",
    "#첫 번째 원소\n",
    "print(arr[0])\n",
    "\n",
    "#마지막 원소\n",
    "print(arr[-1])"
   ]
  },
  {
   "cell_type": "code",
   "execution_count": null,
   "id": "c9168689-9e40-4485-837c-595cb883d668",
   "metadata": {},
   "outputs": [],
   "source": []
  },
  {
   "cell_type": "code",
   "execution_count": 92,
   "id": "2395df70-cfb8-435b-b19e-0910bfb55079",
   "metadata": {},
   "outputs": [
    {
     "name": "stdout",
     "output_type": "stream",
     "text": [
      "[20 30 40]\n"
     ]
    }
   ],
   "source": [
    "#슬라이싱\n",
    "arr = np.array([10,20,30,40,50])\n",
    "\n",
    "#두 번쨰부타 네 번째 원소까지\n",
    "sliced_arr = arr[1:4]\n",
    "\n",
    "print(arr[1:4])"
   ]
  },
  {
   "cell_type": "code",
   "execution_count": null,
   "id": "bcbee6eb-ff7a-40c2-b39f-6f9e7285b487",
   "metadata": {},
   "outputs": [],
   "source": []
  },
  {
   "cell_type": "code",
   "execution_count": 95,
   "id": "b7a27b1f-a43e-42c1-b236-7932d471ee77",
   "metadata": {},
   "outputs": [
    {
     "name": "stdout",
     "output_type": "stream",
     "text": [
      "6\n",
      "[[1 2]\n",
      " [4 5]]\n"
     ]
    }
   ],
   "source": [
    "#다차원 배열의 인덱싱 및 슬라이싱\n",
    "arr2d = np.array([[1,2,3], [4,5,6], [7,8,9]])\n",
    "\n",
    "#특정 원소 접근 (2행 3열)\n",
    "print(arr2d[1, 2])\n",
    "\n",
    "#슬라이싱 (2행까지, 2열까지)\n",
    "sliced_arr2d = arr2d[:2, :2]\n",
    "print(sliced_arr2d)"
   ]
  },
  {
   "cell_type": "code",
   "execution_count": null,
   "id": "1fc568b4-d602-4fce-a0a9-328a47e85c58",
   "metadata": {},
   "outputs": [],
   "source": []
  }
 ],
 "metadata": {
  "kernelspec": {
   "display_name": "Python 3 (ipykernel)",
   "language": "python",
   "name": "python3"
  },
  "language_info": {
   "codemirror_mode": {
    "name": "ipython",
    "version": 3
   },
   "file_extension": ".py",
   "mimetype": "text/x-python",
   "name": "python",
   "nbconvert_exporter": "python",
   "pygments_lexer": "ipython3",
   "version": "3.12.4"
  }
 },
 "nbformat": 4,
 "nbformat_minor": 5
}
