{
 "cells": [
  {
   "cell_type": "code",
   "execution_count": 2,
   "id": "a6e1627e-fd14-4284-a736-9897bf0a8d59",
   "metadata": {},
   "outputs": [],
   "source": [
    "#NumPy : 과학 계산에 강력한 성능을 제공하는 파이썬 라이브러리"
   ]
  },
  {
   "cell_type": "code",
   "execution_count": 4,
   "id": "568b850f-eaa2-4d88-a6f3-93c5e4e5ee48",
   "metadata": {},
   "outputs": [],
   "source": [
    "#배열(ndarray) 생성하기\n",
    "import numpy as np"
   ]
  },
  {
   "cell_type": "code",
   "execution_count": 6,
   "id": "e57e64f7-d5a7-489a-ae6d-ff65b68b31ce",
   "metadata": {},
   "outputs": [],
   "source": [
    "#1차원 배열 생성\n",
    "arr = np.array([1,2,3,4,5])"
   ]
  },
  {
   "cell_type": "code",
   "execution_count": 8,
   "id": "8c961784-53f0-44fe-8e24-abc21022e298",
   "metadata": {},
   "outputs": [
    {
     "data": {
      "text/plain": [
       "array([1, 2, 3, 4, 5])"
      ]
     },
     "execution_count": 8,
     "metadata": {},
     "output_type": "execute_result"
    }
   ],
   "source": [
    "arr"
   ]
  },
  {
   "cell_type": "code",
   "execution_count": null,
   "id": "4a45de84-5342-4bdc-8db3-4e7084cf8e94",
   "metadata": {},
   "outputs": [],
   "source": []
  },
  {
   "cell_type": "code",
   "execution_count": 11,
   "id": "56ff27f6-5f52-49e6-a634-f498d3708f8b",
   "metadata": {},
   "outputs": [],
   "source": [
    "#배열의 연산\n",
    "#덧셈\n",
    "arr2 = arr + 10"
   ]
  },
  {
   "cell_type": "code",
   "execution_count": 13,
   "id": "6329446b-44f0-4f46-8029-6466731b49c2",
   "metadata": {},
   "outputs": [
    {
     "data": {
      "text/plain": [
       "array([11, 12, 13, 14, 15])"
      ]
     },
     "execution_count": 13,
     "metadata": {},
     "output_type": "execute_result"
    }
   ],
   "source": [
    "arr2"
   ]
  },
  {
   "cell_type": "code",
   "execution_count": null,
   "id": "4e1a7aa4-c224-4989-a4bd-0b9006f01c80",
   "metadata": {},
   "outputs": [],
   "source": []
  },
  {
   "cell_type": "code",
   "execution_count": 16,
   "id": "3eb30e0c-6f74-4f13-968c-82b4c5d5443d",
   "metadata": {},
   "outputs": [],
   "source": [
    "#배열의 다양한 기능"
   ]
  },
  {
   "cell_type": "code",
   "execution_count": 24,
   "id": "01306e5b-33c5-495e-b01f-57621c369ed2",
   "metadata": {},
   "outputs": [],
   "source": [
    "#배열의 모양 변경, 원소 접근 등 다양한 기능 사용 가능.\n",
    "\n",
    "#배열의 모양 변경\n",
    "arr_reshaped = arr.reshape((1,5))"
   ]
  },
  {
   "cell_type": "code",
   "execution_count": 26,
   "id": "f02b5f83-2371-4ce6-9d49-10de0d876594",
   "metadata": {},
   "outputs": [
    {
     "data": {
      "text/plain": [
       "array([[1, 2, 3, 4, 5]])"
      ]
     },
     "execution_count": 26,
     "metadata": {},
     "output_type": "execute_result"
    }
   ],
   "source": [
    "arr_reshaped"
   ]
  },
  {
   "cell_type": "code",
   "execution_count": null,
   "id": "9c9ac086-e15b-4e3f-a67a-931912b0159c",
   "metadata": {},
   "outputs": [],
   "source": []
  }
 ],
 "metadata": {
  "kernelspec": {
   "display_name": "Python 3 (ipykernel)",
   "language": "python",
   "name": "python3"
  },
  "language_info": {
   "codemirror_mode": {
    "name": "ipython",
    "version": 3
   },
   "file_extension": ".py",
   "mimetype": "text/x-python",
   "name": "python",
   "nbconvert_exporter": "python",
   "pygments_lexer": "ipython3",
   "version": "3.12.4"
  }
 },
 "nbformat": 4,
 "nbformat_minor": 5
}
