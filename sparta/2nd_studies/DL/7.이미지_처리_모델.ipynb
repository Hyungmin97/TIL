{
 "cells": [
  {
   "cell_type": "markdown",
   "metadata": {},
   "source": [
    "# 이미지 처리 모델"
   ]
  },
  {
   "cell_type": "markdown",
   "metadata": {},
   "source": [
    "## **01. CNN기반 이미지 분류**\n",
    "\n",
    "<aside>\n",
    "✔️ CNN기반의 이미지분류 아키텍쳐 소개와 YOLO, 이미지 세그멘테이션에 대해 배워봅시다\n",
    "\n",
    "</aside>\n",
    "\n",
    "- **1)** ResNet 등 주요 CNN 아키텍쳐 소개\n",
    "    \n",
    "    ### ☑️ **ResNet (Residual Network)**\n",
    "    \n",
    "    - ResNet은 매우 깊은 신경망을 학습할 수 있도록 설계된 아키텍처입니다.\n",
    "    - 잔차 연결(Residual Connection)을 도입하여, 기울기 소실 문제를 해결합니다.\n",
    "    - ResNet-50, ResNet-101, ResNet-152 등의 변형이 있습니다.\n",
    "    \n",
    "    ### ☑️ **VGG**\n",
    "    \n",
    "    - VGG는 작은 3x3 필터를 사용하여 깊이를 증가시킨 아키텍처입니다.\n",
    "    - VGG16과 VGG19가 대표적인 모델입니다.\n",
    "    - 단순하고 규칙적인 구조로 인해, 다양한 변형이 가능합니다.\n",
    "    \n",
    "    ### ☑️ **Inception**\n",
    "    \n",
    "    - Inception은 다양한 크기의 필터를 병렬로 적용하여, 여러 수준의 특징을 추출합니다.\n",
    "    - Inception 모듈을 사용하여, 네트워크의 깊이와 너비를 동시에 확장합니다.\n",
    "    - GoogLeNet(Inception v1), Inception v2, Inception v3 등이 있습니다.\n",
    "    \n",
    "- **2)** **객체 탐지(YOLO)**\n",
    "    \n",
    "    ### ☑️ **YOLO(You Only Look Once)**\n",
    "    \n",
    "    - YOLO(You Only Look Once)는 객체 탐지(Object Detection) 모델로, 이미지에서 객체의 위치와 클래스를 동시에 예측합니다.\n",
    "    - YOLO는 이미지 전체를 한 번에 처리하여, 빠르고 정확한 객체 탐지를 수행합니다.\n",
    "    \n",
    "    ![Untitled](https://prod-files-secure.s3.us-west-2.amazonaws.com/e8bc2503-1609-470c-9029-90931f9c2879/f5d9f273-7d46-46c1-9970-feaf8d888a0c/Untitled.png)\n",
    "    \n",
    "    ### ☑️ **YOLO의 개념**\n",
    "    \n",
    "    - YOLO는 이미지를 SxS 그리드로 나누고, 각 그리드 셀에서 객체의 존재 여부를 예측합니다.\n",
    "    - 각 그리드 셀은 B개의 바운딩 박스와 C개의 클래스 확률을 출력합니다.\n",
    "    \n",
    "    ### ☑️ **YOLO의 동작 원리**\n",
    "    \n",
    "    - 입력 이미지를 CNN을 통해 특징 맵으로 변환합니다.\n",
    "    - 특징 맵을 SxS 그리드로 나누고, 각 그리드 셀에서 바운딩 박스와 클래스 확률을 예측합니다.\n",
    "    - 예측된 바운딩 박스와 클래스 확률을 바탕으로, 객체의 위치와 클래스를 결정합니다.\n",
    "- **3)** **이미지** **세그멘테이션**\n",
    "    \n",
    "    ### ☑️ **이미지 세그멘테이션 기법과 응용**\n",
    "    \n",
    "    - 이미지 세그멘테이션(Image Segmentation)은 이미지의 각 픽셀을 클래스 레이블로 분류하는 작업입니다.\n",
    "    - 이미지 세그멘테이션은 주로 시맨틱 세그멘테이션과 인스턴스 세그멘테이션 두가지로 나뉩니다\n",
    "    \n",
    "    ![Untitled](https://prod-files-secure.s3.us-west-2.amazonaws.com/e8bc2503-1609-470c-9029-90931f9c2879/ac63f024-1816-4a63-8d6f-874e80e0e6fe/Untitled.png)\n",
    "    \n",
    "    - **시맨틱 세그멘테이션 (Semantic Segmentation)**\n",
    "    : 이미지의 각 픽셀을 클래스 레이블로 분류합니다.\n",
    "    - **인스턴스 세그멘테이션 (Instance Segmentation)**\n",
    "    : 시맨틱 세그멘테이션과 달리, 같은 클래스 내에서도 개별 객체를 구분합니다.\n",
    "    \n",
    "    ### ☑️ 주요 세그멘테이션 모델\n",
    "    \n",
    "    - **FCN (Fully Convolutional Network)**: 모든 레이어를 합성곱 레이어로 구성하여, 픽셀 단위의 예측을 수행합니다.\n",
    "    - **U-Net**: U자형 구조를 가지며, 인코더-디코더 아키텍처를 사용하여 세그멘테이션을 수행합니다.\n",
    "    - **Mask R-CNN**: 객체 탐지와 인스턴스 세그멘테이션을 동시에 수행하는 모델입니다."
   ]
  },
  {
   "cell_type": "markdown",
   "metadata": {},
   "source": []
  }
 ],
 "metadata": {
  "kernelspec": {
   "display_name": "DL_learn",
   "language": "python",
   "name": "python3"
  },
  "language_info": {
   "name": "python",
   "version": "3.12.7"
  }
 },
 "nbformat": 4,
 "nbformat_minor": 2
}
