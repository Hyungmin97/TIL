{
 "cells": [
  {
   "cell_type": "markdown",
   "id": "7b6adf3f-7fdf-485f-9923-b942bbf6d40e",
   "metadata": {},
   "source": [
    "# 한국어 임베딩 실습\n",
    "- 한국어 문장을 임베딩하려면 사전 학습된 한국어 임베딩 모델이 필요"
   ]
  },
  {
   "cell_type": "code",
   "execution_count": 5,
   "id": "c679867b-9d20-46ad-a471-55896c5965a6",
   "metadata": {},
   "outputs": [],
   "source": [
    "#라이브러리 임포트\n",
    "from sentence_transformers import SentenceTransformer\n",
    "import numpy as np"
   ]
  },
  {
   "cell_type": "code",
   "execution_count": 7,
   "id": "431c8757-a09b-4bfd-a1e6-7c6e062a7da0",
   "metadata": {},
   "outputs": [],
   "source": [
    "#Multiliingual-E5-large-instruct 모델 불러오기\n",
    "model = SentenceTransformer('intfloat/multilingual-e5-large')"
   ]
  },
  {
   "cell_type": "code",
   "execution_count": 8,
   "id": "67762211-fb85-4837-bcca-b7a87511ae16",
   "metadata": {},
   "outputs": [],
   "source": [
    "#임베딩할 문장 리스트\n",
    "sentences = [\n",
    "    \"참새는 짹짹하고 웁니다.\",\n",
    "    \"LangChain과 Faiss를 활용한 예시입니다.\",\n",
    "    \"자연어 처리를 위한 임베딩 모델 사용법을 배워봅시다.\",\n",
    "    \"유사한 문장을 검색하는 방법을 살펴보겠습니다.\",\n",
    "    \"강좌를 수강하시는 수강생 여러분 감사합니다!\"\n",
    "]"
   ]
  },
  {
   "cell_type": "code",
   "execution_count": 9,
   "id": "57453f71-f84e-4981-824c-c710f89d5881",
   "metadata": {},
   "outputs": [],
   "source": [
    "#문장들을 임베딩으로 변환\n",
    "embeddings = model.encode(sentences)"
   ]
  },
  {
   "cell_type": "code",
   "execution_count": 10,
   "id": "5508495b-f09a-437a-8c2c-20db4fdb0e30",
   "metadata": {},
   "outputs": [
    {
     "name": "stdout",
     "output_type": "stream",
     "text": [
      "(5, 1024)\n"
     ]
    }
   ],
   "source": [
    "#임베딩 벡터 출력1\n",
    "print(embeddings.shape)"
   ]
  },
  {
   "cell_type": "code",
   "execution_count": 11,
   "id": "9c3a2d75-fe53-4e6f-bbca-ddd3fda83432",
   "metadata": {},
   "outputs": [
    {
     "name": "stdout",
     "output_type": "stream",
     "text": [
      "[ 0.03305347  0.00946587 -0.00015381 ... -0.02273222  0.00190387\n",
      "  0.01841401]\n"
     ]
    }
   ],
   "source": [
    "#임베딩 벡터 출력2\n",
    "print(embeddings[0])"
   ]
  },
  {
   "cell_type": "code",
   "execution_count": null,
   "id": "6f4eaf69-67cd-4e7a-84a1-0f45691559c5",
   "metadata": {},
   "outputs": [],
   "source": []
  }
 ],
 "metadata": {
  "kernelspec": {
   "display_name": "Python (sparta)",
   "language": "python",
   "name": "sparta"
  },
  "language_info": {
   "codemirror_mode": {
    "name": "ipython",
    "version": 3
   },
   "file_extension": ".py",
   "mimetype": "text/x-python",
   "name": "python",
   "nbconvert_exporter": "python",
   "pygments_lexer": "ipython3",
   "version": "3.12.7"
  }
 },
 "nbformat": 4,
 "nbformat_minor": 5
}
