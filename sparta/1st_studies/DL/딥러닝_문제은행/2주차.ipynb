{
 "cells": [
  {
   "cell_type": "markdown",
   "metadata": {},
   "source": [
    "# 기본 구조를 활용한 제안 모델 작성해보기\n",
    "\n",
    "### 문제\n",
    "- 이미지를 입력으로 받아 클래스를 분류하는 모델을 Pytorch로 구현해보세요.\n",
    "- 이미지 데이터는 500x500으로 변환해야해요.\n",
    "- 손실 함수는 교차엔트로피 손실, 최적화 함수는 Adam을 사용해야 합니다.\n",
    "- 출력 레이어는 Fully Connected\n",
    "\n",
    "### **숙제 정보**\n",
    "\n",
    "■ 난이도 : 🔴상\n",
    "\n",
    "■ 실습 범위 : 2주차\n",
    "\n",
    "■ 사용 언어 및 라이브러리 : pytorch"
   ]
  },
  {
   "cell_type": "code",
   "execution_count": 7,
   "metadata": {},
   "outputs": [],
   "source": [
    "#라이브러리 불러오기\n",
    "import torch\n",
    "import torch.nn as nn\n",
    "import torch.optim as optim #최적화 함수들을 포함하고 있으며, 이 코드에서는 Adam을 불러옴\n",
    "import torch.nn.functional as F\n",
    "from torchvision import transforms, datasets\n",
    "from torch.utils.data import DataLoader, Dataset"
   ]
  },
  {
   "cell_type": "code",
   "execution_count": 20,
   "metadata": {},
   "outputs": [],
   "source": [
    "#데이터 전처리 설정\n",
    "# 이미지를 500x500으로 변환해야 하므로, torchvision.transforms를 사용해 이미지를 500x500으로 리사이즈하고, 텐서로 변환\n",
    "transform = transforms.Compose([\n",
    "    transforms.Resize((500,500)), #이미지를 500x500으로 크기 조절\n",
    "    transforms.ToTensor() #이미지를 PyTorch 텐서로 변환, 이 과정에서 픽셀 값이 0과 1 사이로 정규화\n",
    "])"
   ]
  },
  {
   "cell_type": "code",
   "execution_count": 9,
   "metadata": {},
   "outputs": [],
   "source": [
    "train_dataset = datasets.FakeData(size = 1000, transform = transform, num_classes = 3)\n",
    "test_dataset = datasets.FakeData(size=200, transform=transform, num_classes=3)\n",
    "\n",
    "train_loader = DataLoader(train_dataset, batch_size=32, shuffle=True)\n",
    "test_loader = DataLoader(test_dataset, batch_size=32,shuffle=False)\n",
    "\n",
    "#datasets.FakeData: 임의로 생성된 데이터셋을 만듦. size는 데이터셋 크기, num_classes는 분류할 클래스 수"
   ]
  },
  {
   "cell_type": "code",
   "execution_count": 17,
   "metadata": {},
   "outputs": [],
   "source": [
    "#CNN 모델 정의\n",
    "class SimpleCNN(nn.Module):\n",
    "    def __init__(self):\n",
    "        super(SimpleCNN, self).__init__()\n",
    "        self.conv1 = nn.Conv2d(3, 32, kernel_size=3, padding=1)\n",
    "        self.pool = nn.MaxPool2d(kernel_size=2, stride=2)\n",
    "        self.conv2 = nn.Conv2d(32, 64, kernel_size=3, padding=1)\n",
    "        self.fc1 = nn.Linear(64 * 125 * 125, 128)\n",
    "        self.fc2 = nn.Linear(128, 3)\n",
    "\n",
    "    def forward(self,x):\n",
    "        x = self.pool(F.relu(self.conv1(x)))\n",
    "        x = self.pool(F.relu(self.conv2(x)))\n",
    "        x = x.view(-1, 64 * 125 * 125)\n",
    "        x = F.relu(self.fc1(x))\n",
    "        x = self.fc2(x)\n",
    "        return x\n",
    "    \n",
    "        \n",
    "#모델 초기화\n",
    "model = SimpleCNN()\n"
   ]
  },
  {
   "cell_type": "code",
   "execution_count": 18,
   "metadata": {},
   "outputs": [],
   "source": [
    "#손실 함수와 옵티마이저\n",
    "criterion = nn.CrossEntropyLoss()\n",
    "optimizer = optim.Adam(model.parameters(), lr=0.001)"
   ]
  },
  {
   "cell_type": "code",
   "execution_count": 19,
   "metadata": {},
   "outputs": [
    {
     "name": "stdout",
     "output_type": "stream",
     "text": [
      "Epoch 1, Loss: 5.042930297553539\n",
      "Epoch 2, Loss: 1.0964488349854946\n",
      "Epoch 3, Loss: 1.0711977370083332\n",
      "Epoch 4, Loss: 0.7225117264315486\n",
      "Epoch 5, Loss: 0.19596216385252774\n",
      "Epoch 6, Loss: 0.03326049716270063\n",
      "Epoch 7, Loss: 0.007632721033587586\n",
      "Epoch 8, Loss: 0.0011785315709857969\n",
      "Epoch 9, Loss: 0.0004904147472188924\n",
      "Epoch 10, Loss: 0.00020744048015330918\n",
      "학습 종료\n"
     ]
    }
   ],
   "source": [
    "#모델 훈련\n",
    "\n",
    "#훈련 루프\n",
    "num_epochs = 10\n",
    "\n",
    "for epoch in range(num_epochs):\n",
    "    running_loss = 0.0\n",
    "    for inputs, labels in train_loader:\n",
    "        optimizer.zero_grad()\n",
    "        outputs = model(inputs)\n",
    "        loss = criterion(outputs, labels)\n",
    "        loss.backward()\n",
    "        optimizer.step()\n",
    "        running_loss += loss.item()\n",
    "\n",
    "    print(f'Epoch {epoch + 1}, Loss: {running_loss / len(train_loader)}')\n",
    "\n",
    "print(\"학습 종료\")"
   ]
  },
  {
   "cell_type": "code",
   "execution_count": null,
   "metadata": {},
   "outputs": [],
   "source": []
  }
 ],
 "metadata": {
  "kernelspec": {
   "display_name": "Python (sparta)",
   "language": "python",
   "name": "sparta"
  },
  "language_info": {
   "codemirror_mode": {
    "name": "ipython",
    "version": 3
   },
   "file_extension": ".py",
   "mimetype": "text/x-python",
   "name": "python",
   "nbconvert_exporter": "python",
   "pygments_lexer": "ipython3",
   "version": "3.12.7"
  }
 },
 "nbformat": 4,
 "nbformat_minor": 2
}
