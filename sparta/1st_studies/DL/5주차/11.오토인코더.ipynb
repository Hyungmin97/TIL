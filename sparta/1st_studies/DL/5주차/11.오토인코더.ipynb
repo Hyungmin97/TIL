{
 "cells": [
  {
   "cell_type": "code",
   "execution_count": 1,
   "id": "be709e2d-158b-44a9-887d-8c91d4197754",
   "metadata": {},
   "outputs": [],
   "source": [
    "# 11. 오토인코더"
   ]
  },
  {
   "cell_type": "code",
   "execution_count": 2,
   "id": "bc280f66-74e2-4dd4-a9ab-917c943bc973",
   "metadata": {},
   "outputs": [],
   "source": [
    "#오토인코더:\n",
    "#입력 데이터를 압축하고, 이를 다시 복완하는 과정을 통해 데이터를 효율적으로 표현하는 비지도 학습 모델\n",
    "# 차원 축소, 잡음 제거, 생성 모델 등 다양한 분야에서 활용"
   ]
  },
  {
   "cell_type": "code",
   "execution_count": 4,
   "id": "3fbfcd08-c623-41d0-a018-d9c183995aa2",
   "metadata": {},
   "outputs": [],
   "source": [
    "#동작 원리\n",
    "\n",
    "#인코더\n",
    "#입력 데이터를 저차원 표현으로 변환하는 역할\n",
    "#인코더의 목적은 중요한 특징을 추출하고, 입력 데이터를 압축하는 것\n",
    "\n",
    "#디코더\n",
    "#인코더에 의해 생성된 저차원 표현을 다시 원래의 고차원 데이터로 복원하는 역할\n",
    "#디코더의 목적은 입력 데이터를 최대한 원본과 가깝게 복원하는 것\n",
    "\n",
    "#잠재 공간\n",
    "#인코더에 의해 생성된 저차원 표현 공간\n",
    "#이 공간에서는 입력 데이터의 중요한 특징만을 포함하고 있으며, 디코더는 이를 이용해 원래 데이터를 복원"
   ]
  },
  {
   "cell_type": "code",
   "execution_count": null,
   "id": "368d1fd5-b629-4c73-9dd6-13928340fa23",
   "metadata": {},
   "outputs": [],
   "source": [
    "#오토인코더의 종류\n",
    "\n",
    "#기본 오토인코더\n",
    "\n",
    "#변형된 오토인코더\n",
    "# 딥 오토 인코더: 더 깊은 인코더와 디코더 구조를 가지며, 복잡한 데이터 표현을 학습\n",
    "# 변분 오토인코더: 확률적 잠재 공간을 사용하여 데이터의 분포를 학습\n",
    "# 희소 오토인코더: 잠재 공간의 표현을 희소하게 유지하여 중요한 특징만을 학습\n",
    "# 잡음 제거 오토인코더: 입력 데이터에 잡음을 추가하고, 이를 제거하는 학습을 통해 데이터 복원 능력을 향상시킴"
   ]
  }
 ],
 "metadata": {
  "kernelspec": {
   "display_name": "Python (sparta)",
   "language": "python",
   "name": "sparta"
  },
  "language_info": {
   "codemirror_mode": {
    "name": "ipython",
    "version": 3
   },
   "file_extension": ".py",
   "mimetype": "text/x-python",
   "name": "python",
   "nbconvert_exporter": "python",
   "pygments_lexer": "ipython3",
   "version": "3.12.7"
  }
 },
 "nbformat": 4,
 "nbformat_minor": 5
}
