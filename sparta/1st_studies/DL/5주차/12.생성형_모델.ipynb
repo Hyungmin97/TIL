{
 "cells": [
  {
   "cell_type": "code",
   "execution_count": 1,
   "id": "8699e7a1-c8db-4f1f-9954-443a85512170",
   "metadata": {},
   "outputs": [],
   "source": [
    "#12. 생성형 모델"
   ]
  },
  {
   "cell_type": "code",
   "execution_count": 2,
   "id": "3a10f954-863f-491d-828b-ea45ddcf971d",
   "metadata": {},
   "outputs": [],
   "source": [
    "#GAN(Generative Adversarial Network)\n",
    "# 두 개의 신경망, 즉 생성자와 판별자로 구분/\n",
    "# 생성자는 가짜 데이터를 생성하고, 판별자는 이 데이터가 진짜인지 가짜인지 판별하며, 서로 경쟁하여 동시에 학습"
   ]
  },
  {
   "cell_type": "code",
   "execution_count": 4,
   "id": "1bef60ca-a6ae-40de-90c7-f64b3b637042",
   "metadata": {},
   "outputs": [],
   "source": [
    "# 동작 원리\n",
    "\n",
    "# 생성자(Generator)\n",
    "# 랜덤 노이즈 벡터를 입력으로 받아서 이를 통해 가짜 데이터를 생성\n",
    "# 생성된 데이터는 판별자에게 전달되어 진짜 데이터처럼 보이도록 학습\n",
    "\n",
    "#판별자(Discriminator)\n",
    "#진짜 데이터와 생성된 가짜 데이터를 입력으로 받아서 이를 구분하는 역할\n",
    "#판별자는 진짜 데이터를 1로, 가짜 데이터를 0으로 분휴하도록 학습\n",
    "\n",
    "#경쟁 과정\n",
    "# 생성자는 판별자를 속이기 위해 점점 더 진짜같은 데이터를 생성하려고 노력\n",
    "# 판별자는 생성자가 만든 가짜 데이터를 더 잘 구분하려고 노력\n",
    "# 이 과정에서 두 네트워크는 서로 경쟁하며 동시에 발전"
   ]
  },
  {
   "cell_type": "code",
   "execution_count": null,
   "id": "7bb679f2-1452-4fbd-9dfc-e00893d8b284",
   "metadata": {},
   "outputs": [],
   "source": [
    "#VAE(Variational Autoencoder)\n",
    "# 인코더와 디코더로 구성된 오토인코더의 변형\n",
    "# 인코더는 입력 데이터를 잠재 공간으로 매핑, 디코더는 이 잠재 공간에서 데이터를 다시 원래 공간으로 복원\n",
    "# 잠재 공간을 확률 분포로 모델링하여, 새로운 데이터를 생성할 수 있는 능력을 갖춤\n",
    "\n",
    "#응용\n",
    "#이미지 생성\n",
    "#VAE는 새로운 이미지를 생성하는 데 사용될 수 있음\n",
    "#얼굴 이미지 데이터셋을 학습한 VAE는 새로운 얼굴 이미지를 생성할 수 있음.\n",
    "\n",
    "#데이터 압축\n",
    "#데이터를 잠재 공간으로 압축하고, 이를 통해 데이터 압축 및 복원에 사용할 수 있음.\n",
    "\n",
    "#노이즈 제거\n",
    "#노이즈가 있는 데이터를 입력으로 받아서 노이즈를 제거한 깨끗한 데이터를 출력할 수 있음."
   ]
  },
  {
   "cell_type": "code",
   "execution_count": null,
   "id": "d026a9a1-7ba9-4c04-8ba7-3b3c605557e8",
   "metadata": {},
   "outputs": [],
   "source": []
  }
 ],
 "metadata": {
  "kernelspec": {
   "display_name": "Python (sparta)",
   "language": "python",
   "name": "sparta"
  },
  "language_info": {
   "codemirror_mode": {
    "name": "ipython",
    "version": 3
   },
   "file_extension": ".py",
   "mimetype": "text/x-python",
   "name": "python",
   "nbconvert_exporter": "python",
   "pygments_lexer": "ipython3",
   "version": "3.12.7"
  }
 },
 "nbformat": 4,
 "nbformat_minor": 5
}
