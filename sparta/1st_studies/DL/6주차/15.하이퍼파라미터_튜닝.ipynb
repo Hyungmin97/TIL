{
 "cells": [
  {
   "cell_type": "code",
   "execution_count": 1,
   "id": "eaf0a50a-6be8-4cde-b2a9-fcc7b10ec4ea",
   "metadata": {},
   "outputs": [],
   "source": [
    "#6-2. 하이퍼파라미터 튜닝"
   ]
  },
  {
   "cell_type": "code",
   "execution_count": 2,
   "id": "e81e5822-b35a-49c5-8018-f2c9e3c7d859",
   "metadata": {},
   "outputs": [],
   "source": [
    "#하이퍼파라미터 튜닝 방법\n",
    "\n",
    "#하이퍼파라미터\n",
    "# 모델 학습 과정에서 사용자가 설정해야 하는 값\n",
    "# 모델의 성능에 큰 영향을 미침"
   ]
  },
  {
   "cell_type": "code",
   "execution_count": 3,
   "id": "0afe8e4a-4023-44aa-84ed-791b00c2dfaa",
   "metadata": {},
   "outputs": [],
   "source": [
    "#학습률(Learning Rate)\n",
    "# 모델의 가중치를 업데이트하는 속도를 결정\n",
    "# 너무 크면 학습이 불안정해지고, 너무 작으면 학습이 느려짐\n",
    "# 일반적으로 0.1, 0.01, 0.001 등의 값을 시도해볼 수 있음"
   ]
  },
  {
   "cell_type": "code",
   "execution_count": 4,
   "id": "ec1071ad-35b9-40d1-aae6-f46fb48bf1f2",
   "metadata": {},
   "outputs": [],
   "source": [
    "#배치 크기(Batch Size)\n",
    "#한 번의 업데이트에 사용되는 데이터 샘플의 수를 결정\n",
    "#큰 배치의 크기는 학습 속도를 높이지만, 메모리 사용량이 증가\n",
    "# 일반적으로 32,64,128 등의 값을 시도해볼 수 있음."
   ]
  },
  {
   "cell_type": "code",
   "execution_count": 5,
   "id": "4ddcd71a-30df-4995-848f-5c0c29a88049",
   "metadata": {},
   "outputs": [],
   "source": [
    "#에포크 수(number of Epochs)\n",
    "#전체 데이터셋을 몇 번 반복하여 학습할 지를 결정\n",
    "#너무 적으면 과소적합이 발생, 너무 많으면 과적합이 발생\n",
    "# 조기 종료 기법을 사용하여 적절한 에포크 수를 결정할 수 있음."
   ]
  },
  {
   "cell_type": "code",
   "execution_count": 6,
   "id": "9fd16bf5-270b-443a-bdb0-d237c8adb6be",
   "metadata": {},
   "outputs": [],
   "source": [
    "#모멘텀(Momentum)\n",
    "#이전 기울기를 현재 기울기에 반영하여, 학습 속도를 높이고 진동을 줄임\n",
    "#일반적으로 0.9, 0.99 등의 값을 시도해볼 수 있음."
   ]
  },
  {
   "cell_type": "code",
   "execution_count": 7,
   "id": "93ad7617-1b59-4745-98cc-fb4a79a57b21",
   "metadata": {},
   "outputs": [],
   "source": [
    "#가중치 초기화(Weight Initialization)\n",
    "#모델의 가중치를 초기화하는 방법을 결정\n",
    "#일반적으로 Xavier 초기화, He 최기화 등을 사용"
   ]
  },
  {
   "cell_type": "code",
   "execution_count": null,
   "id": "9a6a08e1-e710-47ed-a2db-a8efc81dbd2c",
   "metadata": {},
   "outputs": [],
   "source": []
  },
  {
   "cell_type": "code",
   "execution_count": null,
   "id": "500b57c8-8a40-4306-b996-abfca3b7e1c5",
   "metadata": {},
   "outputs": [],
   "source": [
    "#하이퍼파라미터 자동 튜닝 기법\n",
    "#Grid Search\n",
    "# 하이퍼파라미터의 모든 조합을 시도하여 최적의 값을 찾음\n",
    "# 계산 비용이 많이 들지만, 모든 조합을 탐색할 수 있음.\n",
    "\n",
    "#Random Search\n",
    "# 하이퍼파라미터 공간에서 무작위로 값을 선택하여 최적의 값을 찾음\n",
    "# Grid Search보다 계산 비용이 적고, 더 넓은 하이퍼파라미터 공간을 탐색할 수 있음.\n",
    "\n",
    "#Bayesian Optimization\n",
    "# 베이지안 최적화는 이전 평가 결과를 바탕으로, 다음 평가할 하이퍼파라미터를 선택\n",
    "# 계산 비용이 적고, 효율적으로 최적의 값을 찾을 수 있음."
   ]
  }
 ],
 "metadata": {
  "kernelspec": {
   "display_name": "Python (sparta)",
   "language": "python",
   "name": "sparta"
  },
  "language_info": {
   "codemirror_mode": {
    "name": "ipython",
    "version": 3
   },
   "file_extension": ".py",
   "mimetype": "text/x-python",
   "name": "python",
   "nbconvert_exporter": "python",
   "pygments_lexer": "ipython3",
   "version": "3.12.7"
  }
 },
 "nbformat": 4,
 "nbformat_minor": 5
}
