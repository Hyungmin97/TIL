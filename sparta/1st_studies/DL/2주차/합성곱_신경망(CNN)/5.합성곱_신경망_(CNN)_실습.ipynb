{
 "cells": [
  {
   "cell_type": "code",
   "execution_count": 1,
   "id": "d317b596-9a16-403b-b7b9-230a16a8a137",
   "metadata": {},
   "outputs": [],
   "source": [
    "#CNN 실습"
   ]
  },
  {
   "cell_type": "code",
   "execution_count": 2,
   "id": "d2286cdf-7c95-4ff8-a44e-f133f99d6d68",
   "metadata": {},
   "outputs": [],
   "source": [
    "#라이브러리 임포트"
   ]
  },
  {
   "cell_type": "code",
   "execution_count": 3,
   "id": "2f7b4b0c-cfca-4bb8-a302-2f70e0a5a0a5",
   "metadata": {},
   "outputs": [],
   "source": [
    "import torch\n",
    "import torch.nn as nn\n",
    "import torch.optim as optim\n",
    "import torchvision\n",
    "import torchvision.transforms as transforms"
   ]
  },
  {
   "cell_type": "code",
   "execution_count": 4,
   "id": "66998f71-2259-4e1d-b75a-c573eda182ec",
   "metadata": {},
   "outputs": [],
   "source": [
    "#데이터셋 전처리\n",
    "transform = transforms.Compose([\n",
    "    transforms.ToTensor(),\n",
    "    transforms.Normalize((0.5, 0.5, 0.5), (0.5, 0.5, 0.5))\n",
    "])"
   ]
  },
  {
   "cell_type": "code",
   "execution_count": 8,
   "id": "14bbd0d1-3970-41e1-8b54-31eaa3b758b0",
   "metadata": {},
   "outputs": [
    {
     "name": "stdout",
     "output_type": "stream",
     "text": [
      "Downloading https://www.cs.toronto.edu/~kriz/cifar-10-python.tar.gz to ./data/cifar-10-python.tar.gz\n"
     ]
    },
    {
     "name": "stderr",
     "output_type": "stream",
     "text": [
      "100.0%\n"
     ]
    },
    {
     "name": "stdout",
     "output_type": "stream",
     "text": [
      "Extracting ./data/cifar-10-python.tar.gz to ./data\n",
      "Files already downloaded and verified\n"
     ]
    }
   ],
   "source": [
    "#CIFAR-10 데이터셋 로드\n",
    "trainset = torchvision.datasets.CIFAR10(root='./data', train=True, download=True, transform=transform)\n",
    "trainloader = torch.utils.data.DataLoader(trainset, batch_size=64, shuffle=True)\n",
    "\n",
    "testset = torchvision.datasets.CIFAR10(root='./data', train=False, download=True, transform=transform)\n",
    "testloader = torch.utils.data.DataLoader(testset, batch_size=64, shuffle=False)"
   ]
  },
  {
   "cell_type": "code",
   "execution_count": 18,
   "id": "b4b0be54-3c29-41ce-85b5-f21fa0fb13b4",
   "metadata": {},
   "outputs": [],
   "source": [
    "#간단한 CNN 모델 정의\n",
    "class SimpleCNN(nn.Module):\n",
    "    def __init__(self):\n",
    "        super(SimpleCNN, self).__init__()\n",
    "        self.conv1 = nn.Conv2d(3, 32, 3, padding=1)  # 입력 채널 3, 출력 채널 32, 커널 크기 3x3\n",
    "        self.pool = nn.MaxPool2d(2, 2)               # 풀링 크기 2x2\n",
    "        self.conv2 = nn.Conv2d(32, 64, 3, padding=1) # 입력 채널 32, 출력 채널 64, 커널 크기 3x3\n",
    "        self.fc1 = nn.Linear(64 * 8 * 8, 512)        # 완전 연결 층\n",
    "        self.fc2 = nn.Linear(512, 10)                # 출력 층 (10개의 클래스)\n",
    "\n",
    "    # forward 메서드 추가\n",
    "    def forward(self, x):\n",
    "        x = self.pool(torch.relu(self.conv1(x)))  # 첫 번째 합성곱 -> ReLU -> 풀링\n",
    "        x = self.pool(torch.relu(self.conv2(x)))  # 두 번째 합성곱 -> ReLU -> 풀링\n",
    "        x = x.view(-1, 64 * 8 * 8)  # 데이터를 1차원으로 변환 (플래튼)\n",
    "        x = torch.relu(self.fc1(x))  # 완전 연결 층 -> ReLU\n",
    "        x = self.fc2(x)  # 최종 출력 층\n",
    "        return x"
   ]
  },
  {
   "cell_type": "code",
   "execution_count": 19,
   "id": "9552793e-2eaa-46d1-9533-9c50f69d3d49",
   "metadata": {},
   "outputs": [],
   "source": [
    "#모델 학습"
   ]
  },
  {
   "cell_type": "code",
   "execution_count": 20,
   "id": "a08f600d-cdf0-4a93-8993-2cac5d14e24d",
   "metadata": {},
   "outputs": [],
   "source": [
    "#모델 초기화\n",
    "model = SimpleCNN()"
   ]
  },
  {
   "cell_type": "code",
   "execution_count": 21,
   "id": "e5d6b8da-7416-48b3-8285-dfd9921a1e40",
   "metadata": {},
   "outputs": [],
   "source": [
    "#손실 함수와 최적화 알고리즘 정의\n",
    "criterion = nn.CrossEntropyLoss()\n",
    "optimizer = optim.SGD(model.parameters(), lr=0.01, momentum = 0.9)"
   ]
  },
  {
   "cell_type": "code",
   "execution_count": 24,
   "id": "a15e3285-88a1-4aa2-9a48-f45c424c5565",
   "metadata": {},
   "outputs": [
    {
     "name": "stdout",
     "output_type": "stream",
     "text": [
      "[Epoch 1, Batch 100] loss: 1.581\n",
      "[Epoch 1, Batch 200] loss: 1.485\n",
      "[Epoch 1, Batch 300] loss: 1.396\n",
      "[Epoch 1, Batch 400] loss: 1.309\n",
      "[Epoch 1, Batch 500] loss: 1.265\n",
      "[Epoch 1, Batch 600] loss: 1.201\n",
      "[Epoch 1, Batch 700] loss: 1.163\n",
      "[Epoch 2, Batch 100] loss: 1.076\n",
      "[Epoch 2, Batch 200] loss: 1.011\n",
      "[Epoch 2, Batch 300] loss: 0.998\n",
      "[Epoch 2, Batch 400] loss: 0.985\n",
      "[Epoch 2, Batch 500] loss: 0.958\n",
      "[Epoch 2, Batch 600] loss: 0.942\n",
      "[Epoch 2, Batch 700] loss: 0.930\n",
      "[Epoch 3, Batch 100] loss: 0.821\n",
      "[Epoch 3, Batch 200] loss: 0.805\n",
      "[Epoch 3, Batch 300] loss: 0.803\n",
      "[Epoch 3, Batch 400] loss: 0.815\n",
      "[Epoch 3, Batch 500] loss: 0.807\n",
      "[Epoch 3, Batch 600] loss: 0.786\n",
      "[Epoch 3, Batch 700] loss: 0.774\n",
      "[Epoch 4, Batch 100] loss: 0.654\n",
      "[Epoch 4, Batch 200] loss: 0.644\n",
      "[Epoch 4, Batch 300] loss: 0.645\n",
      "[Epoch 4, Batch 400] loss: 0.663\n",
      "[Epoch 4, Batch 500] loss: 0.662\n",
      "[Epoch 4, Batch 600] loss: 0.639\n",
      "[Epoch 4, Batch 700] loss: 0.666\n",
      "[Epoch 5, Batch 100] loss: 0.481\n",
      "[Epoch 5, Batch 200] loss: 0.496\n",
      "[Epoch 5, Batch 300] loss: 0.479\n",
      "[Epoch 5, Batch 400] loss: 0.503\n",
      "[Epoch 5, Batch 500] loss: 0.511\n",
      "[Epoch 5, Batch 600] loss: 0.515\n",
      "[Epoch 5, Batch 700] loss: 0.525\n",
      "[Epoch 6, Batch 100] loss: 0.340\n",
      "[Epoch 6, Batch 200] loss: 0.343\n",
      "[Epoch 6, Batch 300] loss: 0.341\n",
      "[Epoch 6, Batch 400] loss: 0.372\n",
      "[Epoch 6, Batch 500] loss: 0.375\n",
      "[Epoch 6, Batch 600] loss: 0.369\n",
      "[Epoch 6, Batch 700] loss: 0.407\n",
      "[Epoch 7, Batch 100] loss: 0.207\n",
      "[Epoch 7, Batch 200] loss: 0.226\n",
      "[Epoch 7, Batch 300] loss: 0.235\n",
      "[Epoch 7, Batch 400] loss: 0.245\n",
      "[Epoch 7, Batch 500] loss: 0.239\n",
      "[Epoch 7, Batch 600] loss: 0.249\n",
      "[Epoch 7, Batch 700] loss: 0.283\n",
      "[Epoch 8, Batch 100] loss: 0.132\n",
      "[Epoch 8, Batch 200] loss: 0.127\n",
      "[Epoch 8, Batch 300] loss: 0.128\n",
      "[Epoch 8, Batch 400] loss: 0.132\n",
      "[Epoch 8, Batch 500] loss: 0.137\n",
      "[Epoch 8, Batch 600] loss: 0.172\n",
      "[Epoch 8, Batch 700] loss: 0.181\n",
      "[Epoch 9, Batch 100] loss: 0.073\n",
      "[Epoch 9, Batch 200] loss: 0.074\n",
      "[Epoch 9, Batch 300] loss: 0.074\n",
      "[Epoch 9, Batch 400] loss: 0.091\n",
      "[Epoch 9, Batch 500] loss: 0.101\n",
      "[Epoch 9, Batch 600] loss: 0.108\n",
      "[Epoch 9, Batch 700] loss: 0.114\n",
      "[Epoch 10, Batch 100] loss: 0.046\n",
      "[Epoch 10, Batch 200] loss: 0.053\n",
      "[Epoch 10, Batch 300] loss: 0.046\n",
      "[Epoch 10, Batch 400] loss: 0.057\n",
      "[Epoch 10, Batch 500] loss: 0.050\n",
      "[Epoch 10, Batch 600] loss: 0.061\n",
      "[Epoch 10, Batch 700] loss: 0.069\n",
      "Finished Training\n"
     ]
    }
   ],
   "source": [
    "#모델 학습\n",
    "for epoch in range(10):\n",
    "    running_loss = 0.0\n",
    "    for i, data in enumerate(trainloader, 0):\n",
    "        inputs, labels = data\n",
    "\n",
    "        #기울기 초기화\n",
    "        optimizer.zero_grad()\n",
    "\n",
    "        #순전파 + 여전파 + 최적화\n",
    "        outputs = model(inputs)\n",
    "        loss = criterion(outputs, labels)\n",
    "        loss.backward()\n",
    "        optimizer.step()\n",
    "\n",
    "        #손실 출력\n",
    "        running_loss += loss.item()\n",
    "        if i % 100 == 99:\n",
    "            print(f'[Epoch {epoch + 1}, Batch {i + 1}] loss: {running_loss / 100:.3f}')\n",
    "            running_loss = 0.0\n",
    "\n",
    "print('Finished Training')"
   ]
  },
  {
   "cell_type": "code",
   "execution_count": 28,
   "id": "b9715858-4ad7-4450-9c33-7fcbe0dc4f22",
   "metadata": {},
   "outputs": [
    {
     "name": "stdout",
     "output_type": "stream",
     "text": [
      "Accuracy of the network on the 10000 test images: 73.63%\n"
     ]
    }
   ],
   "source": [
    "#모델 평가\n",
    "correct = 0\n",
    "total = 0\n",
    "with torch.no_grad():\n",
    "    for data in testloader:\n",
    "        images, labels = data\n",
    "        outputs = model(images)\n",
    "        _, predicted = torch.max(outputs.data, 1)\n",
    "        total += labels.size(0)\n",
    "        correct += (predicted == labels).sum().item()\n",
    "\n",
    "print(f'Accuracy of the network on the 10000 test images: {100 * correct / total:.2f}%')"
   ]
  },
  {
   "cell_type": "code",
   "execution_count": null,
   "id": "21edb617-4959-4283-8ddd-c5e847590505",
   "metadata": {},
   "outputs": [],
   "source": []
  }
 ],
 "metadata": {
  "kernelspec": {
   "display_name": "Python (sparta)",
   "language": "python",
   "name": "sparta"
  },
  "language_info": {
   "codemirror_mode": {
    "name": "ipython",
    "version": 3
   },
   "file_extension": ".py",
   "mimetype": "text/x-python",
   "name": "python",
   "nbconvert_exporter": "python",
   "pygments_lexer": "ipython3",
   "version": "3.12.7"
  }
 },
 "nbformat": 4,
 "nbformat_minor": 5
}
