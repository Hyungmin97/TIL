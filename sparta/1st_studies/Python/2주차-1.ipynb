{
 "cells": [
  {
   "cell_type": "code",
   "execution_count": null,
   "id": "6426f202-77c7-4bff-a3c9-ad7ccbcbc7e5",
   "metadata": {},
   "outputs": [],
   "source": [
    "#데이터 저장의 기본: 변수의 선언과 할당"
   ]
  },
  {
   "cell_type": "code",
   "execution_count": 3,
   "id": "44e83d65-241e-48b3-b2b0-9adb213d3148",
   "metadata": {},
   "outputs": [
    {
     "name": "stdout",
     "output_type": "stream",
     "text": [
      "이형민\n"
     ]
    }
   ],
   "source": [
    "#변수 선언 예시(1)\n",
    "name = \"이형민\"\n",
    "#변수 출력\n",
    "print(name)"
   ]
  },
  {
   "cell_type": "code",
   "execution_count": 7,
   "id": "d54fb661-18ea-4e6b-a3ee-7250305f8fdc",
   "metadata": {},
   "outputs": [
    {
     "name": "stdout",
     "output_type": "stream",
     "text": [
      "30\n",
      "False\n"
     ]
    }
   ],
   "source": [
    "#변수 선언 예시(2)\n",
    "a = 10\n",
    "b = 20\n",
    "#출력\n",
    "print(a + b)\n",
    "print(a == b)"
   ]
  },
  {
   "cell_type": "code",
   "execution_count": 15,
   "id": "7e80a9fc-8238-4215-b6b2-420d1ffe2f94",
   "metadata": {},
   "outputs": [
    {
     "name": "stdout",
     "output_type": "stream",
     "text": [
      "3.14\n"
     ]
    }
   ],
   "source": [
    "#변수 선언 예시(3)\n",
    "pi = 3.14\n",
    "print(pi)"
   ]
  },
  {
   "cell_type": "code",
   "execution_count": 17,
   "id": "542a5156-15b3-4262-882b-824286d12eb7",
   "metadata": {},
   "outputs": [
    {
     "name": "stdout",
     "output_type": "stream",
     "text": [
      "Hello, World!\n"
     ]
    }
   ],
   "source": [
    "#변수 선언 예시(4)\n",
    "greeting = \"Hello, World!\"\n",
    "#출력\n",
    "print(greeting)"
   ]
  },
  {
   "cell_type": "code",
   "execution_count": 22,
   "id": "b58dfd80-7cb5-469f-a82c-94d9917b2e52",
   "metadata": {},
   "outputs": [
    {
     "name": "stdout",
     "output_type": "stream",
     "text": [
      "30\n",
      "40\n",
      "이형민\n"
     ]
    }
   ],
   "source": [
    "# 변수 할당\n",
    "c = 30\n",
    "print(c)\n",
    "\n",
    "c = 40\n",
    "print(c)\n",
    "\n",
    "c = \"이형민\"\n",
    "print(c)\n",
    "\n",
    "#이렇게 볼 수 있듯이, 할당된 변수 데이터는 변경할 수 있음."
   ]
  },
  {
   "cell_type": "code",
   "execution_count": 28,
   "id": "18d2342b-c024-4c31-b4db-26cc56023c6d",
   "metadata": {},
   "outputs": [
    {
     "name": "stdout",
     "output_type": "stream",
     "text": [
      "1\n",
      "2\n",
      "3\n",
      "100\n",
      "100\n",
      "100\n"
     ]
    }
   ],
   "source": [
    "#여러 변수에 한 번에 값 할당하기\n",
    "#동시에 값 할당하기\n",
    "a,b,c = 1,2,3\n",
    "print(a)\n",
    "print(b)\n",
    "print(c)\n",
    "#같은 값 할당하기\n",
    "x = y = z = 100\n",
    "print(x)\n",
    "print(y)\n",
    "print(z)"
   ]
  },
  {
   "cell_type": "code",
   "execution_count": 30,
   "id": "be53e61a-3f06-41bd-9708-3bc7c6a9c9e7",
   "metadata": {},
   "outputs": [
    {
     "name": "stdin",
     "output_type": "stream",
     "text": [
      "이름을 입력하세요:  곽두팔\n",
      "나이를 입력하세요:  12\n"
     ]
    },
    {
     "name": "stdout",
     "output_type": "stream",
     "text": [
      "안녕하세요, 곽두팔님! 당신의 나이는 12살 이군요.\n"
     ]
    }
   ],
   "source": [
    "#변수의 활용 예제\n",
    "#사용자로부터 이름과 나이를 입력받아 환영 메시지를 출력하는 프로그램\n",
    "name = input(\"이름을 입력하세요: \")\n",
    "age = input(\"나이를 입력하세요: \")\n",
    "\n",
    "print(f\"안녕하세요, {name}님! 당신의 나이는 {age}살 이군요.\")"
   ]
  },
  {
   "cell_type": "code",
   "execution_count": 42,
   "id": "d86a6fac-c259-4e46-829a-90ee86910fd7",
   "metadata": {},
   "outputs": [
    {
     "name": "stdout",
     "output_type": "stream",
     "text": [
      "Hello!\n"
     ]
    }
   ],
   "source": [
    "#변수의 메모리 관리"
   ]
  },
  {
   "cell_type": "code",
   "execution_count": null,
   "id": "3e3630a0-c6ed-42b0-9793-a1507b3dfab1",
   "metadata": {},
   "outputs": [],
   "source": [
    "#변수의 범위(Scope)\n",
    "#변수는 어디에서 선언되었는지에 따라 접근할 수 있는 범위가 달라짐.\n",
    "#이 범위를 스코프(Scope)라고 함.\n",
    "#변수의 스코프는 크게 두 가지로 나눌 수 있음.\n",
    "\n",
    "#1. 전역 변수(Global Variable): 프로그램 전체에서 접근할 수 있는 변수.\n",
    "#2. 지역 변수(Local Variable): 특정 코드 블록이나 함수 내에서만 접근할 수 있는 변수."
   ]
  },
  {
   "cell_type": "code",
   "execution_count": null,
   "id": "2c425518-bc91-423d-a8e5-94ead61cb449",
   "metadata": {},
   "outputs": [],
   "source": [
    "def greet():\n",
    "    message = \"Hello!\" #지역 변수\n",
    "    print(message)\n",
    "\n",
    "greet\n",
    "#print(message) #에러 발생: 'message'는 함수 내에서만 사용 가능\n",
    "\n",
    "#위 코드에서 message 변수는 greet 함수 내에서만 사용 가능.\n",
    "#함수 밖에서 사용하려고 하면 에러 발생."
   ]
  }
 ],
 "metadata": {
  "kernelspec": {
   "display_name": "Python 3 (ipykernel)",
   "language": "python",
   "name": "python3"
  },
  "language_info": {
   "codemirror_mode": {
    "name": "ipython",
    "version": 3
   },
   "file_extension": ".py",
   "mimetype": "text/x-python",
   "name": "python",
   "nbconvert_exporter": "python",
   "pygments_lexer": "ipython3",
   "version": "3.12.4"
  }
 },
 "nbformat": 4,
 "nbformat_minor": 5
}
