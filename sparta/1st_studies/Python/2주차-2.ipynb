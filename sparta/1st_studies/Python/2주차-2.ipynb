{
 "cells": [
  {
   "cell_type": "code",
   "execution_count": 1,
   "id": "5b9c48bb-91dc-4b57-a094-b43fff001079",
   "metadata": {},
   "outputs": [],
   "source": [
    "#산술 연산자(Arithmetic Operators)"
   ]
  },
  {
   "cell_type": "code",
   "execution_count": 3,
   "id": "e1f0b2f5-8f00-49fc-95d3-b3fcd43ed7d6",
   "metadata": {},
   "outputs": [
    {
     "name": "stdout",
     "output_type": "stream",
     "text": [
      "13\n",
      "7\n",
      "30\n",
      "3.3333333333333335\n",
      "1\n",
      "1000\n",
      "3\n"
     ]
    }
   ],
   "source": [
    "#산술 연산자 예시\n",
    "\n",
    "a = 10\n",
    "b = 3\n",
    "\n",
    "#덧셈\n",
    "print(a+b)\n",
    "#뺄셈\n",
    "print(a-b)\n",
    "#곱셈\n",
    "print(a*b)\n",
    "#나눗셈\n",
    "print(a/b)\n",
    "#나머지 구하기\n",
    "print(a%b)\n",
    "#제곱\n",
    "print(a**b)\n",
    "#몫만 구하기\n",
    "print(a//b)"
   ]
  },
  {
   "cell_type": "code",
   "execution_count": 5,
   "id": "4d713eaf-58df-4c57-98b9-6d5578d2f07e",
   "metadata": {},
   "outputs": [
    {
     "name": "stdout",
     "output_type": "stream",
     "text": [
      "False\n",
      "True\n",
      "True\n",
      "False\n",
      "True\n",
      "False\n"
     ]
    }
   ],
   "source": [
    "#비교 연산자 예시\n",
    "x = 10\n",
    "y = 5\n",
    "\n",
    "#값이 같다\n",
    "print(x == y)  # False\n",
    "#값이 다르다\n",
    "print(x != y)  # True\n",
    "#x가 y보다 크다\n",
    "print(x > y)   # True\n",
    "#x가 y보다 작다\n",
    "print(x < y)   # False\n",
    "#x가 y보다 크거나 같다\n",
    "print(x >= y)  # True\n",
    "#x가 y보다 작거나 같다\n",
    "print(x <= y)  # False"
   ]
  },
  {
   "cell_type": "code",
   "execution_count": 7,
   "id": "bff88380-209d-43b2-a40c-b3cc39ae4529",
   "metadata": {},
   "outputs": [
    {
     "name": "stdout",
     "output_type": "stream",
     "text": [
      "False\n",
      "True\n",
      "False\n"
     ]
    }
   ],
   "source": [
    "#논리 연산자\n",
    "# and: 두 조건이 모두 참일 때\n",
    "# or: 두 조건 중 하나라도 참일 때\n",
    "# not: 논리값을 반대로 뒤집음\n",
    "\n",
    "#논리 연산자 예시\n",
    "a = True\n",
    "b = False\n",
    "\n",
    "print(a and b)  # False\n",
    "print(a or b)   # True\n",
    "print(not a)    # False"
   ]
  },
  {
   "cell_type": "code",
   "execution_count": 9,
   "id": "ffdcea20-3d5c-4320-b898-e6805a419b40",
   "metadata": {},
   "outputs": [
    {
     "name": "stdout",
     "output_type": "stream",
     "text": [
      "15\n",
      "30\n",
      "10\n"
     ]
    }
   ],
   "source": [
    "#대입 연산자\n",
    "# = : 값 할당\n",
    "# += : 더한 후 할당\n",
    "# -= : 뺀 후 할당\n",
    "# *= : 곱한 후 할당\n",
    "# /= : 나눈 후 할당\n",
    "# %= : 나머지를 구한 후 할당\n",
    "# **= : 거듭제곱 후 할당\n",
    "# //= : 몫을 구한 후 할당\n",
    "\n",
    "x = 10\n",
    "x += 5  # x = x + 5\n",
    "print(x)  # 15\n",
    "\n",
    "x *= 2  # x = x * 2\n",
    "print(x)  # 30\n",
    "\n",
    "x //= 3  # x = x // 3\n",
    "print(x)  # 10\n"
   ]
  },
  {
   "cell_type": "code",
   "execution_count": 13,
   "id": "327d27e0-47f9-463a-86e5-9f09f13b54c9",
   "metadata": {},
   "outputs": [
    {
     "name": "stdout",
     "output_type": "stream",
     "text": [
      "1\n",
      "7\n",
      "6\n",
      "-6\n",
      "10\n",
      "2\n"
     ]
    }
   ],
   "source": [
    "#비트 연산자\n",
    "#비트 연산자는 이진수 수준에서 연산을 수행\n",
    "\n",
    "a = 5  # 이진수로 101\n",
    "b = 3  # 이진수로 011\n",
    "\n",
    "#대응되는 비트가 모두 1이면 1을 반환함. (비트 AND 연산)\n",
    "print(a & b)  # 1 (이진수 001)\n",
    "#대응되는 비트 중에서 하나라도 1이면 1을 반환함. (비트 OR 연산)\n",
    "print(a | b)  # 7 (이진수 111)\n",
    "#대응되는 비트가 서로 다르면 1을 반환함. (비트 XOR 연산)\n",
    "print(a ^ b)  # 6 (이진수 110)\n",
    "#비트를 1이면 0으로, 0이면 1로 반전시킴. (비트 NOT 연산)\n",
    "print(~a)     # -6 (이진수 보수)\n",
    "#지정한 수만큼 비트들을 전부 왼쪽으로 이동시킴. (left shift 연산)\n",
    "print(a << 1) # 10 (이진수 1010)\n",
    "#부호를 유지하면서 지정한 수만큼 비트를 전부 오른쪽으로 이동시킴. (right shift 연산)\n",
    "print(a >> 1) # 2 (이진수 010)"
   ]
  },
  {
   "cell_type": "code",
   "execution_count": 15,
   "id": "5d071333-ae1d-419c-9e9f-c107854f0873",
   "metadata": {},
   "outputs": [
    {
     "name": "stdout",
     "output_type": "stream",
     "text": [
      "True\n",
      "True\n"
     ]
    }
   ],
   "source": [
    "#멤버십 연산자(Membership Operators)\n",
    "# in : 시퀀스에 같이 포함되어 있는지 확인\n",
    "# not in : 시퀀스에 같이 포함되어 있지 않은지 확인\n",
    "\n",
    "fruits = [\"apple\", \"banana\", \"cherry\"]\n",
    "\n",
    "print(\"apple\" in fruits)  # True\n",
    "print(\"grape\" not in fruits)  # True"
   ]
  },
  {
   "cell_type": "code",
   "execution_count": 17,
   "id": "ad743d50-1b24-4917-a005-2ef77a1175f8",
   "metadata": {},
   "outputs": [
    {
     "name": "stdout",
     "output_type": "stream",
     "text": [
      "True\n",
      "False\n",
      "True\n",
      "True\n"
     ]
    }
   ],
   "source": [
    "#식별 연산자(Identify Operatiors)\n",
    "#is : 두 변수가 동일 객체인지 확인\n",
    "#is not : 두 변수가 동일하지 않은 객체인지 확인\n",
    "\n",
    "x = [\"apple\", \"banana\"]\n",
    "y = [\"apple\", \"banana\"]\n",
    "z = x\n",
    "\n",
    "print(x is z)       # True (z는 x를 가리킴)\n",
    "print(x is y)       # False (x와 y는 내용은 같지만, 다른 객체)\n",
    "print(x == y)       # True (x와 y는 값이 동일함)\n",
    "print(x is not y)   # True (x와 y는 다른 객체)\n"
   ]
  },
  {
   "cell_type": "code",
   "execution_count": null,
   "id": "e52f8964-e852-41c2-93c8-ecc60c32f472",
   "metadata": {},
   "outputs": [],
   "source": []
  }
 ],
 "metadata": {
  "kernelspec": {
   "display_name": "Python 3 (ipykernel)",
   "language": "python",
   "name": "python3"
  },
  "language_info": {
   "codemirror_mode": {
    "name": "ipython",
    "version": 3
   },
   "file_extension": ".py",
   "mimetype": "text/x-python",
   "name": "python",
   "nbconvert_exporter": "python",
   "pygments_lexer": "ipython3",
   "version": "3.12.4"
  }
 },
 "nbformat": 4,
 "nbformat_minor": 5
}
