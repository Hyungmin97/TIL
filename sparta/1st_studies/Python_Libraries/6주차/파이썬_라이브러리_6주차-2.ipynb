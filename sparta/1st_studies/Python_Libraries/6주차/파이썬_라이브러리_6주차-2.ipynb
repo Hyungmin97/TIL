{
 "cells": [
  {
   "cell_type": "code",
   "execution_count": 42,
   "id": "c83c9379-78a8-47e1-af4c-8ab307013dcd",
   "metadata": {},
   "outputs": [],
   "source": [
    "#판다스 심화: 데이터프레임 구조화 다시하기와 크기 조정하기"
   ]
  },
  {
   "cell_type": "code",
   "execution_count": 52,
   "id": "548dce0e-af91-4c68-95d1-93affc75d3c4",
   "metadata": {},
   "outputs": [],
   "source": [
    "#데이터프레임 구조화 다시하기\n",
    "#데이터프레임의 구조를 재조정하여, 데이터를 원하는 형태로 변형할 수 있음.\n",
    "#주요 작업으로는 피벗(pivot), 변경(melt), 스택(stack)과 언스택(unstack)이 있음."
   ]
  },
  {
   "cell_type": "code",
   "execution_count": 54,
   "id": "0beba9aa-d375-4b61-94ad-ec27113bd25c",
   "metadata": {},
   "outputs": [],
   "source": [
    "#pivot()을 사용한 피벗 테이블 생성\n",
    "#pivot() 함수는 열 데이터를 행 또는 열로 이동시켜 새로운 데이터프레임을 만듦.\n",
    "#이는 데이터를 재구성하고 분석하는 데 매우 유용."
   ]
  },
  {
   "cell_type": "code",
   "execution_count": 58,
   "id": "ce1e7ba4-4387-449a-966e-f242f5cf4262",
   "metadata": {},
   "outputs": [],
   "source": [
    "import pandas as pd\n",
    "\n",
    "#예시 데이터프레임\n",
    "data = {\n",
    "    '날짜':['2023-01-01', '2023-01-02', '2023-01-01', '2023-01-02'],\n",
    "    '도시': ['서울', '서울', '부산', '부산'],\n",
    "    '온도': [2, 3, 6, 7],\n",
    "    '습도': [55, 60, 80, 85]\n",
    "}\n",
    "df = pd.DataFrame(data)"
   ]
  },
  {
   "cell_type": "code",
   "execution_count": 68,
   "id": "44c0dcca-96df-4452-947b-7cb7c4b6a023",
   "metadata": {},
   "outputs": [
    {
     "data": {
      "text/html": [
       "<div>\n",
       "<style scoped>\n",
       "    .dataframe tbody tr th:only-of-type {\n",
       "        vertical-align: middle;\n",
       "    }\n",
       "\n",
       "    .dataframe tbody tr th {\n",
       "        vertical-align: top;\n",
       "    }\n",
       "\n",
       "    .dataframe thead th {\n",
       "        text-align: right;\n",
       "    }\n",
       "</style>\n",
       "<table border=\"1\" class=\"dataframe\">\n",
       "  <thead>\n",
       "    <tr style=\"text-align: right;\">\n",
       "      <th></th>\n",
       "      <th>날짜</th>\n",
       "      <th>도시</th>\n",
       "      <th>온도</th>\n",
       "      <th>습도</th>\n",
       "    </tr>\n",
       "  </thead>\n",
       "  <tbody>\n",
       "    <tr>\n",
       "      <th>0</th>\n",
       "      <td>2023-01-01</td>\n",
       "      <td>서울</td>\n",
       "      <td>2</td>\n",
       "      <td>55</td>\n",
       "    </tr>\n",
       "    <tr>\n",
       "      <th>1</th>\n",
       "      <td>2023-01-02</td>\n",
       "      <td>서울</td>\n",
       "      <td>3</td>\n",
       "      <td>60</td>\n",
       "    </tr>\n",
       "    <tr>\n",
       "      <th>2</th>\n",
       "      <td>2023-01-01</td>\n",
       "      <td>부산</td>\n",
       "      <td>6</td>\n",
       "      <td>80</td>\n",
       "    </tr>\n",
       "    <tr>\n",
       "      <th>3</th>\n",
       "      <td>2023-01-02</td>\n",
       "      <td>부산</td>\n",
       "      <td>7</td>\n",
       "      <td>85</td>\n",
       "    </tr>\n",
       "  </tbody>\n",
       "</table>\n",
       "</div>"
      ],
      "text/plain": [
       "           날짜  도시  온도  습도\n",
       "0  2023-01-01  서울   2  55\n",
       "1  2023-01-02  서울   3  60\n",
       "2  2023-01-01  부산   6  80\n",
       "3  2023-01-02  부산   7  85"
      ]
     },
     "execution_count": 68,
     "metadata": {},
     "output_type": "execute_result"
    }
   ],
   "source": [
    "#출력\n",
    "df"
   ]
  },
  {
   "cell_type": "code",
   "execution_count": 70,
   "id": "1d9ad3a1-486c-4b1c-a0e4-12dd0ad037a6",
   "metadata": {},
   "outputs": [],
   "source": [
    "# '도시'를 기준으로 '날짜'를 인덱스로, '온도'를 값으로 하는 피벗 테이블 생성\n",
    "pivot_df = df.pivot(index = '날짜', columns = '도시', values = '온도')"
   ]
  },
  {
   "cell_type": "code",
   "execution_count": 72,
   "id": "62b0d59f-1774-424f-ba0b-cd9a77e086b1",
   "metadata": {},
   "outputs": [
    {
     "data": {
      "text/html": [
       "<div>\n",
       "<style scoped>\n",
       "    .dataframe tbody tr th:only-of-type {\n",
       "        vertical-align: middle;\n",
       "    }\n",
       "\n",
       "    .dataframe tbody tr th {\n",
       "        vertical-align: top;\n",
       "    }\n",
       "\n",
       "    .dataframe thead th {\n",
       "        text-align: right;\n",
       "    }\n",
       "</style>\n",
       "<table border=\"1\" class=\"dataframe\">\n",
       "  <thead>\n",
       "    <tr style=\"text-align: right;\">\n",
       "      <th>도시</th>\n",
       "      <th>부산</th>\n",
       "      <th>서울</th>\n",
       "    </tr>\n",
       "    <tr>\n",
       "      <th>날짜</th>\n",
       "      <th></th>\n",
       "      <th></th>\n",
       "    </tr>\n",
       "  </thead>\n",
       "  <tbody>\n",
       "    <tr>\n",
       "      <th>2023-01-01</th>\n",
       "      <td>6</td>\n",
       "      <td>2</td>\n",
       "    </tr>\n",
       "    <tr>\n",
       "      <th>2023-01-02</th>\n",
       "      <td>7</td>\n",
       "      <td>3</td>\n",
       "    </tr>\n",
       "  </tbody>\n",
       "</table>\n",
       "</div>"
      ],
      "text/plain": [
       "도시          부산  서울\n",
       "날짜                \n",
       "2023-01-01   6   2\n",
       "2023-01-02   7   3"
      ]
     },
     "execution_count": 72,
     "metadata": {},
     "output_type": "execute_result"
    }
   ],
   "source": [
    "#출력\n",
    "pivot_df"
   ]
  },
  {
   "cell_type": "code",
   "execution_count": 74,
   "id": "0e95699f-1b22-4901-9b70-8cd8b1e1fe2e",
   "metadata": {},
   "outputs": [],
   "source": [
    "#날짜를 인덱스로, 도시를 열로 하여 각 온도 값을 피벗 테이블로 변환."
   ]
  },
  {
   "cell_type": "code",
   "execution_count": null,
   "id": "03224634-7d48-4aa3-be7a-4f4b18d82129",
   "metadata": {},
   "outputs": [],
   "source": []
  },
  {
   "cell_type": "code",
   "execution_count": 77,
   "id": "c2356802-87b7-48a3-831f-adf301814519",
   "metadata": {},
   "outputs": [],
   "source": [
    "#melt()를 사용한 데이터 구조 해체\n",
    "# melt()함수는 피벗된 데이터를 다시 긴 형식(long format)으로 변환할 때 사용.\n",
    "#이는 여러 열을 하나의 열로 통합하는 데 유용."
   ]
  },
  {
   "cell_type": "code",
   "execution_count": 81,
   "id": "4859fc3a-d28f-47e8-b7e9-86bb15684a87",
   "metadata": {},
   "outputs": [],
   "source": [
    "#데이터프레임 구조 해체 (melt)\n",
    "melted_df = pd.melt(df, id_vars = ['날짜', '도시'], value_vars = ['온도', '습도'])"
   ]
  },
  {
   "cell_type": "code",
   "execution_count": 83,
   "id": "933764fd-91b9-4814-9857-e3ed8643b79b",
   "metadata": {},
   "outputs": [
    {
     "data": {
      "text/html": [
       "<div>\n",
       "<style scoped>\n",
       "    .dataframe tbody tr th:only-of-type {\n",
       "        vertical-align: middle;\n",
       "    }\n",
       "\n",
       "    .dataframe tbody tr th {\n",
       "        vertical-align: top;\n",
       "    }\n",
       "\n",
       "    .dataframe thead th {\n",
       "        text-align: right;\n",
       "    }\n",
       "</style>\n",
       "<table border=\"1\" class=\"dataframe\">\n",
       "  <thead>\n",
       "    <tr style=\"text-align: right;\">\n",
       "      <th></th>\n",
       "      <th>날짜</th>\n",
       "      <th>도시</th>\n",
       "      <th>variable</th>\n",
       "      <th>value</th>\n",
       "    </tr>\n",
       "  </thead>\n",
       "  <tbody>\n",
       "    <tr>\n",
       "      <th>0</th>\n",
       "      <td>2023-01-01</td>\n",
       "      <td>서울</td>\n",
       "      <td>온도</td>\n",
       "      <td>2</td>\n",
       "    </tr>\n",
       "    <tr>\n",
       "      <th>1</th>\n",
       "      <td>2023-01-02</td>\n",
       "      <td>서울</td>\n",
       "      <td>온도</td>\n",
       "      <td>3</td>\n",
       "    </tr>\n",
       "    <tr>\n",
       "      <th>2</th>\n",
       "      <td>2023-01-01</td>\n",
       "      <td>부산</td>\n",
       "      <td>온도</td>\n",
       "      <td>6</td>\n",
       "    </tr>\n",
       "    <tr>\n",
       "      <th>3</th>\n",
       "      <td>2023-01-02</td>\n",
       "      <td>부산</td>\n",
       "      <td>온도</td>\n",
       "      <td>7</td>\n",
       "    </tr>\n",
       "    <tr>\n",
       "      <th>4</th>\n",
       "      <td>2023-01-01</td>\n",
       "      <td>서울</td>\n",
       "      <td>습도</td>\n",
       "      <td>55</td>\n",
       "    </tr>\n",
       "    <tr>\n",
       "      <th>5</th>\n",
       "      <td>2023-01-02</td>\n",
       "      <td>서울</td>\n",
       "      <td>습도</td>\n",
       "      <td>60</td>\n",
       "    </tr>\n",
       "    <tr>\n",
       "      <th>6</th>\n",
       "      <td>2023-01-01</td>\n",
       "      <td>부산</td>\n",
       "      <td>습도</td>\n",
       "      <td>80</td>\n",
       "    </tr>\n",
       "    <tr>\n",
       "      <th>7</th>\n",
       "      <td>2023-01-02</td>\n",
       "      <td>부산</td>\n",
       "      <td>습도</td>\n",
       "      <td>85</td>\n",
       "    </tr>\n",
       "  </tbody>\n",
       "</table>\n",
       "</div>"
      ],
      "text/plain": [
       "           날짜  도시 variable  value\n",
       "0  2023-01-01  서울       온도      2\n",
       "1  2023-01-02  서울       온도      3\n",
       "2  2023-01-01  부산       온도      6\n",
       "3  2023-01-02  부산       온도      7\n",
       "4  2023-01-01  서울       습도     55\n",
       "5  2023-01-02  서울       습도     60\n",
       "6  2023-01-01  부산       습도     80\n",
       "7  2023-01-02  부산       습도     85"
      ]
     },
     "execution_count": 83,
     "metadata": {},
     "output_type": "execute_result"
    }
   ],
   "source": [
    "#출력\n",
    "melted_df"
   ]
  },
  {
   "cell_type": "code",
   "execution_count": 85,
   "id": "e22b6bb4-df53-47ba-b86a-57817a0c3428",
   "metadata": {},
   "outputs": [],
   "source": [
    "#온도와 습도 열이 하나의 열(variable)로 통합되어 melt()되었습니다."
   ]
  },
  {
   "cell_type": "code",
   "execution_count": null,
   "id": "c32e8367-dcec-4277-9cc8-2ac315357771",
   "metadata": {},
   "outputs": [],
   "source": []
  },
  {
   "cell_type": "code",
   "execution_count": 88,
   "id": "384e1437-40b7-412b-93a1-97456e1fb61b",
   "metadata": {},
   "outputs": [],
   "source": [
    "#stack()과 unstack()을 사용한 데이터 변환\n",
    "#stack()은 열 데이터를 인덱스의 하위 레벨로 이동시키고, unstack()은 그 반대 작업을 수행.\n",
    "#이는 멀티 인덱스 데이터프레임에서 유용."
   ]
  },
  {
   "cell_type": "code",
   "execution_count": 90,
   "id": "5c418dde-adcb-4a20-8ddf-769711a95c67",
   "metadata": {},
   "outputs": [],
   "source": [
    "#'도시' 레벨을 인덱스로 스택(stack)\n",
    "stacked_df = pivot_df.stack()"
   ]
  },
  {
   "cell_type": "code",
   "execution_count": 92,
   "id": "8f997a72-d7bb-48fd-8f0c-bfb7ed8f9925",
   "metadata": {},
   "outputs": [
    {
     "data": {
      "text/plain": [
       "날짜          도시\n",
       "2023-01-01  부산    6\n",
       "            서울    2\n",
       "2023-01-02  부산    7\n",
       "            서울    3\n",
       "dtype: int64"
      ]
     },
     "execution_count": 92,
     "metadata": {},
     "output_type": "execute_result"
    }
   ],
   "source": [
    "#출력\n",
    "stacked_df\n",
    "#'도시'가 인덱스로 변환"
   ]
  },
  {
   "cell_type": "code",
   "execution_count": 96,
   "id": "9f4a3576-edfa-417f-ab96-bb7d97470d91",
   "metadata": {},
   "outputs": [],
   "source": [
    "#다시 언스택(unstack)하여 원래 구조로 복원\n",
    "unstacked_df = stacked_df.unstack()"
   ]
  },
  {
   "cell_type": "code",
   "execution_count": 98,
   "id": "229440ed-fda5-4010-93a2-bcf027935fcd",
   "metadata": {},
   "outputs": [
    {
     "data": {
      "text/html": [
       "<div>\n",
       "<style scoped>\n",
       "    .dataframe tbody tr th:only-of-type {\n",
       "        vertical-align: middle;\n",
       "    }\n",
       "\n",
       "    .dataframe tbody tr th {\n",
       "        vertical-align: top;\n",
       "    }\n",
       "\n",
       "    .dataframe thead th {\n",
       "        text-align: right;\n",
       "    }\n",
       "</style>\n",
       "<table border=\"1\" class=\"dataframe\">\n",
       "  <thead>\n",
       "    <tr style=\"text-align: right;\">\n",
       "      <th>도시</th>\n",
       "      <th>부산</th>\n",
       "      <th>서울</th>\n",
       "    </tr>\n",
       "    <tr>\n",
       "      <th>날짜</th>\n",
       "      <th></th>\n",
       "      <th></th>\n",
       "    </tr>\n",
       "  </thead>\n",
       "  <tbody>\n",
       "    <tr>\n",
       "      <th>2023-01-01</th>\n",
       "      <td>6</td>\n",
       "      <td>2</td>\n",
       "    </tr>\n",
       "    <tr>\n",
       "      <th>2023-01-02</th>\n",
       "      <td>7</td>\n",
       "      <td>3</td>\n",
       "    </tr>\n",
       "  </tbody>\n",
       "</table>\n",
       "</div>"
      ],
      "text/plain": [
       "도시          부산  서울\n",
       "날짜                \n",
       "2023-01-01   6   2\n",
       "2023-01-02   7   3"
      ]
     },
     "execution_count": 98,
     "metadata": {},
     "output_type": "execute_result"
    }
   ],
   "source": [
    "#출력\n",
    "unstacked_df"
   ]
  },
  {
   "cell_type": "code",
   "execution_count": 100,
   "id": "c52f1b90-1223-4a7a-8f49-e704912c1139",
   "metadata": {},
   "outputs": [],
   "source": [
    "#결과는 원래의 피벗 테이블 형태로 돌아옴."
   ]
  },
  {
   "cell_type": "code",
   "execution_count": null,
   "id": "57dd66b2-ca97-43b2-9bf5-3191184857c3",
   "metadata": {},
   "outputs": [],
   "source": []
  },
  {
   "cell_type": "code",
   "execution_count": 103,
   "id": "36cb24c1-e13b-40c8-817e-a19b2b6cd6be",
   "metadata": {},
   "outputs": [],
   "source": [
    "#데이터프레임 크기 조정하기\n",
    "#데이터프레임의 크기를 조정하는 방법에는 행과 열의 추가, 삭제, 데이터 병합 등이 있음.\n",
    "#이를 통해 데이터를 분석하기에 적합한 형태로 조정 가능."
   ]
  },
  {
   "cell_type": "code",
   "execution_count": 105,
   "id": "ef645ca4-8a1b-4377-b041-38a8035ec450",
   "metadata": {},
   "outputs": [],
   "source": [
    "#행과 열 추가하기\n",
    "#새로운 열을 추가할 때는 새로운 데이터를 할당하면 됨.\n",
    "\n",
    "#예)\n",
    "#df['새로운 열'] = 값 의 형태로 추가"
   ]
  },
  {
   "cell_type": "code",
   "execution_count": 107,
   "id": "ab66bda7-1e14-4e26-8934-bb360538e855",
   "metadata": {},
   "outputs": [],
   "source": [
    "#새로운 열 추가\n",
    "df['날씨'] = ['맑음', '흐림', '밁음', '흐림']"
   ]
  },
  {
   "cell_type": "code",
   "execution_count": 109,
   "id": "2d815773-2dd9-45c8-8c4f-6caafd79e6e5",
   "metadata": {},
   "outputs": [
    {
     "data": {
      "text/html": [
       "<div>\n",
       "<style scoped>\n",
       "    .dataframe tbody tr th:only-of-type {\n",
       "        vertical-align: middle;\n",
       "    }\n",
       "\n",
       "    .dataframe tbody tr th {\n",
       "        vertical-align: top;\n",
       "    }\n",
       "\n",
       "    .dataframe thead th {\n",
       "        text-align: right;\n",
       "    }\n",
       "</style>\n",
       "<table border=\"1\" class=\"dataframe\">\n",
       "  <thead>\n",
       "    <tr style=\"text-align: right;\">\n",
       "      <th></th>\n",
       "      <th>날짜</th>\n",
       "      <th>도시</th>\n",
       "      <th>온도</th>\n",
       "      <th>습도</th>\n",
       "      <th>날씨</th>\n",
       "    </tr>\n",
       "  </thead>\n",
       "  <tbody>\n",
       "    <tr>\n",
       "      <th>0</th>\n",
       "      <td>2023-01-01</td>\n",
       "      <td>서울</td>\n",
       "      <td>2</td>\n",
       "      <td>55</td>\n",
       "      <td>맑음</td>\n",
       "    </tr>\n",
       "    <tr>\n",
       "      <th>1</th>\n",
       "      <td>2023-01-02</td>\n",
       "      <td>서울</td>\n",
       "      <td>3</td>\n",
       "      <td>60</td>\n",
       "      <td>흐림</td>\n",
       "    </tr>\n",
       "    <tr>\n",
       "      <th>2</th>\n",
       "      <td>2023-01-01</td>\n",
       "      <td>부산</td>\n",
       "      <td>6</td>\n",
       "      <td>80</td>\n",
       "      <td>밁음</td>\n",
       "    </tr>\n",
       "    <tr>\n",
       "      <th>3</th>\n",
       "      <td>2023-01-02</td>\n",
       "      <td>부산</td>\n",
       "      <td>7</td>\n",
       "      <td>85</td>\n",
       "      <td>흐림</td>\n",
       "    </tr>\n",
       "  </tbody>\n",
       "</table>\n",
       "</div>"
      ],
      "text/plain": [
       "           날짜  도시  온도  습도  날씨\n",
       "0  2023-01-01  서울   2  55  맑음\n",
       "1  2023-01-02  서울   3  60  흐림\n",
       "2  2023-01-01  부산   6  80  밁음\n",
       "3  2023-01-02  부산   7  85  흐림"
      ]
     },
     "execution_count": 109,
     "metadata": {},
     "output_type": "execute_result"
    }
   ],
   "source": [
    "#출력\n",
    "df"
   ]
  },
  {
   "cell_type": "code",
   "execution_count": 111,
   "id": "033ea4b0-76c1-426f-85c4-985cc7f57101",
   "metadata": {},
   "outputs": [],
   "source": [
    "#새로운 열(날씨)이 추가됨."
   ]
  },
  {
   "cell_type": "code",
   "execution_count": null,
   "id": "bd2c2400-bfae-442d-9d4b-c1ad61d90409",
   "metadata": {},
   "outputs": [],
   "source": []
  },
  {
   "cell_type": "code",
   "execution_count": 114,
   "id": "e2839be8-0e89-4142-a316-878f2890d4c6",
   "metadata": {},
   "outputs": [],
   "source": [
    "#행과 열 삭제하기\n",
    "#행과 열 삭제는 drop() 함수를 사용.\n",
    "#axis=0은 행을, axis=1은 열을 삭제."
   ]
  },
  {
   "cell_type": "code",
   "execution_count": 122,
   "id": "fd285795-3aef-4080-a889-752b68a152cc",
   "metadata": {},
   "outputs": [],
   "source": [
    "#'습도'열 삭제\n",
    "df_dropped = df.drop(columns=['습도'])"
   ]
  },
  {
   "cell_type": "code",
   "execution_count": 124,
   "id": "1f2bc99a-84a2-4233-a461-510b19fcb74d",
   "metadata": {},
   "outputs": [
    {
     "data": {
      "text/html": [
       "<div>\n",
       "<style scoped>\n",
       "    .dataframe tbody tr th:only-of-type {\n",
       "        vertical-align: middle;\n",
       "    }\n",
       "\n",
       "    .dataframe tbody tr th {\n",
       "        vertical-align: top;\n",
       "    }\n",
       "\n",
       "    .dataframe thead th {\n",
       "        text-align: right;\n",
       "    }\n",
       "</style>\n",
       "<table border=\"1\" class=\"dataframe\">\n",
       "  <thead>\n",
       "    <tr style=\"text-align: right;\">\n",
       "      <th></th>\n",
       "      <th>날짜</th>\n",
       "      <th>도시</th>\n",
       "      <th>온도</th>\n",
       "      <th>날씨</th>\n",
       "    </tr>\n",
       "  </thead>\n",
       "  <tbody>\n",
       "    <tr>\n",
       "      <th>0</th>\n",
       "      <td>2023-01-01</td>\n",
       "      <td>서울</td>\n",
       "      <td>2</td>\n",
       "      <td>맑음</td>\n",
       "    </tr>\n",
       "    <tr>\n",
       "      <th>1</th>\n",
       "      <td>2023-01-02</td>\n",
       "      <td>서울</td>\n",
       "      <td>3</td>\n",
       "      <td>흐림</td>\n",
       "    </tr>\n",
       "    <tr>\n",
       "      <th>2</th>\n",
       "      <td>2023-01-01</td>\n",
       "      <td>부산</td>\n",
       "      <td>6</td>\n",
       "      <td>밁음</td>\n",
       "    </tr>\n",
       "    <tr>\n",
       "      <th>3</th>\n",
       "      <td>2023-01-02</td>\n",
       "      <td>부산</td>\n",
       "      <td>7</td>\n",
       "      <td>흐림</td>\n",
       "    </tr>\n",
       "  </tbody>\n",
       "</table>\n",
       "</div>"
      ],
      "text/plain": [
       "           날짜  도시  온도  날씨\n",
       "0  2023-01-01  서울   2  맑음\n",
       "1  2023-01-02  서울   3  흐림\n",
       "2  2023-01-01  부산   6  밁음\n",
       "3  2023-01-02  부산   7  흐림"
      ]
     },
     "execution_count": 124,
     "metadata": {},
     "output_type": "execute_result"
    }
   ],
   "source": [
    "#출력\n",
    "df_dropped"
   ]
  },
  {
   "cell_type": "code",
   "execution_count": 126,
   "id": "895e7bfb-57cd-4d6e-bde0-37ae500ff068",
   "metadata": {},
   "outputs": [],
   "source": [
    "#'습도' 열이 삭제되었음."
   ]
  },
  {
   "cell_type": "code",
   "execution_count": null,
   "id": "44eb8f49-51e5-4ef4-b939-8468091f46b4",
   "metadata": {},
   "outputs": [],
   "source": []
  },
  {
   "cell_type": "code",
   "execution_count": 129,
   "id": "25c04301-c392-4ff0-a1ed-f31b9954ac86",
   "metadata": {},
   "outputs": [],
   "source": [
    "#특정 행 삭제(예: 첫 번째 행)\n",
    "df_dropped_row = df.drop(index=0)"
   ]
  },
  {
   "cell_type": "code",
   "execution_count": 131,
   "id": "917d093e-0b1e-4cd3-aa34-5738336c62c1",
   "metadata": {},
   "outputs": [
    {
     "data": {
      "text/html": [
       "<div>\n",
       "<style scoped>\n",
       "    .dataframe tbody tr th:only-of-type {\n",
       "        vertical-align: middle;\n",
       "    }\n",
       "\n",
       "    .dataframe tbody tr th {\n",
       "        vertical-align: top;\n",
       "    }\n",
       "\n",
       "    .dataframe thead th {\n",
       "        text-align: right;\n",
       "    }\n",
       "</style>\n",
       "<table border=\"1\" class=\"dataframe\">\n",
       "  <thead>\n",
       "    <tr style=\"text-align: right;\">\n",
       "      <th></th>\n",
       "      <th>날짜</th>\n",
       "      <th>도시</th>\n",
       "      <th>온도</th>\n",
       "      <th>습도</th>\n",
       "      <th>날씨</th>\n",
       "    </tr>\n",
       "  </thead>\n",
       "  <tbody>\n",
       "    <tr>\n",
       "      <th>1</th>\n",
       "      <td>2023-01-02</td>\n",
       "      <td>서울</td>\n",
       "      <td>3</td>\n",
       "      <td>60</td>\n",
       "      <td>흐림</td>\n",
       "    </tr>\n",
       "    <tr>\n",
       "      <th>2</th>\n",
       "      <td>2023-01-01</td>\n",
       "      <td>부산</td>\n",
       "      <td>6</td>\n",
       "      <td>80</td>\n",
       "      <td>밁음</td>\n",
       "    </tr>\n",
       "    <tr>\n",
       "      <th>3</th>\n",
       "      <td>2023-01-02</td>\n",
       "      <td>부산</td>\n",
       "      <td>7</td>\n",
       "      <td>85</td>\n",
       "      <td>흐림</td>\n",
       "    </tr>\n",
       "  </tbody>\n",
       "</table>\n",
       "</div>"
      ],
      "text/plain": [
       "           날짜  도시  온도  습도  날씨\n",
       "1  2023-01-02  서울   3  60  흐림\n",
       "2  2023-01-01  부산   6  80  밁음\n",
       "3  2023-01-02  부산   7  85  흐림"
      ]
     },
     "execution_count": 131,
     "metadata": {},
     "output_type": "execute_result"
    }
   ],
   "source": [
    "#출력\n",
    "df_dropped_row"
   ]
  },
  {
   "cell_type": "code",
   "execution_count": 133,
   "id": "06535712-e638-45fe-a4e8-71f0bddaf0e2",
   "metadata": {},
   "outputs": [],
   "source": [
    "#첫 번째 행 삭제"
   ]
  },
  {
   "cell_type": "code",
   "execution_count": null,
   "id": "c789395e-f3c4-424e-b582-952fac8f7c08",
   "metadata": {},
   "outputs": [],
   "source": []
  },
  {
   "cell_type": "code",
   "execution_count": 136,
   "id": "597df42b-e125-4cd1-9f2b-930f8da905df",
   "metadata": {},
   "outputs": [],
   "source": [
    "#데이터 병합하기\n",
    "#데이터프레임을 병합할 때는 concat()과 merge()를 사용함.\n",
    "#이들은 데이터를 추가하거나 병합하는 데 사용됨."
   ]
  },
  {
   "cell_type": "code",
   "execution_count": 138,
   "id": "0cea305c-d625-401b-b772-1309009fc243",
   "metadata": {},
   "outputs": [],
   "source": [
    "# 새로운 데이터프레임 생성\n",
    "data2 = {\n",
    "    '날짜': ['2023-01-03', '2023-01-04'],\n",
    "    '도시': ['서울', '부산'],\n",
    "    '온도': [5, 8],\n",
    "    '습도': [70, 75],\n",
    "    '날씨': ['맑음', '흐림']\n",
    "}\n",
    "df2 = pd.DataFrame(data2)"
   ]
  },
  {
   "cell_type": "code",
   "execution_count": 142,
   "id": "e847ebad-878a-46a8-bfa0-d1a104c11d41",
   "metadata": {},
   "outputs": [
    {
     "data": {
      "text/html": [
       "<div>\n",
       "<style scoped>\n",
       "    .dataframe tbody tr th:only-of-type {\n",
       "        vertical-align: middle;\n",
       "    }\n",
       "\n",
       "    .dataframe tbody tr th {\n",
       "        vertical-align: top;\n",
       "    }\n",
       "\n",
       "    .dataframe thead th {\n",
       "        text-align: right;\n",
       "    }\n",
       "</style>\n",
       "<table border=\"1\" class=\"dataframe\">\n",
       "  <thead>\n",
       "    <tr style=\"text-align: right;\">\n",
       "      <th></th>\n",
       "      <th>날짜</th>\n",
       "      <th>도시</th>\n",
       "      <th>온도</th>\n",
       "      <th>습도</th>\n",
       "      <th>날씨</th>\n",
       "    </tr>\n",
       "  </thead>\n",
       "  <tbody>\n",
       "    <tr>\n",
       "      <th>0</th>\n",
       "      <td>2023-01-03</td>\n",
       "      <td>서울</td>\n",
       "      <td>5</td>\n",
       "      <td>70</td>\n",
       "      <td>맑음</td>\n",
       "    </tr>\n",
       "    <tr>\n",
       "      <th>1</th>\n",
       "      <td>2023-01-04</td>\n",
       "      <td>부산</td>\n",
       "      <td>8</td>\n",
       "      <td>75</td>\n",
       "      <td>흐림</td>\n",
       "    </tr>\n",
       "  </tbody>\n",
       "</table>\n",
       "</div>"
      ],
      "text/plain": [
       "           날짜  도시  온도  습도  날씨\n",
       "0  2023-01-03  서울   5  70  맑음\n",
       "1  2023-01-04  부산   8  75  흐림"
      ]
     },
     "execution_count": 142,
     "metadata": {},
     "output_type": "execute_result"
    }
   ],
   "source": [
    "#출력\n",
    "df2"
   ]
  },
  {
   "cell_type": "code",
   "execution_count": 146,
   "id": "d06acba7-9c30-4a69-b9a7-16986e84ed51",
   "metadata": {},
   "outputs": [],
   "source": [
    "#행을 기준으로 데이터프레임 병합 (concat)\n",
    "merged_df = pd.concat([df, df2], ignore_index = True)"
   ]
  },
  {
   "cell_type": "code",
   "execution_count": 148,
   "id": "725cb88e-5ef5-49d9-a0f7-50dd4ca4cb01",
   "metadata": {},
   "outputs": [
    {
     "data": {
      "text/html": [
       "<div>\n",
       "<style scoped>\n",
       "    .dataframe tbody tr th:only-of-type {\n",
       "        vertical-align: middle;\n",
       "    }\n",
       "\n",
       "    .dataframe tbody tr th {\n",
       "        vertical-align: top;\n",
       "    }\n",
       "\n",
       "    .dataframe thead th {\n",
       "        text-align: right;\n",
       "    }\n",
       "</style>\n",
       "<table border=\"1\" class=\"dataframe\">\n",
       "  <thead>\n",
       "    <tr style=\"text-align: right;\">\n",
       "      <th></th>\n",
       "      <th>날짜</th>\n",
       "      <th>도시</th>\n",
       "      <th>온도</th>\n",
       "      <th>습도</th>\n",
       "      <th>날씨</th>\n",
       "    </tr>\n",
       "  </thead>\n",
       "  <tbody>\n",
       "    <tr>\n",
       "      <th>0</th>\n",
       "      <td>2023-01-01</td>\n",
       "      <td>서울</td>\n",
       "      <td>2</td>\n",
       "      <td>55</td>\n",
       "      <td>맑음</td>\n",
       "    </tr>\n",
       "    <tr>\n",
       "      <th>1</th>\n",
       "      <td>2023-01-02</td>\n",
       "      <td>서울</td>\n",
       "      <td>3</td>\n",
       "      <td>60</td>\n",
       "      <td>흐림</td>\n",
       "    </tr>\n",
       "    <tr>\n",
       "      <th>2</th>\n",
       "      <td>2023-01-01</td>\n",
       "      <td>부산</td>\n",
       "      <td>6</td>\n",
       "      <td>80</td>\n",
       "      <td>밁음</td>\n",
       "    </tr>\n",
       "    <tr>\n",
       "      <th>3</th>\n",
       "      <td>2023-01-02</td>\n",
       "      <td>부산</td>\n",
       "      <td>7</td>\n",
       "      <td>85</td>\n",
       "      <td>흐림</td>\n",
       "    </tr>\n",
       "    <tr>\n",
       "      <th>4</th>\n",
       "      <td>2023-01-03</td>\n",
       "      <td>서울</td>\n",
       "      <td>5</td>\n",
       "      <td>70</td>\n",
       "      <td>맑음</td>\n",
       "    </tr>\n",
       "    <tr>\n",
       "      <th>5</th>\n",
       "      <td>2023-01-04</td>\n",
       "      <td>부산</td>\n",
       "      <td>8</td>\n",
       "      <td>75</td>\n",
       "      <td>흐림</td>\n",
       "    </tr>\n",
       "  </tbody>\n",
       "</table>\n",
       "</div>"
      ],
      "text/plain": [
       "           날짜  도시  온도  습도  날씨\n",
       "0  2023-01-01  서울   2  55  맑음\n",
       "1  2023-01-02  서울   3  60  흐림\n",
       "2  2023-01-01  부산   6  80  밁음\n",
       "3  2023-01-02  부산   7  85  흐림\n",
       "4  2023-01-03  서울   5  70  맑음\n",
       "5  2023-01-04  부산   8  75  흐림"
      ]
     },
     "execution_count": 148,
     "metadata": {},
     "output_type": "execute_result"
    }
   ],
   "source": [
    "#출력\n",
    "merged_df"
   ]
  },
  {
   "cell_type": "code",
   "execution_count": 150,
   "id": "90b21672-b1b4-4589-9d84-6c8b3e983199",
   "metadata": {},
   "outputs": [],
   "source": [
    "# 새로운 데이터가 병합되어 데이터프레임의 크기가 확장"
   ]
  },
  {
   "cell_type": "code",
   "execution_count": null,
   "id": "38b48c38-9230-47fe-80c9-5d2c0d7b67c6",
   "metadata": {},
   "outputs": [],
   "source": []
  },
  {
   "cell_type": "code",
   "execution_count": 153,
   "id": "8c59463b-ae44-4b88-a89f-3111f2e883b9",
   "metadata": {},
   "outputs": [],
   "source": [
    "#요약\n",
    "#데이터프레임 구조화 다시하기에는 pivot(), melt(), stack(), unstack() 등이 사용되며, 이를 통해 다양한 방식으로 변형 및 재구성 가능.\n",
    "#크기 조정에는 새로운 행과 열을 추가하거나, drop()을 사용해 삭제하는 방법이 있으며, concat()과 merge()를 통해 데이터를 병합할 수 있음."
   ]
  }
 ],
 "metadata": {
  "kernelspec": {
   "display_name": "Python 3 (ipykernel)",
   "language": "python",
   "name": "python3"
  },
  "language_info": {
   "codemirror_mode": {
    "name": "ipython",
    "version": 3
   },
   "file_extension": ".py",
   "mimetype": "text/x-python",
   "name": "python",
   "nbconvert_exporter": "python",
   "pygments_lexer": "ipython3",
   "version": "3.12.4"
  }
 },
 "nbformat": 4,
 "nbformat_minor": 5
}
