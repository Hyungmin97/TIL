{
 "cells": [
  {
   "cell_type": "code",
   "execution_count": 1,
   "id": "3ccf2eaa-1c92-4e82-b44e-539bb4c5fd03",
   "metadata": {},
   "outputs": [],
   "source": [
    "#조건부 필터링과 데이터 타입 변환"
   ]
  },
  {
   "cell_type": "code",
   "execution_count": 3,
   "id": "6f81f868-2b64-4616-9c4d-a12ee1d2dc8b",
   "metadata": {},
   "outputs": [],
   "source": [
    "#조건부 필터링\n",
    "#조건부 필터링을 통해 데이터프레임에서 특정 조건을 만족하는 데이터만 선택할 수 있음."
   ]
  },
  {
   "cell_type": "code",
   "execution_count": 7,
   "id": "c0c2b147-3e6c-4c3a-b779-1825b36f725a",
   "metadata": {},
   "outputs": [
    {
     "name": "stdout",
     "output_type": "stream",
     "text": [
      "   이름  나이    직업\n",
      "0  철수  25    학생\n",
      "1  영희  30   회사원\n",
      "3  지수  35  프리랜서\n"
     ]
    }
   ],
   "source": [
    "#기본 조건부 필터링\n",
    "\n",
    "import pandas as pd\n",
    "\n",
    "#데이터 프레임 생성\n",
    "data = {\n",
    "    '이름': ['철수','영희','민수','지수'],\n",
    "    '나이': [25,30,22,35],\n",
    "    '직업': ['학생','회사원','학셍','프리랜서']\n",
    "}\n",
    "df = pd.DataFrame(data)\n",
    "\n",
    "#나이가 25 이상인 행만 선택\n",
    "filtered_df = df[df['나이']>=25]\n",
    "\n",
    "print(filtered_df)"
   ]
  },
  {
   "cell_type": "code",
   "execution_count": null,
   "id": "a741d099-9e2a-4837-acb5-ff8b71a64da6",
   "metadata": {},
   "outputs": [],
   "source": []
  },
  {
   "cell_type": "code",
   "execution_count": 18,
   "id": "04f08ce6-0f20-43cd-a345-1310debc1eff",
   "metadata": {},
   "outputs": [
    {
     "name": "stdout",
     "output_type": "stream",
     "text": [
      "   이름  나이  직업\n",
      "0  철수  25  학생\n"
     ]
    }
   ],
   "source": [
    "#여러 조건을 사용한 필터링\n",
    "#여러 조건을 결합하여 필터링할 수 있음.\n",
    "#AND(&), OR(|) 연산자 사용.\n",
    "\n",
    "#나이가 25 이상이고, 직업이 '학생'인 행만 선택\n",
    "filtered_df = df[(df['나이']>=25) & (df['직업'] == '학생')]\n",
    "\n",
    "print(filtered_df)"
   ]
  },
  {
   "cell_type": "code",
   "execution_count": null,
   "id": "7a369b37-951f-47ac-b7dd-709a73bc09fd",
   "metadata": {},
   "outputs": [],
   "source": []
  },
  {
   "cell_type": "code",
   "execution_count": 21,
   "id": "87b4aaf8-bd30-44d5-b384-bd6baa26d23a",
   "metadata": {},
   "outputs": [
    {
     "name": "stdout",
     "output_type": "stream",
     "text": [
      "   이름  나이    직업\n",
      "0  철수  25    학생\n",
      "3  지수  35  프리랜서\n"
     ]
    }
   ],
   "source": [
    "#isin()을 사용한 필터링\n",
    "#특정 값들이 포함된 행을 필터링할 때 유용.\n",
    "\n",
    "#직업이 '학생' 또는 '프리랜서'인 행 선택\n",
    "filtered_df = df[df['직업'].isin(['학생', '프리랜서'])]\n",
    "print(filtered_df)"
   ]
  },
  {
   "cell_type": "code",
   "execution_count": null,
   "id": "06b3ee8c-686b-40fa-80c6-d85c74e8e016",
   "metadata": {},
   "outputs": [],
   "source": []
  },
  {
   "cell_type": "code",
   "execution_count": 26,
   "id": "bc62f2d9-6b85-4691-909a-af8ed31ce724",
   "metadata": {},
   "outputs": [
    {
     "name": "stdout",
     "output_type": "stream",
     "text": [
      "   이름  나이    직업\n",
      "1  영희  30   회사원\n",
      "2  민수  22    학셍\n",
      "3  지수  35  프리랜서\n"
     ]
    }
   ],
   "source": [
    "#연산자를 사용한 반대 조건 필터링\n",
    "#특정 조건을 부정하는 데이터를 선택할 때 사용.\n",
    "\n",
    "#직업이 '학생'이 아닌 행 선택\n",
    "filtered_df = df[~(df['직업'] =='학생')]\n",
    "print(filtered_df)"
   ]
  },
  {
   "cell_type": "code",
   "execution_count": null,
   "id": "b5b1eb8e-c59a-4bfb-af6c-0d1e1dfe0fb2",
   "metadata": {},
   "outputs": [],
   "source": []
  },
  {
   "cell_type": "code",
   "execution_count": 29,
   "id": "e67bec33-3429-4fda-81ee-1dfad6eb97fa",
   "metadata": {},
   "outputs": [],
   "source": [
    "#데이터 타입 변환"
   ]
  },
  {
   "cell_type": "code",
   "execution_count": 33,
   "id": "37600da5-cb00-4341-9a8e-77a31f19cde1",
   "metadata": {},
   "outputs": [
    {
     "name": "stdout",
     "output_type": "stream",
     "text": [
      "이름    object\n",
      "나이     int64\n",
      "직업    object\n",
      "dtype: object\n"
     ]
    }
   ],
   "source": [
    "#dtypes으로 데이터 타입 확인\n",
    "\n",
    "print(df.dtypes)"
   ]
  },
  {
   "cell_type": "code",
   "execution_count": 35,
   "id": "2d57d751-7ba6-4e81-b475-0e6088ef5b54",
   "metadata": {},
   "outputs": [
    {
     "name": "stdout",
     "output_type": "stream",
     "text": [
      "이름     object\n",
      "나이    float64\n",
      "직업     object\n",
      "dtype: object\n"
     ]
    }
   ],
   "source": [
    "#astype()을 사용한 데이터 타입 변환\n",
    "#astype() 함수로 특정 열의 데이터 타입을 변경할 수 있음.\n",
    "\n",
    "#'나이'열을 정수형(int)에서 실수형(float)으로 변환\n",
    "df['나이'] = df['나이'].astype(float)\n",
    "print(df.dtypes)"
   ]
  },
  {
   "cell_type": "code",
   "execution_count": 52,
   "id": "13a908e5-6d5e-47f3-8b81-f1624740fa6d",
   "metadata": {},
   "outputs": [
    {
     "name": "stdout",
     "output_type": "stream",
     "text": [
      "이름             object\n",
      "가입일    datetime64[ns]\n",
      "직업             object\n",
      "dtype: object\n"
     ]
    }
   ],
   "source": [
    "#날짜 타입으로 변환\n",
    "#날짜 데이터는 pd.to_datetime() 함수를 사용해 날짜 타입으로 변환할 수 있음.\n",
    "\n",
    "data = {\n",
    "    '이름' : ['철수','영희','민수'],\n",
    "    '가입일' : ['2023-01-01', '2022-12-15', '2023-05-22'],\n",
    "    '직업' : ['학생', '프리랜서', '백수']\n",
    "}\n",
    "df = pd.DataFrame(data)\n",
    "\n",
    "#'가입일'을 날짜 타입으로 변환\n",
    "df['가입일'] = pd.to_datetime(df['가입일'])\n",
    "print(df.dtypes)"
   ]
  },
  {
   "cell_type": "code",
   "execution_count": 54,
   "id": "32ba92b4-5fa4-48ae-9860-8780fdcdcf36",
   "metadata": {},
   "outputs": [
    {
     "name": "stdout",
     "output_type": "stream",
     "text": [
      "이름             object\n",
      "가입일    datetime64[ns]\n",
      "직업           category\n",
      "dtype: object\n"
     ]
    }
   ],
   "source": [
    "#카테고리 데이터로 변환\n",
    "#카테고리 메모리를 절약하고, 성능을 높이기 위해 사용.\n",
    "\n",
    "#'직업' 열을 카테고리형으로 변환\n",
    "df['직업'] = df['직업'].astype('category')\n",
    "print(df.dtypes)"
   ]
  }
 ],
 "metadata": {
  "kernelspec": {
   "display_name": "Python 3 (ipykernel)",
   "language": "python",
   "name": "python3"
  },
  "language_info": {
   "codemirror_mode": {
    "name": "ipython",
    "version": 3
   },
   "file_extension": ".py",
   "mimetype": "text/x-python",
   "name": "python",
   "nbconvert_exporter": "python",
   "pygments_lexer": "ipython3",
   "version": "3.12.4"
  }
 },
 "nbformat": 4,
 "nbformat_minor": 5
}
