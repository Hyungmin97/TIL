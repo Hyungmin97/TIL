{
 "cells": [
  {
   "cell_type": "code",
   "execution_count": 1,
   "id": "2603c4ff-1c7c-43db-8078-f7ed014288c6",
   "metadata": {},
   "outputs": [],
   "source": [
    "#판다스 사용을 위해 데이터를 불러오기와 저장하기"
   ]
  },
  {
   "cell_type": "code",
   "execution_count": 3,
   "id": "eed72037-3d70-496d-8cec-0a9e18ab7ea9",
   "metadata": {},
   "outputs": [],
   "source": [
    "#CSV 파일 불러오기\n",
    "# CSV 파일은 가장 많이 사용되는 데이터 형식 중 하나.\n",
    "# pandas에서는 read_csv 함수를 사용해서 쉽게 불러올 수 있음."
   ]
  },
  {
   "cell_type": "code",
   "execution_count": 8,
   "id": "3adb3ef6-fb4b-4b89-a005-017dd345da7d",
   "metadata": {},
   "outputs": [
    {
     "name": "stdout",
     "output_type": "stream",
     "text": [
      "       상권번호       상권명  시도코드    시도명  시군구코드 시군구명  상권좌표수  \\\n",
      "0      9138     공덕역_1    11  서울특별시  11440  마포구     19   \n",
      "1      9139     공덕역_2    11  서울특별시  11440  마포구     25   \n",
      "2      9140  디지털미디어시티    11  서울특별시  11440  마포구     44   \n",
      "3      9141     마포역_1    11  서울특별시  11440  마포구     54   \n",
      "4      9142     마포역_2    11  서울특별시  11440  마포구     44   \n",
      "...     ...       ...   ...    ...    ...  ...    ...   \n",
      "1162  10372  동아대부민캠퍼스    26  부산광역시  26140   서구      6   \n",
      "1163  10373     동대신동역    26  부산광역시  26140   서구      5   \n",
      "1164  10374     동아대병원    26  부산광역시  26140   서구      7   \n",
      "1165  10375     하단역 3    26  부산광역시  26380  사하구      7   \n",
      "1166  10376     다대포항역    26  부산광역시  26380  사하구     13   \n",
      "\n",
      "                                                   상권좌표     데이터기준일자  \n",
      "0     126.951086855113,37.5437086852164|126.95108685...  2020.12.31  \n",
      "1     126.95321229004,37.5466265375676|126.953212291...  2020.12.31  \n",
      "2     126.887123962571,37.5834487598235|126.88655960...  2020.12.31  \n",
      "3     126.949848889864,37.5421381698383|126.94983757...  2020.12.31  \n",
      "4     126.947814199015,37.5432207096313|126.94780571...  2020.12.31  \n",
      "...                                                 ...         ...  \n",
      "1162  129.021141559118,35.103350139431|129.021257888...  2020.12.31  \n",
      "1163  129.015235871206,35.1120140488436|129.01703930...  2020.12.31  \n",
      "1164  129.016351590164,35.1194662001032|129.01652337...  2020.12.31  \n",
      "1165  128.968231685786,35.106090309415|128.961760672...  2020.12.31  \n",
      "1166  128.971395098319,35.0561584604433|128.97099481...  2020.12.31  \n",
      "\n",
      "[1167 rows x 9 columns]\n"
     ]
    }
   ],
   "source": [
    "import pandas as pd\n",
    "\n",
    "#CSV 파일 불러오기\n",
    "df_csv = pd.read_csv('test.csv')\n",
    "print(df_csv)"
   ]
  },
  {
   "cell_type": "code",
   "execution_count": 10,
   "id": "7d570b8f-4031-4cc1-a16b-25eac2a046c0",
   "metadata": {},
   "outputs": [
    {
     "name": "stdout",
     "output_type": "stream",
     "text": [
      "   상권번호       상권명  시도코드    시도명  시군구코드 시군구명  상권좌표수  \\\n",
      "0  9138     공덕역_1    11  서울특별시  11440  마포구     19   \n",
      "1  9139     공덕역_2    11  서울특별시  11440  마포구     25   \n",
      "2  9140  디지털미디어시티    11  서울특별시  11440  마포구     44   \n",
      "3  9141     마포역_1    11  서울특별시  11440  마포구     54   \n",
      "4  9142     마포역_2    11  서울특별시  11440  마포구     44   \n",
      "\n",
      "                                                상권좌표     데이터기준일자  \n",
      "0  126.951086855113,37.5437086852164|126.95108685...  2020.12.31  \n",
      "1  126.95321229004,37.5466265375676|126.953212291...  2020.12.31  \n",
      "2  126.887123962571,37.5834487598235|126.88655960...  2020.12.31  \n",
      "3  126.949848889864,37.5421381698383|126.94983757...  2020.12.31  \n",
      "4  126.947814199015,37.5432207096313|126.94780571...  2020.12.31  \n"
     ]
    }
   ],
   "source": [
    "# 앞에서부터 5개의 데이터만 출력\n",
    "print(df_csv.head())"
   ]
  },
  {
   "cell_type": "code",
   "execution_count": 12,
   "id": "076f79d9-94fa-4d41-b34e-04f348697413",
   "metadata": {},
   "outputs": [
    {
     "name": "stdout",
     "output_type": "stream",
     "text": [
      "       상권번호       상권명  시도코드    시도명  시군구코드 시군구명  상권좌표수  \\\n",
      "1162  10372  동아대부민캠퍼스    26  부산광역시  26140   서구      6   \n",
      "1163  10373     동대신동역    26  부산광역시  26140   서구      5   \n",
      "1164  10374     동아대병원    26  부산광역시  26140   서구      7   \n",
      "1165  10375     하단역 3    26  부산광역시  26380  사하구      7   \n",
      "1166  10376     다대포항역    26  부산광역시  26380  사하구     13   \n",
      "\n",
      "                                                   상권좌표     데이터기준일자  \n",
      "1162  129.021141559118,35.103350139431|129.021257888...  2020.12.31  \n",
      "1163  129.015235871206,35.1120140488436|129.01703930...  2020.12.31  \n",
      "1164  129.016351590164,35.1194662001032|129.01652337...  2020.12.31  \n",
      "1165  128.968231685786,35.106090309415|128.961760672...  2020.12.31  \n",
      "1166  128.971395098319,35.0561584604433|128.97099481...  2020.12.31  \n"
     ]
    }
   ],
   "source": [
    "#뒤에서부터 5개의 데이터만 출력\n",
    "print(df_csv.tail())"
   ]
  },
  {
   "cell_type": "code",
   "execution_count": 14,
   "id": "0ca52733-de46-4499-91cc-50f876169641",
   "metadata": {},
   "outputs": [],
   "source": [
    "#주요 옵션\n",
    "#sep: 구분자를 지정. 기본값은 ,임.\n",
    "#header: 헤더 행을 지정. 기본값은 첫 번째 행(0)임.\n",
    "\n",
    "#만약 데이터가 탭으로 구분되어 있다면?\n",
    "#df_csv = pd.read_csv(\"test.csv\", sep='\\\\t'"
   ]
  },
  {
   "cell_type": "code",
   "execution_count": 20,
   "id": "0ecf191b-2fae-4e81-89c3-7e46e49ece1c",
   "metadata": {},
   "outputs": [
    {
     "name": "stdout",
     "output_type": "stream",
     "text": [
      "   PassengerId  Survived  Pclass  \\\n",
      "0            1         0       3   \n",
      "1            2         1       1   \n",
      "2            3         1       3   \n",
      "3            4         1       1   \n",
      "4            5         0       3   \n",
      "\n",
      "                                                Name     Sex   Age  SibSp  \\\n",
      "0                            Braund, Mr. Owen Harris    male  22.0      1   \n",
      "1  Cumings, Mrs. John Bradley (Florence Briggs Th...  female  38.0      1   \n",
      "2                             Heikkinen, Miss. Laina  female  26.0      0   \n",
      "3       Futrelle, Mrs. Jacques Heath (Lily May Peel)  female  35.0      1   \n",
      "4                           Allen, Mr. William Henry    male  35.0      0   \n",
      "\n",
      "   Parch            Ticket     Fare Cabin Embarked  \n",
      "0      0         A/5 21171   7.2500   NaN        S  \n",
      "1      0          PC 17599  71.2833   C85        C  \n",
      "2      0  STON/O2. 3101282   7.9250   NaN        S  \n",
      "3      0            113803  53.1000  C123        S  \n",
      "4      0            373450   8.0500   NaN        S  \n"
     ]
    }
   ],
   "source": [
    "#URL에서 CSV 파일 불러오기: 인터넷에 있는 CSV 파일을 바로 불러올 수 있음.\n",
    "url = 'https://raw.githubusercontent.com/datasciencedojo/datasets/master/titanic.csv'\n",
    "df_csv_url = pd.read_csv(url)\n",
    "print(df_csv_url.head())"
   ]
  },
  {
   "cell_type": "code",
   "execution_count": null,
   "id": "9ea32732-7d57-4668-86fc-9096f6d6b82c",
   "metadata": {},
   "outputs": [],
   "source": []
  },
  {
   "cell_type": "code",
   "execution_count": 23,
   "id": "73d0646c-dd55-41ef-80b0-c740645749dc",
   "metadata": {},
   "outputs": [
    {
     "name": "stdout",
     "output_type": "stream",
     "text": [
      "   이름  나이    직업\n",
      "0  철수  25    학생\n",
      "1  영희  30   회사원\n",
      "2  민수  35  프리랜서\n"
     ]
    }
   ],
   "source": [
    "#Excel 파일 불러오기\n",
    "df_excel = pd.read_excel('data.xlsx')\n",
    "print(df_excel.head())"
   ]
  },
  {
   "cell_type": "code",
   "execution_count": 25,
   "id": "1411c19f-9e03-4a39-908a-86b30e8e51bc",
   "metadata": {},
   "outputs": [],
   "source": [
    "#주요 옵션\n",
    "#sheet_name: 읽고자 하는 시트 이름 또는 번호를 지정. 기본값은 첫 번째 시트(0)임.\n",
    "#header: 헤더 행을 지정. 기본 값은 첫 번째 행(0)임.\n",
    "\n",
    "#예시) 특정 시트의 데이터 불러오기\n",
    "#df_excel = pd.read_excel('data.xlsx, sheet_name='Sheet2')"
   ]
  },
  {
   "cell_type": "code",
   "execution_count": 27,
   "id": "8e5b33b9-e2a7-4117-9b9d-4084e43b682a",
   "metadata": {},
   "outputs": [],
   "source": [
    "#URL에서 Excel 파일 불러오기: URL을 통해 Excel 파일도 불러올 수 있음.\n",
    "# url = 'https://example.com/data.xlsx'\n",
    "# df_excel_url = pd.read_excel(url)\n",
    "# print(df_excel_url)"
   ]
  },
  {
   "cell_type": "code",
   "execution_count": null,
   "id": "44efccfa-2d19-482c-8ee6-0447d830cf8f",
   "metadata": {},
   "outputs": [],
   "source": []
  },
  {
   "cell_type": "code",
   "execution_count": 30,
   "id": "fd5029a4-f759-40c8-9a68-a9648e4f1a1a",
   "metadata": {},
   "outputs": [],
   "source": [
    "#JSON 파일 블러오기"
   ]
  },
  {
   "cell_type": "code",
   "execution_count": 34,
   "id": "a3523e21-3c65-479e-9221-8a06392ef08b",
   "metadata": {},
   "outputs": [
    {
     "name": "stdout",
     "output_type": "stream",
     "text": [
      "                                               users\n",
      "0  {'userId': 1, 'firstName': 'AAAAA', 'lastName'...\n",
      "1  {'userId': 2, 'firstName': 'BBBB', 'lastName':...\n",
      "2  {'userId': 3, 'firstName': 'CCCCC', 'lastName'...\n",
      "3  {'userId': 4, 'firstName': 'DDDDD', 'lastName'...\n",
      "4  {'userId': 5, 'firstName': 'EEEEE', 'lastName'...\n"
     ]
    }
   ],
   "source": [
    "df_json = pd.read_json('test.json')\n",
    "print(df_json)"
   ]
  },
  {
   "cell_type": "code",
   "execution_count": 36,
   "id": "ec281596-4c37-4ad8-bfad-09000b11d7cf",
   "metadata": {},
   "outputs": [],
   "source": [
    "#주요 옵션\n",
    "# orient: JSON 데이터의 형식을 지정. 기본값은 column임."
   ]
  },
  {
   "cell_type": "code",
   "execution_count": 40,
   "id": "2bde934f-c180-4804-91a5-6440318394bf",
   "metadata": {},
   "outputs": [],
   "source": [
    "#URL에서 JSON 파일 불러오기: URL을 통해 JSON 파일도 불러올 수 있음.\n",
    "# url = 'https://example.com/data.json'\n",
    "# df_json_url = pd.read_json(url)\n",
    "# print(df_json_url)"
   ]
  },
  {
   "cell_type": "code",
   "execution_count": null,
   "id": "cfac35b9-99f7-4dbe-8692-aa454a2f2152",
   "metadata": {},
   "outputs": [],
   "source": []
  },
  {
   "cell_type": "code",
   "execution_count": 43,
   "id": "614198f9-1eb8-4736-b505-9f57814c4fbf",
   "metadata": {},
   "outputs": [],
   "source": [
    "#CSV, Excel, JSON, SQL 등 다양한 형식으로 데이터 저장하기"
   ]
  },
  {
   "cell_type": "code",
   "execution_count": 45,
   "id": "a280e78c-c470-43d9-ab25-124a1f48183b",
   "metadata": {},
   "outputs": [],
   "source": [
    "# CSV 파일로 저장하기\n",
    "#CSV 파일은 데이터를 저장할 때 가장 널리 사용되는 형식 중 하나.\n",
    "#판다스에서는 to_csv 함수를 사용해 데이터를 쉽게 CSV 파일로 저장할 수 있음."
   ]
  },
  {
   "cell_type": "code",
   "execution_count": 49,
   "id": "a9e754e5-3fb1-4a63-901c-0f655549ec55",
   "metadata": {},
   "outputs": [],
   "source": [
    "import pandas as pd\n",
    "\n",
    "#예시 데이터 프레임 생성\n",
    "df = pd.DataFrame({\n",
    "    '이름': ['철수','영희','민수'],\n",
    "    '나이': [25,30,35],\n",
    "    '직업': ['학생','회사원','프리랜서']\n",
    "})\n",
    "\n",
    "#csv 파일로 저장하기\n",
    "df.to_csv('data.csv', index=False)"
   ]
  },
  {
   "cell_type": "code",
   "execution_count": 51,
   "id": "860f2276-4c94-4fc5-b564-6b80d2c1d842",
   "metadata": {},
   "outputs": [],
   "source": [
    "#주요 옵션\n",
    "# index = False: 인덱스를 제외하고 저장.\n",
    "# sep: 구분자를 지정. 기본값은 ,임."
   ]
  },
  {
   "cell_type": "code",
   "execution_count": 53,
   "id": "fbcc4eab-dc22-4aad-9a48-54b375f19242",
   "metadata": {},
   "outputs": [],
   "source": [
    "#URL로 저장하기: URL 경로가 아닌, 로컬 파일 시스템에 저장하는 방식이므로, URL을 지정할 수 없음."
   ]
  },
  {
   "cell_type": "code",
   "execution_count": null,
   "id": "0422ff70-6782-4084-ac7f-b971f56f6f8a",
   "metadata": {},
   "outputs": [],
   "source": []
  },
  {
   "cell_type": "code",
   "execution_count": 56,
   "id": "71b85e9e-3e39-4f42-bb72-cbc3b8dfab63",
   "metadata": {},
   "outputs": [],
   "source": [
    "#Excel 파일로 저장하기\n",
    "#Excel 파일 형식으로 저장하려면 to_excel 함수를 사용."
   ]
  },
  {
   "cell_type": "code",
   "execution_count": 58,
   "id": "2ddc00fa-9dc0-42ee-97e5-635f1b1595e4",
   "metadata": {},
   "outputs": [],
   "source": [
    "#Excel 파일로 저장하기\n",
    "df.to_excel(\"data.xlsx\", index = False)"
   ]
  },
  {
   "cell_type": "code",
   "execution_count": 60,
   "id": "cbb20682-1d74-4a72-a7f7-0d5af1aeb0d8",
   "metadata": {},
   "outputs": [],
   "source": [
    "#주요 옵션\n",
    "#sheet_name: 저장할 시트 이름을 지정. 기본 값은 Sheet1임.\n",
    "#index = False: 인덱스를 제외하고 저장."
   ]
  },
  {
   "cell_type": "code",
   "execution_count": null,
   "id": "a986edbc-179d-4621-9eb6-e3735f2bd017",
   "metadata": {},
   "outputs": [],
   "source": []
  },
  {
   "cell_type": "code",
   "execution_count": 63,
   "id": "a5a7a3d6-21a3-4117-8811-d273b4895ca7",
   "metadata": {},
   "outputs": [],
   "source": [
    "#JSON 파일로 저장하기\n",
    "#JSON 파일 형식으로 저장하려면 to_json 함수 사용."
   ]
  },
  {
   "cell_type": "code",
   "execution_count": 65,
   "id": "a1690f71-2c83-4260-86ea-9b280a7b29a3",
   "metadata": {},
   "outputs": [],
   "source": [
    "#JSON 파일로 저장하기\n",
    "df.to_json('data.json')"
   ]
  },
  {
   "cell_type": "code",
   "execution_count": 67,
   "id": "228b68bb-32a0-4335-a91d-39166cea7d04",
   "metadata": {},
   "outputs": [],
   "source": [
    "#주요 옵션\n",
    "#orient: JSON 형식을 지정. 기본값은 columns임. records, index 등 다양한 형식으로 저장할 수 있음."
   ]
  },
  {
   "cell_type": "code",
   "execution_count": 71,
   "id": "8c5121ee-bebd-4f5c-8faf-64b8cca24258",
   "metadata": {},
   "outputs": [],
   "source": [
    "#레코드 형식으로 저장하기\n",
    "df.to_json('data_records.json', orient = 'records')"
   ]
  },
  {
   "cell_type": "code",
   "execution_count": null,
   "id": "cc6fc980-338a-42c8-93d4-8859d68f0b58",
   "metadata": {},
   "outputs": [],
   "source": []
  },
  {
   "cell_type": "code",
   "execution_count": 74,
   "id": "012d6a72-67d6-4fb4-84f3-fb0a7f012cf6",
   "metadata": {},
   "outputs": [],
   "source": [
    "#SQL 데이터베이스에 저장하기\n",
    "#데이터를 SQL 데이터베이스에 저장하려면 to_sql 함수를 사용하고, 데이터베이스 연결이 필요."
   ]
  },
  {
   "cell_type": "code",
   "execution_count": 78,
   "id": "4fe3df39-8c8f-4736-93f9-0fa59ff98880",
   "metadata": {},
   "outputs": [],
   "source": [
    "import sqlite3\n",
    "\n",
    "# SQLite 데이터베이스 연결\n",
    "conn = sqlite3.connect('database.db')\n",
    "\n",
    "# 데이터프레임을 SQL 테이블로 저장하기\n",
    "df.to_sql('table_name', conn, if_exists='replace', index=False)\n",
    "\n",
    "# 연결 종료\n",
    "conn.close()\n"
   ]
  },
  {
   "cell_type": "code",
   "execution_count": null,
   "id": "e2fcfb22-df73-4c02-83fb-c9c58d75f298",
   "metadata": {},
   "outputs": [],
   "source": [
    "#주요 옵션\n",
    "#name: 저장할 테이블 이름을 지정\n",
    "#con: 데이터베이스 연결 객체를 지정\n",
    "#if_exists: 테이블이 이미 존재할 경우 동작을 지정 (replace, append, fail 중 선택)\n",
    "# index = False: 인덱스를 제외하고 저장"
   ]
  }
 ],
 "metadata": {
  "kernelspec": {
   "display_name": "Python 3 (ipykernel)",
   "language": "python",
   "name": "python3"
  },
  "language_info": {
   "codemirror_mode": {
    "name": "ipython",
    "version": 3
   },
   "file_extension": ".py",
   "mimetype": "text/x-python",
   "name": "python",
   "nbconvert_exporter": "python",
   "pygments_lexer": "ipython3",
   "version": "3.12.4"
  }
 },
 "nbformat": 4,
 "nbformat_minor": 5
}
