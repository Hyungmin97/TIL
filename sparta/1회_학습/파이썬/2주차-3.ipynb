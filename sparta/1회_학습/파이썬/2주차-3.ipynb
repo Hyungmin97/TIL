{
 "cells": [
  {
   "cell_type": "code",
   "execution_count": 1,
   "id": "bd654690-8fc3-4cde-8e84-a539e15b767c",
   "metadata": {},
   "outputs": [],
   "source": [
    "#데이터 타입 알아보기 : 숫자형, 문자형, 불리언"
   ]
  },
  {
   "cell_type": "code",
   "execution_count": 4,
   "id": "158f9640-f152-4e96-bf54-cf43896bfc26",
   "metadata": {},
   "outputs": [],
   "source": [
    "#숫자형\n",
    "\n",
    "#정수형(int)\n",
    "# 정수형은 소수점 없이 정수를 나타내는 데이터 타입\n",
    "\n",
    "#실수형(float)\n",
    "# 실수형은 소수점을 포함한 숫자를 나타내는 테이터 타입\n",
    "\n",
    "#복소수형(complex)\n",
    "# 실수 부분과 허수 부분으로 구성된 숫자"
   ]
  },
  {
   "cell_type": "code",
   "execution_count": null,
   "id": "d31fb420-ff55-4c0d-9770-a6715cbfad9b",
   "metadata": {},
   "outputs": [],
   "source": [
    "#문자형\n",
    "\n",
    "#불리언"
   ]
  }
 ],
 "metadata": {
  "kernelspec": {
   "display_name": "Python 3 (ipykernel)",
   "language": "python",
   "name": "python3"
  },
  "language_info": {
   "codemirror_mode": {
    "name": "ipython",
    "version": 3
   },
   "file_extension": ".py",
   "mimetype": "text/x-python",
   "name": "python",
   "nbconvert_exporter": "python",
   "pygments_lexer": "ipython3",
   "version": "3.12.4"
  }
 },
 "nbformat": 4,
 "nbformat_minor": 5
}
