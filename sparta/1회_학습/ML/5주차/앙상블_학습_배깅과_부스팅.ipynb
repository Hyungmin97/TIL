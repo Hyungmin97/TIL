{
 "cells": [
  {
   "cell_type": "code",
   "execution_count": 1,
   "id": "a1277de6-7673-4ff0-8df4-3dab169837fd",
   "metadata": {},
   "outputs": [],
   "source": [
    "#앙상블 학습 - 배깅과 부스팅"
   ]
  },
  {
   "cell_type": "code",
   "execution_count": 2,
   "id": "c45aad65-6345-4753-b816-8fc2231e75b2",
   "metadata": {},
   "outputs": [],
   "source": [
    "#유방암 데이터셋 실습"
   ]
  },
  {
   "cell_type": "code",
   "execution_count": 3,
   "id": "a154e78c-34fe-4d0f-8adc-8a25cf2330b7",
   "metadata": {},
   "outputs": [],
   "source": [
    "from sklearn.ensemble import BaggingRegressor\n",
    "from sklearn.tree import DecisionTreeRegressor\n",
    "from sklearn.metrics import mean_squared_error\n",
    "from sklearn.datasets import load_breast_cancer\n",
    "from sklearn.model_selection import train_test_split\n",
    "from sklearn.preprocessing import StandardScaler\n",
    "\n",
    "# 유방암 데이터 로드\n",
    "cancer_data = load_breast_cancer()\n",
    "X, y = cancer_data.data, cancer_data.target\n",
    "\n",
    "# 데이터 분할\n",
    "X_train, X_test, y_train, y_test = train_test_split(X, y, test_size=0.2, random_state=42)\n",
    "\n",
    "# 데이터 스케일링\n",
    "scaler = StandardScaler()\n",
    "X_train_scaled = scaler.fit_transform(X_train)\n",
    "X_test_scaled = scaler.transform(X_test)"
   ]
  },
  {
   "cell_type": "code",
   "execution_count": 5,
   "id": "dd0b237b-2d1b-4b14-afc0-0b9b67923228",
   "metadata": {},
   "outputs": [],
   "source": [
    "#배깅 모델 구현 및 평가"
   ]
  },
  {
   "cell_type": "code",
   "execution_count": 6,
   "id": "81f060b0-42c3-4596-a023-749137522901",
   "metadata": {},
   "outputs": [
    {
     "name": "stdout",
     "output_type": "stream",
     "text": [
      "배깅 모델의 MSE: 0.03204298245614035\n"
     ]
    }
   ],
   "source": [
    "\n",
    "# 배깅 모델 생성\n",
    "bagging_model = BaggingRegressor(estimator=DecisionTreeRegressor(), n_estimators=100, random_state=42)\n",
    "\n",
    "# 모델 학습\n",
    "bagging_model.fit(X_train_scaled, y_train)\n",
    "\n",
    "# 예측\n",
    "y_pred_bagging = bagging_model.predict(X_test_scaled)\n",
    "\n",
    "# 평가\n",
    "mse_bagging = mean_squared_error(y_test, y_pred_bagging)\n",
    "print(f'배깅 모델의 MSE: {mse_bagging}')"
   ]
  },
  {
   "cell_type": "code",
   "execution_count": 7,
   "id": "9156f2e6-3fea-4173-b001-45cc28c488aa",
   "metadata": {},
   "outputs": [],
   "source": [
    "# 부스팅 모델 구현 및 평가"
   ]
  },
  {
   "cell_type": "code",
   "execution_count": 8,
   "id": "59dba461-497a-4982-8572-2b163cec0a35",
   "metadata": {},
   "outputs": [
    {
     "name": "stdout",
     "output_type": "stream",
     "text": [
      "부스팅 모델의 MSE: 0.031272928032902256\n"
     ]
    }
   ],
   "source": [
    "from sklearn.ensemble import GradientBoostingRegressor\n",
    "\n",
    "# 부스팅 모델 생성\n",
    "boosting_model = GradientBoostingRegressor(n_estimators=100, random_state=42)\n",
    "\n",
    "# 모델 학습\n",
    "boosting_model.fit(X_train_scaled, y_train)\n",
    "\n",
    "# 예측\n",
    "y_pred_boosting = boosting_model.predict(X_test_scaled)\n",
    "\n",
    "# 평가\n",
    "mse_boosting = mean_squared_error(y_test, y_pred_boosting)\n",
    "print(f'부스팅 모델의 MSE: {mse_boosting}')\n"
   ]
  },
  {
   "cell_type": "code",
   "execution_count": null,
   "id": "9b714862-2b62-4a07-971f-8d01c3c01d36",
   "metadata": {},
   "outputs": [],
   "source": []
  }
 ],
 "metadata": {
  "kernelspec": {
   "display_name": "Python (sparta)",
   "language": "python",
   "name": "sparta"
  },
  "language_info": {
   "codemirror_mode": {
    "name": "ipython",
    "version": 3
   },
   "file_extension": ".py",
   "mimetype": "text/x-python",
   "name": "python",
   "nbconvert_exporter": "python",
   "pygments_lexer": "ipython3",
   "version": "3.12.7"
  }
 },
 "nbformat": 4,
 "nbformat_minor": 5
}
