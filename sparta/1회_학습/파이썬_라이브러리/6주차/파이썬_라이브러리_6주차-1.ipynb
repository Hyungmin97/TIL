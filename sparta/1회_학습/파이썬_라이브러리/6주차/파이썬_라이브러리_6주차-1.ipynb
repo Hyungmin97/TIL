{
 "cells": [
  {
   "cell_type": "code",
   "execution_count": 61,
   "id": "1c3ccc7a-1718-43ff-8d07-9e3733e737bb",
   "metadata": {},
   "outputs": [],
   "source": [
    "#판다스 심화: 멀티 인덱스와 복합 인덱스"
   ]
  },
  {
   "cell_type": "code",
   "execution_count": 1,
   "id": "1e305c3e-0350-4406-8390-c6a48ca8bdb8",
   "metadata": {},
   "outputs": [],
   "source": [
    "#멀티 인덱스(MultiIndex)란?\n",
    "#멀티 인덱스(MultiIndex)는 하나 이상의 인덱스를 사용하여 데이터프레임의 행과 열을 구조화하는 방법.\n",
    "#이는 다차원 데이터를 보다 효울적으로 관리하고 분석할 수 있게 해줌."
   ]
  },
  {
   "cell_type": "code",
   "execution_count": null,
   "id": "a61c7243-4dcf-48f4-a892-d873013d7e71",
   "metadata": {},
   "outputs": [],
   "source": []
  },
  {
   "cell_type": "code",
   "execution_count": 4,
   "id": "f8da0f2d-b250-4b1d-add5-922a2f91744e",
   "metadata": {},
   "outputs": [],
   "source": [
    "#멀티 인덱스 생성하기\n",
    "#set_index()로 멀티 인덱스 설정\n",
    "#여러 열을 사용해 멀티 인덱스를 설정할 수 있음."
   ]
  },
  {
   "cell_type": "code",
   "execution_count": 8,
   "id": "378fb212-6bc9-48bc-a7c2-895c2dffd921",
   "metadata": {},
   "outputs": [],
   "source": [
    "import pandas as pd\n",
    "\n",
    "#예시 데이터프레임 생성\n",
    "data = {\n",
    "    '도시': ['서울', '서울', '부산', '부산'],\n",
    "    '년도': [2021,2022,2021,2022],\n",
    "    '안구수': [9700000,9720000,3400000,3450000]\n",
    "}\n",
    "df = pd.DataFrame(data)\n",
    "\n",
    "#'도시'와 '년도'를 멀티 인덱스로 설정\n",
    "df_multi_index = df.set_index(['도시', '년도'])"
   ]
  },
  {
   "cell_type": "code",
   "execution_count": 14,
   "id": "a9df8127-5e96-4ab4-8902-f678a0fe00be",
   "metadata": {},
   "outputs": [
    {
     "data": {
      "text/html": [
       "<div>\n",
       "<style scoped>\n",
       "    .dataframe tbody tr th:only-of-type {\n",
       "        vertical-align: middle;\n",
       "    }\n",
       "\n",
       "    .dataframe tbody tr th {\n",
       "        vertical-align: top;\n",
       "    }\n",
       "\n",
       "    .dataframe thead th {\n",
       "        text-align: right;\n",
       "    }\n",
       "</style>\n",
       "<table border=\"1\" class=\"dataframe\">\n",
       "  <thead>\n",
       "    <tr style=\"text-align: right;\">\n",
       "      <th></th>\n",
       "      <th></th>\n",
       "      <th>안구수</th>\n",
       "    </tr>\n",
       "    <tr>\n",
       "      <th>도시</th>\n",
       "      <th>년도</th>\n",
       "      <th></th>\n",
       "    </tr>\n",
       "  </thead>\n",
       "  <tbody>\n",
       "    <tr>\n",
       "      <th rowspan=\"2\" valign=\"top\">서울</th>\n",
       "      <th>2021</th>\n",
       "      <td>9700000</td>\n",
       "    </tr>\n",
       "    <tr>\n",
       "      <th>2022</th>\n",
       "      <td>9720000</td>\n",
       "    </tr>\n",
       "    <tr>\n",
       "      <th rowspan=\"2\" valign=\"top\">부산</th>\n",
       "      <th>2021</th>\n",
       "      <td>3400000</td>\n",
       "    </tr>\n",
       "    <tr>\n",
       "      <th>2022</th>\n",
       "      <td>3450000</td>\n",
       "    </tr>\n",
       "  </tbody>\n",
       "</table>\n",
       "</div>"
      ],
      "text/plain": [
       "             안구수\n",
       "도시 년도           \n",
       "서울 2021  9700000\n",
       "   2022  9720000\n",
       "부산 2021  3400000\n",
       "   2022  3450000"
      ]
     },
     "execution_count": 14,
     "metadata": {},
     "output_type": "execute_result"
    }
   ],
   "source": [
    "#출력\n",
    "df_multi_index"
   ]
  },
  {
   "cell_type": "code",
   "execution_count": 16,
   "id": "12b8c464-13bf-49d1-8775-a2e062d081c8",
   "metadata": {},
   "outputs": [],
   "source": [
    "#도시와 년도가 인덱스로 설정되어, 데이터가 더 구조화된 형태로 나타남."
   ]
  },
  {
   "cell_type": "code",
   "execution_count": null,
   "id": "6b29f77c-d357-4890-9deb-8ac4a95f853d",
   "metadata": {},
   "outputs": [],
   "source": []
  },
  {
   "cell_type": "code",
   "execution_count": 19,
   "id": "91417d7a-89fe-4741-852c-6329ca1ca09e",
   "metadata": {},
   "outputs": [],
   "source": [
    "#pd.MultiIndex.from_tuples()로 멀티 인덱스 생성\n",
    "#from_tuples()를 사용해 튜플로 구성된 멀티 인덱스를 생성할 수도 있음."
   ]
  },
  {
   "cell_type": "code",
   "execution_count": 48,
   "id": "fe5ac25c-cbaa-49e0-8bb6-fd310b3ca607",
   "metadata": {},
   "outputs": [],
   "source": [
    "#멀티 인덱스를 튜플로 직접 생성\n",
    "index = pd.MultiIndex.from_tuples([('서울', 2021), ('서울', 2022), ('부산', 2021), ('부산', 2022)], names = ['도시', '년도'])\n",
    "\n",
    "#데이터프레임에 적용\n",
    "df_multi_index = pd.DataFrame({'인구수': [9700000,9720000,3400000,3450000]}, index = index)"
   ]
  },
  {
   "cell_type": "code",
   "execution_count": 50,
   "id": "c068a79d-5de0-42c7-9dbe-1b1eb44648b1",
   "metadata": {},
   "outputs": [
    {
     "data": {
      "text/html": [
       "<div>\n",
       "<style scoped>\n",
       "    .dataframe tbody tr th:only-of-type {\n",
       "        vertical-align: middle;\n",
       "    }\n",
       "\n",
       "    .dataframe tbody tr th {\n",
       "        vertical-align: top;\n",
       "    }\n",
       "\n",
       "    .dataframe thead th {\n",
       "        text-align: right;\n",
       "    }\n",
       "</style>\n",
       "<table border=\"1\" class=\"dataframe\">\n",
       "  <thead>\n",
       "    <tr style=\"text-align: right;\">\n",
       "      <th></th>\n",
       "      <th></th>\n",
       "      <th>인구수</th>\n",
       "    </tr>\n",
       "    <tr>\n",
       "      <th>도시</th>\n",
       "      <th>년도</th>\n",
       "      <th></th>\n",
       "    </tr>\n",
       "  </thead>\n",
       "  <tbody>\n",
       "    <tr>\n",
       "      <th rowspan=\"2\" valign=\"top\">서울</th>\n",
       "      <th>2021</th>\n",
       "      <td>9700000</td>\n",
       "    </tr>\n",
       "    <tr>\n",
       "      <th>2022</th>\n",
       "      <td>9720000</td>\n",
       "    </tr>\n",
       "    <tr>\n",
       "      <th rowspan=\"2\" valign=\"top\">부산</th>\n",
       "      <th>2021</th>\n",
       "      <td>3400000</td>\n",
       "    </tr>\n",
       "    <tr>\n",
       "      <th>2022</th>\n",
       "      <td>3450000</td>\n",
       "    </tr>\n",
       "  </tbody>\n",
       "</table>\n",
       "</div>"
      ],
      "text/plain": [
       "             인구수\n",
       "도시 년도           \n",
       "서울 2021  9700000\n",
       "   2022  9720000\n",
       "부산 2021  3400000\n",
       "   2022  3450000"
      ]
     },
     "execution_count": 50,
     "metadata": {},
     "output_type": "execute_result"
    }
   ],
   "source": [
    "#출력\n",
    "df_multi_index"
   ]
  },
  {
   "cell_type": "code",
   "execution_count": null,
   "id": "5de2c3b5-8a99-4996-a2de-0e8cf09504a2",
   "metadata": {},
   "outputs": [],
   "source": []
  },
  {
   "cell_type": "code",
   "execution_count": 53,
   "id": "7a903155-7c72-4f63-8b0e-c35ccd963b8a",
   "metadata": {},
   "outputs": [
    {
     "name": "stdout",
     "output_type": "stream",
     "text": [
      "          인구수\n",
      "년도           \n",
      "2021  9700000\n",
      "2022  9720000\n"
     ]
    }
   ],
   "source": [
    "#멀티 인덱스 데이터 접근하기\n",
    "#loc[]을 사용한 데이터 접근\n",
    "#loc[]을 사용해 멀티 인덱스에서 특정 데이터를 선택할 수 있음.\n",
    "\n",
    "#특정 인덱스의 데이터 선택\n",
    "print(df_multi_index.loc['서울'])"
   ]
  },
  {
   "cell_type": "code",
   "execution_count": 55,
   "id": "5a5b2db4-17bc-4c83-bd83-bac7179cdb0d",
   "metadata": {},
   "outputs": [
    {
     "name": "stdout",
     "output_type": "stream",
     "text": [
      "인구수    9700000\n",
      "Name: (서울, 2021), dtype: int64\n"
     ]
    }
   ],
   "source": [
    "#하위 레벨까지 지정하여 데이터를 더 구체적으로 접근할 수도 있음.\n",
    "#'서울'의 2021년 데이터 선택\n",
    "print(df_multi_index.loc[('서울', 2021)])"
   ]
  },
  {
   "cell_type": "code",
   "execution_count": null,
   "id": "8c25395f-f332-42f7-9009-e03674c94704",
   "metadata": {},
   "outputs": [],
   "source": []
  },
  {
   "cell_type": "code",
   "execution_count": 58,
   "id": "8b26c39d-f429-43d4-9712-bb7f87aed08c",
   "metadata": {},
   "outputs": [],
   "source": [
    "#슬라이싱(slicing)으로 데이터 접근\n",
    "#멀티 인덱스는 슬라이싱을 통해 특정 구간의 데이터를 쉽게 선택할 수 있음."
   ]
  },
  {
   "cell_type": "code",
   "execution_count": 60,
   "id": "a1eb893d-01f0-43ce-894c-ccc55ca2a707",
   "metadata": {},
   "outputs": [],
   "source": [
    "#부산의 모든 데이터를 선택\n",
    "df_multi_index = df_multi_index.sort_index()"
   ]
  },
  {
   "cell_type": "code",
   "execution_count": 62,
   "id": "13497780-379c-4806-8b76-bd7c57ecea78",
   "metadata": {},
   "outputs": [
    {
     "data": {
      "text/html": [
       "<div>\n",
       "<style scoped>\n",
       "    .dataframe tbody tr th:only-of-type {\n",
       "        vertical-align: middle;\n",
       "    }\n",
       "\n",
       "    .dataframe tbody tr th {\n",
       "        vertical-align: top;\n",
       "    }\n",
       "\n",
       "    .dataframe thead th {\n",
       "        text-align: right;\n",
       "    }\n",
       "</style>\n",
       "<table border=\"1\" class=\"dataframe\">\n",
       "  <thead>\n",
       "    <tr style=\"text-align: right;\">\n",
       "      <th></th>\n",
       "      <th></th>\n",
       "      <th>인구수</th>\n",
       "    </tr>\n",
       "    <tr>\n",
       "      <th>도시</th>\n",
       "      <th>년도</th>\n",
       "      <th></th>\n",
       "    </tr>\n",
       "  </thead>\n",
       "  <tbody>\n",
       "    <tr>\n",
       "      <th rowspan=\"2\" valign=\"top\">부산</th>\n",
       "      <th>2021</th>\n",
       "      <td>3400000</td>\n",
       "    </tr>\n",
       "    <tr>\n",
       "      <th>2022</th>\n",
       "      <td>3450000</td>\n",
       "    </tr>\n",
       "  </tbody>\n",
       "</table>\n",
       "</div>"
      ],
      "text/plain": [
       "             인구수\n",
       "도시 년도           \n",
       "부산 2021  3400000\n",
       "   2022  3450000"
      ]
     },
     "execution_count": 62,
     "metadata": {},
     "output_type": "execute_result"
    }
   ],
   "source": [
    "#출력\n",
    "df_multi_index.loc['부산':'부산']"
   ]
  },
  {
   "cell_type": "code",
   "execution_count": null,
   "id": "5ea44688-99fc-41b5-80e1-5963bcdfc2de",
   "metadata": {},
   "outputs": [],
   "source": []
  },
  {
   "cell_type": "code",
   "execution_count": 65,
   "id": "be191b37-0140-44fc-b580-579e8fbc4353",
   "metadata": {},
   "outputs": [],
   "source": [
    "#xs()를 사용한 멀티 인덱스 교차 선택\n",
    "#xs()는 특정 레벨에서 데이터를 선택하거나, 레벨을 넘어서 데이터를 선택할 때 유용."
   ]
  },
  {
   "cell_type": "code",
   "execution_count": 67,
   "id": "9c544609-d2fa-451f-947a-77d8278411ea",
   "metadata": {},
   "outputs": [
    {
     "data": {
      "text/html": [
       "<div>\n",
       "<style scoped>\n",
       "    .dataframe tbody tr th:only-of-type {\n",
       "        vertical-align: middle;\n",
       "    }\n",
       "\n",
       "    .dataframe tbody tr th {\n",
       "        vertical-align: top;\n",
       "    }\n",
       "\n",
       "    .dataframe thead th {\n",
       "        text-align: right;\n",
       "    }\n",
       "</style>\n",
       "<table border=\"1\" class=\"dataframe\">\n",
       "  <thead>\n",
       "    <tr style=\"text-align: right;\">\n",
       "      <th></th>\n",
       "      <th>인구수</th>\n",
       "    </tr>\n",
       "    <tr>\n",
       "      <th>년도</th>\n",
       "      <th></th>\n",
       "    </tr>\n",
       "  </thead>\n",
       "  <tbody>\n",
       "    <tr>\n",
       "      <th>2021</th>\n",
       "      <td>9700000</td>\n",
       "    </tr>\n",
       "    <tr>\n",
       "      <th>2022</th>\n",
       "      <td>9720000</td>\n",
       "    </tr>\n",
       "  </tbody>\n",
       "</table>\n",
       "</div>"
      ],
      "text/plain": [
       "          인구수\n",
       "년도           \n",
       "2021  9700000\n",
       "2022  9720000"
      ]
     },
     "execution_count": 67,
     "metadata": {},
     "output_type": "execute_result"
    }
   ],
   "source": [
    "#'도시'레벨에서 '서울'의 데이터를 선택\n",
    "df_multi_index.xs('서울', level = '도시')"
   ]
  },
  {
   "cell_type": "code",
   "execution_count": null,
   "id": "e6c5f8a9-18a2-4783-a1c2-673ce684e373",
   "metadata": {},
   "outputs": [],
   "source": []
  },
  {
   "cell_type": "code",
   "execution_count": 70,
   "id": "69ef4b2e-1570-4f36-af31-f2d85698b542",
   "metadata": {},
   "outputs": [],
   "source": [
    "#복합 인덱스(MultiIndex)활용\n",
    "#인덱스 정렬 및 정렬된 상태 확인\n",
    "#멀티인덱스를 사용한데이터프레임은 정렬된 상태로 관리하는 것이 일반적\n",
    "#sort_index()로 인덱스를 정렬할 수 있음.\n",
    "\n",
    "#멀티 인덱스 정렬\n",
    "df_sorted = df_multi_index.sort_index()"
   ]
  },
  {
   "cell_type": "code",
   "execution_count": 72,
   "id": "e2601529-e24f-48a9-8117-1a8bdfd3b8a7",
   "metadata": {},
   "outputs": [
    {
     "data": {
      "text/html": [
       "<div>\n",
       "<style scoped>\n",
       "    .dataframe tbody tr th:only-of-type {\n",
       "        vertical-align: middle;\n",
       "    }\n",
       "\n",
       "    .dataframe tbody tr th {\n",
       "        vertical-align: top;\n",
       "    }\n",
       "\n",
       "    .dataframe thead th {\n",
       "        text-align: right;\n",
       "    }\n",
       "</style>\n",
       "<table border=\"1\" class=\"dataframe\">\n",
       "  <thead>\n",
       "    <tr style=\"text-align: right;\">\n",
       "      <th></th>\n",
       "      <th></th>\n",
       "      <th>인구수</th>\n",
       "    </tr>\n",
       "    <tr>\n",
       "      <th>도시</th>\n",
       "      <th>년도</th>\n",
       "      <th></th>\n",
       "    </tr>\n",
       "  </thead>\n",
       "  <tbody>\n",
       "    <tr>\n",
       "      <th rowspan=\"2\" valign=\"top\">부산</th>\n",
       "      <th>2021</th>\n",
       "      <td>3400000</td>\n",
       "    </tr>\n",
       "    <tr>\n",
       "      <th>2022</th>\n",
       "      <td>3450000</td>\n",
       "    </tr>\n",
       "    <tr>\n",
       "      <th rowspan=\"2\" valign=\"top\">서울</th>\n",
       "      <th>2021</th>\n",
       "      <td>9700000</td>\n",
       "    </tr>\n",
       "    <tr>\n",
       "      <th>2022</th>\n",
       "      <td>9720000</td>\n",
       "    </tr>\n",
       "  </tbody>\n",
       "</table>\n",
       "</div>"
      ],
      "text/plain": [
       "             인구수\n",
       "도시 년도           \n",
       "부산 2021  3400000\n",
       "   2022  3450000\n",
       "서울 2021  9700000\n",
       "   2022  9720000"
      ]
     },
     "execution_count": 72,
     "metadata": {},
     "output_type": "execute_result"
    }
   ],
   "source": [
    "#출력\n",
    "df_sorted"
   ]
  },
  {
   "cell_type": "code",
   "execution_count": null,
   "id": "a27d5f7d-28f8-490b-ad99-c70ca0845bad",
   "metadata": {},
   "outputs": [],
   "source": []
  },
  {
   "cell_type": "code",
   "execution_count": 82,
   "id": "9b4c2520-a6fa-4004-a832-fd6758aca007",
   "metadata": {},
   "outputs": [],
   "source": [
    "#unstack()과 stack()으로 인덱스 변환\n",
    "#unstack()은 멀티 인덱스를 열로 변환.\n",
    "#반대로 stack()은 열을 인덱스로 변환.\n",
    "\n",
    "#멀티 인덱스를 열로 변환(unstack)\n",
    "df_unstacked = df_multi_index.unstack(level='년도')"
   ]
  },
  {
   "cell_type": "code",
   "execution_count": 84,
   "id": "dd8bbf14-f654-4af8-9c2b-507c26e58399",
   "metadata": {},
   "outputs": [
    {
     "data": {
      "text/html": [
       "<div>\n",
       "<style scoped>\n",
       "    .dataframe tbody tr th:only-of-type {\n",
       "        vertical-align: middle;\n",
       "    }\n",
       "\n",
       "    .dataframe tbody tr th {\n",
       "        vertical-align: top;\n",
       "    }\n",
       "\n",
       "    .dataframe thead tr th {\n",
       "        text-align: left;\n",
       "    }\n",
       "\n",
       "    .dataframe thead tr:last-of-type th {\n",
       "        text-align: right;\n",
       "    }\n",
       "</style>\n",
       "<table border=\"1\" class=\"dataframe\">\n",
       "  <thead>\n",
       "    <tr>\n",
       "      <th></th>\n",
       "      <th colspan=\"2\" halign=\"left\">인구수</th>\n",
       "    </tr>\n",
       "    <tr>\n",
       "      <th>년도</th>\n",
       "      <th>2021</th>\n",
       "      <th>2022</th>\n",
       "    </tr>\n",
       "    <tr>\n",
       "      <th>도시</th>\n",
       "      <th></th>\n",
       "      <th></th>\n",
       "    </tr>\n",
       "  </thead>\n",
       "  <tbody>\n",
       "    <tr>\n",
       "      <th>부산</th>\n",
       "      <td>3400000</td>\n",
       "      <td>3450000</td>\n",
       "    </tr>\n",
       "    <tr>\n",
       "      <th>서울</th>\n",
       "      <td>9700000</td>\n",
       "      <td>9720000</td>\n",
       "    </tr>\n",
       "  </tbody>\n",
       "</table>\n",
       "</div>"
      ],
      "text/plain": [
       "        인구수         \n",
       "년도     2021     2022\n",
       "도시                  \n",
       "부산  3400000  3450000\n",
       "서울  9700000  9720000"
      ]
     },
     "execution_count": 84,
     "metadata": {},
     "output_type": "execute_result"
    }
   ],
   "source": [
    "#출력\n",
    "df_unstacked"
   ]
  },
  {
   "cell_type": "code",
   "execution_count": 94,
   "id": "212a1d1d-9281-4b63-9a27-2a448cff65d8",
   "metadata": {},
   "outputs": [
    {
     "name": "stderr",
     "output_type": "stream",
     "text": [
      "/var/folders/hx/68vgjxsx1fz3b23kg7xk3njh0000gn/T/ipykernel_24835/603763179.py:4: FutureWarning: The previous implementation of stack is deprecated and will be removed in a future version of pandas. See the What's New notes for pandas 2.1.0 for details. Specify future_stack=True to adopt the new implementation and silence this warning.\n",
      "  df_stacked = df_unstacked.stack()\n"
     ]
    }
   ],
   "source": [
    "# stack()을 사용하면, 다시 인덱스로 변환할 수 있음.\n",
    "\n",
    "#다시 인덱스로 변환(stack)\n",
    "df_stacked = df_unstacked.stack()"
   ]
  },
  {
   "cell_type": "code",
   "execution_count": 96,
   "id": "b481de34-01b9-43e5-b05e-a7349aa6b5a7",
   "metadata": {},
   "outputs": [
    {
     "data": {
      "text/html": [
       "<div>\n",
       "<style scoped>\n",
       "    .dataframe tbody tr th:only-of-type {\n",
       "        vertical-align: middle;\n",
       "    }\n",
       "\n",
       "    .dataframe tbody tr th {\n",
       "        vertical-align: top;\n",
       "    }\n",
       "\n",
       "    .dataframe thead th {\n",
       "        text-align: right;\n",
       "    }\n",
       "</style>\n",
       "<table border=\"1\" class=\"dataframe\">\n",
       "  <thead>\n",
       "    <tr style=\"text-align: right;\">\n",
       "      <th></th>\n",
       "      <th></th>\n",
       "      <th>인구수</th>\n",
       "    </tr>\n",
       "    <tr>\n",
       "      <th>도시</th>\n",
       "      <th>년도</th>\n",
       "      <th></th>\n",
       "    </tr>\n",
       "  </thead>\n",
       "  <tbody>\n",
       "    <tr>\n",
       "      <th rowspan=\"2\" valign=\"top\">부산</th>\n",
       "      <th>2021</th>\n",
       "      <td>3400000</td>\n",
       "    </tr>\n",
       "    <tr>\n",
       "      <th>2022</th>\n",
       "      <td>3450000</td>\n",
       "    </tr>\n",
       "    <tr>\n",
       "      <th rowspan=\"2\" valign=\"top\">서울</th>\n",
       "      <th>2021</th>\n",
       "      <td>9700000</td>\n",
       "    </tr>\n",
       "    <tr>\n",
       "      <th>2022</th>\n",
       "      <td>9720000</td>\n",
       "    </tr>\n",
       "  </tbody>\n",
       "</table>\n",
       "</div>"
      ],
      "text/plain": [
       "             인구수\n",
       "도시 년도           \n",
       "부산 2021  3400000\n",
       "   2022  3450000\n",
       "서울 2021  9700000\n",
       "   2022  9720000"
      ]
     },
     "execution_count": 96,
     "metadata": {},
     "output_type": "execute_result"
    }
   ],
   "source": [
    "#출력\n",
    "df_stacked"
   ]
  },
  {
   "cell_type": "code",
   "execution_count": null,
   "id": "29416ea6-cef6-4cbd-bc58-b7a5e771bcd2",
   "metadata": {},
   "outputs": [],
   "source": []
  },
  {
   "cell_type": "code",
   "execution_count": 99,
   "id": "e0cabfb9-e320-46d4-a3df-05abd480f63f",
   "metadata": {},
   "outputs": [],
   "source": [
    "#멀티 인덱스의 응용\n",
    "#그룹화(Grouping)와 함께 사용\n",
    "\n",
    "#멀티 인덱스는 그룹화와 함께 사용할 때, 더 강력해짐.\n",
    "#그룹화한 데이터를 멀티 인덱스로 변환하여 복잡한 분석을 수행할 수 있음."
   ]
  },
  {
   "cell_type": "code",
   "execution_count": 109,
   "id": "4bc85ac4-b6a0-4aed-841e-85f8e8bf25ef",
   "metadata": {},
   "outputs": [],
   "source": [
    "#데이터프레임 생성\n",
    "data = {\n",
    "    '도시': ['서울', '서울', '부산', '부산', '서울', '부산'],\n",
    "    '년도': [2021, 2022, 2021, 2022, 2021, 2022],\n",
    "    '인구수': [9700000, 9720000, 3400000, 3450000, 9800000, 3500000],\n",
    "    '소득': [60000, 62000, 45000, 46000, 63000, 47000]\n",
    "}\n",
    "df = pd.DataFrame(data)\n",
    "\n",
    "#'도시'와 '년도'를 기준으로 그룹화하여 평균 계산\n",
    "grouped_df = df.groupby(['도시','년도']).mean()"
   ]
  },
  {
   "cell_type": "code",
   "execution_count": 111,
   "id": "16e6fad3-e97a-45d8-ac2b-ed05f847c29d",
   "metadata": {},
   "outputs": [
    {
     "data": {
      "text/html": [
       "<div>\n",
       "<style scoped>\n",
       "    .dataframe tbody tr th:only-of-type {\n",
       "        vertical-align: middle;\n",
       "    }\n",
       "\n",
       "    .dataframe tbody tr th {\n",
       "        vertical-align: top;\n",
       "    }\n",
       "\n",
       "    .dataframe thead th {\n",
       "        text-align: right;\n",
       "    }\n",
       "</style>\n",
       "<table border=\"1\" class=\"dataframe\">\n",
       "  <thead>\n",
       "    <tr style=\"text-align: right;\">\n",
       "      <th></th>\n",
       "      <th></th>\n",
       "      <th>인구수</th>\n",
       "      <th>소득</th>\n",
       "    </tr>\n",
       "    <tr>\n",
       "      <th>도시</th>\n",
       "      <th>년도</th>\n",
       "      <th></th>\n",
       "      <th></th>\n",
       "    </tr>\n",
       "  </thead>\n",
       "  <tbody>\n",
       "    <tr>\n",
       "      <th rowspan=\"2\" valign=\"top\">부산</th>\n",
       "      <th>2021</th>\n",
       "      <td>3400000.0</td>\n",
       "      <td>45000.0</td>\n",
       "    </tr>\n",
       "    <tr>\n",
       "      <th>2022</th>\n",
       "      <td>3475000.0</td>\n",
       "      <td>46500.0</td>\n",
       "    </tr>\n",
       "    <tr>\n",
       "      <th rowspan=\"2\" valign=\"top\">서울</th>\n",
       "      <th>2021</th>\n",
       "      <td>9750000.0</td>\n",
       "      <td>61500.0</td>\n",
       "    </tr>\n",
       "    <tr>\n",
       "      <th>2022</th>\n",
       "      <td>9720000.0</td>\n",
       "      <td>62000.0</td>\n",
       "    </tr>\n",
       "  </tbody>\n",
       "</table>\n",
       "</div>"
      ],
      "text/plain": [
       "               인구수       소득\n",
       "도시 년도                      \n",
       "부산 2021  3400000.0  45000.0\n",
       "   2022  3475000.0  46500.0\n",
       "서울 2021  9750000.0  61500.0\n",
       "   2022  9720000.0  62000.0"
      ]
     },
     "execution_count": 111,
     "metadata": {},
     "output_type": "execute_result"
    }
   ],
   "source": [
    "#출력\n",
    "grouped_df"
   ]
  },
  {
   "cell_type": "code",
   "execution_count": null,
   "id": "4f33820c-1626-4a8c-8969-bf403b822ad1",
   "metadata": {},
   "outputs": [],
   "source": []
  },
  {
   "cell_type": "code",
   "execution_count": null,
   "id": "ecb2a6fe-738e-4934-ac8c-196276d105e8",
   "metadata": {},
   "outputs": [],
   "source": [
    "#요약\n",
    "#멀티 인덱스(MultiIndex)는 하나 이상의 인덱스를 사용하여 다차원 데이터를 효율적으로 관리하는 방법\n",
    "#멀티 인덱스는 set_index()나 from_tuples()를 사용해 생성할 수 있으며, loc[], xs(), 슬라이싱 등을 통해 데이터를 선택할 수 있음.\n",
    "#복합 인덱스를 사용하면, 데이터를 정렬하거나, unstack()과 stack()을 통해 인덱스를 변환하는 작업이 용이\n",
    "#멀티 인덱스는 그룹화와 같은 복잡한 데이터 분석 작업에도 유용하게 사용."
   ]
  }
 ],
 "metadata": {
  "kernelspec": {
   "display_name": "Python 3 (ipykernel)",
   "language": "python",
   "name": "python3"
  },
  "language_info": {
   "codemirror_mode": {
    "name": "ipython",
    "version": 3
   },
   "file_extension": ".py",
   "mimetype": "text/x-python",
   "name": "python",
   "nbconvert_exporter": "python",
   "pygments_lexer": "ipython3",
   "version": "3.12.4"
  }
 },
 "nbformat": 4,
 "nbformat_minor": 5
}
