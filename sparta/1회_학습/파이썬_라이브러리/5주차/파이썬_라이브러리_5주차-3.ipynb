{
 "cells": [
  {
   "cell_type": "code",
   "execution_count": 110,
   "id": "0640aabc-7864-4a75-8288-fa6f530c0a1e",
   "metadata": {},
   "outputs": [],
   "source": [
    "#데이터 전처리: 데이터 정규화와 표준화 (비선형 변환 포함)"
   ]
  },
  {
   "cell_type": "code",
   "execution_count": 112,
   "id": "5bc1d1d5-a9a4-46c3-9f54-93b2712ad6d7",
   "metadata": {},
   "outputs": [],
   "source": [
    "#1. 데이터 정규화(Normalization)\n",
    "#정규화는 데이터의 범위를 0과 1 사이로 변환하는 과정.\n",
    "# 이는 서로 다른 범위를 가진 데이터를 동일한 스케일로 맞추어 비교하기 쉽게 만듦."
   ]
  },
  {
   "cell_type": "code",
   "execution_count": null,
   "id": "7199bb35-c284-4345-b070-5fdd3e3cb743",
   "metadata": {},
   "outputs": [],
   "source": []
  },
  {
   "cell_type": "code",
   "execution_count": 115,
   "id": "9b4170f1-9be0-4947-956f-e198ccb488f3",
   "metadata": {},
   "outputs": [],
   "source": [
    "#Min-Max 정규화\n",
    "#Min-Max 정규화는 가장 일반적인 정규화 방법으로, 각 데이터의 최소값을 0, 최대값을 1로 변환."
   ]
  },
  {
   "cell_type": "code",
   "execution_count": 119,
   "id": "a2e12c6c-3be1-4c13-ab76-dd5c62b1186f",
   "metadata": {},
   "outputs": [
    {
     "name": "stdout",
     "output_type": "stream",
     "text": [
      "Requirement already satisfied: scikit-learn in /opt/anaconda3/lib/python3.12/site-packages (1.4.2)\n",
      "Requirement already satisfied: numpy>=1.19.5 in /opt/anaconda3/lib/python3.12/site-packages (from scikit-learn) (1.26.4)\n",
      "Requirement already satisfied: scipy>=1.6.0 in /opt/anaconda3/lib/python3.12/site-packages (from scikit-learn) (1.13.1)\n",
      "Requirement already satisfied: joblib>=1.2.0 in /opt/anaconda3/lib/python3.12/site-packages (from scikit-learn) (1.4.2)\n",
      "Requirement already satisfied: threadpoolctl>=2.0.0 in /opt/anaconda3/lib/python3.12/site-packages (from scikit-learn) (2.2.0)\n"
     ]
    }
   ],
   "source": [
    "#scikit-learn 라이브러리 설치\n",
    "!pip install scikit-learn"
   ]
  },
  {
   "cell_type": "code",
   "execution_count": 123,
   "id": "76652dd0-02f8-4e57-9ccb-be7220dee782",
   "metadata": {},
   "outputs": [],
   "source": [
    "import pandas as pd\n",
    "from sklearn.preprocessing import MinMaxScaler\n",
    "\n",
    "#예시 데이터프레임 생성\n",
    "data = {\n",
    "    '특성1' : [10,20,30,40,50],\n",
    "    '특성2' : [1,2,3,4,5]\n",
    "}\n",
    "df = pd.DataFrame(data)\n",
    "\n",
    "#Min-Max 정규화\n",
    "scaler = MinMaxScaler()\n",
    "normalized_df = pd.DataFrame(scaler.fit_transform(df), columns = df.columns)"
   ]
  },
  {
   "cell_type": "code",
   "execution_count": 129,
   "id": "fced16f4-3a38-42cf-8a25-9c2c05539c45",
   "metadata": {},
   "outputs": [
    {
     "data": {
      "text/html": [
       "<div>\n",
       "<style scoped>\n",
       "    .dataframe tbody tr th:only-of-type {\n",
       "        vertical-align: middle;\n",
       "    }\n",
       "\n",
       "    .dataframe tbody tr th {\n",
       "        vertical-align: top;\n",
       "    }\n",
       "\n",
       "    .dataframe thead th {\n",
       "        text-align: right;\n",
       "    }\n",
       "</style>\n",
       "<table border=\"1\" class=\"dataframe\">\n",
       "  <thead>\n",
       "    <tr style=\"text-align: right;\">\n",
       "      <th></th>\n",
       "      <th>특성1</th>\n",
       "      <th>특성2</th>\n",
       "    </tr>\n",
       "  </thead>\n",
       "  <tbody>\n",
       "    <tr>\n",
       "      <th>0</th>\n",
       "      <td>0.00</td>\n",
       "      <td>0.00</td>\n",
       "    </tr>\n",
       "    <tr>\n",
       "      <th>1</th>\n",
       "      <td>0.25</td>\n",
       "      <td>0.25</td>\n",
       "    </tr>\n",
       "    <tr>\n",
       "      <th>2</th>\n",
       "      <td>0.50</td>\n",
       "      <td>0.50</td>\n",
       "    </tr>\n",
       "    <tr>\n",
       "      <th>3</th>\n",
       "      <td>0.75</td>\n",
       "      <td>0.75</td>\n",
       "    </tr>\n",
       "    <tr>\n",
       "      <th>4</th>\n",
       "      <td>1.00</td>\n",
       "      <td>1.00</td>\n",
       "    </tr>\n",
       "  </tbody>\n",
       "</table>\n",
       "</div>"
      ],
      "text/plain": [
       "    특성1   특성2\n",
       "0  0.00  0.00\n",
       "1  0.25  0.25\n",
       "2  0.50  0.50\n",
       "3  0.75  0.75\n",
       "4  1.00  1.00"
      ]
     },
     "execution_count": 129,
     "metadata": {},
     "output_type": "execute_result"
    }
   ],
   "source": [
    "#출력\n",
    "normalized_df"
   ]
  },
  {
   "cell_type": "code",
   "execution_count": null,
   "id": "50d019c8-5c2a-4ba1-807d-fc998c06e9e0",
   "metadata": {},
   "outputs": [],
   "source": []
  },
  {
   "cell_type": "code",
   "execution_count": 132,
   "id": "22d819d8-80a9-4057-a64f-2402969e2199",
   "metadata": {},
   "outputs": [],
   "source": [
    "#2. 데이터 표준화(Standardization)\n",
    "#표준화(Standardization)는 데이터를 평균이 0, 표준편차가 1이 되도록 변환하는 과정임.\n",
    "#이는 정규 분포를 가정한 많은 분석 기법에 유리."
   ]
  },
  {
   "cell_type": "code",
   "execution_count": 136,
   "id": "9a1d620b-7796-4c86-af45-69eae8569994",
   "metadata": {},
   "outputs": [],
   "source": [
    "#Z-점수 표준화\n",
    "#데이터에서 평균을 빼고 표준편차로 나누어, 모든 데이터가 표준 정규분포(평균 0, 표준편차 1)를 따르도록 만듦.\n",
    "\n",
    "from sklearn.preprocessing import StandardScaler\n",
    "\n",
    "# Z-점수 표준화\n",
    "scaler = StandardScaler()\n",
    "standardized_df = pd.DataFrame(scaler.fit_transform(df), columns=df.columns)"
   ]
  },
  {
   "cell_type": "code",
   "execution_count": 138,
   "id": "a69edab2-f3a5-4bc1-83cc-445c4ab763a7",
   "metadata": {},
   "outputs": [
    {
     "data": {
      "text/html": [
       "<div>\n",
       "<style scoped>\n",
       "    .dataframe tbody tr th:only-of-type {\n",
       "        vertical-align: middle;\n",
       "    }\n",
       "\n",
       "    .dataframe tbody tr th {\n",
       "        vertical-align: top;\n",
       "    }\n",
       "\n",
       "    .dataframe thead th {\n",
       "        text-align: right;\n",
       "    }\n",
       "</style>\n",
       "<table border=\"1\" class=\"dataframe\">\n",
       "  <thead>\n",
       "    <tr style=\"text-align: right;\">\n",
       "      <th></th>\n",
       "      <th>특성1</th>\n",
       "      <th>특성2</th>\n",
       "    </tr>\n",
       "  </thead>\n",
       "  <tbody>\n",
       "    <tr>\n",
       "      <th>0</th>\n",
       "      <td>-1.414214</td>\n",
       "      <td>-1.414214</td>\n",
       "    </tr>\n",
       "    <tr>\n",
       "      <th>1</th>\n",
       "      <td>-0.707107</td>\n",
       "      <td>-0.707107</td>\n",
       "    </tr>\n",
       "    <tr>\n",
       "      <th>2</th>\n",
       "      <td>0.000000</td>\n",
       "      <td>0.000000</td>\n",
       "    </tr>\n",
       "    <tr>\n",
       "      <th>3</th>\n",
       "      <td>0.707107</td>\n",
       "      <td>0.707107</td>\n",
       "    </tr>\n",
       "    <tr>\n",
       "      <th>4</th>\n",
       "      <td>1.414214</td>\n",
       "      <td>1.414214</td>\n",
       "    </tr>\n",
       "  </tbody>\n",
       "</table>\n",
       "</div>"
      ],
      "text/plain": [
       "        특성1       특성2\n",
       "0 -1.414214 -1.414214\n",
       "1 -0.707107 -0.707107\n",
       "2  0.000000  0.000000\n",
       "3  0.707107  0.707107\n",
       "4  1.414214  1.414214"
      ]
     },
     "execution_count": 138,
     "metadata": {},
     "output_type": "execute_result"
    }
   ],
   "source": [
    "#출력\n",
    "standardized_df"
   ]
  },
  {
   "cell_type": "code",
   "execution_count": null,
   "id": "49b9fe58-35bc-490f-becd-19c820ee28f4",
   "metadata": {},
   "outputs": [],
   "source": []
  },
  {
   "cell_type": "code",
   "execution_count": 143,
   "id": "7facf134-a7fe-456f-87b1-2129c6a6f4b3",
   "metadata": {},
   "outputs": [],
   "source": [
    "#3. 비선형 변황(Non-linear Transformation)\n",
    "# 비선형 변환은 데이터의 비정상적인 분포를 정규분포에 가깝게 만들기 위해 사용.\n",
    "# 대표적인 방법)\n",
    "# 로그 변환, 제곱근 변화, 박스-콕스 변환"
   ]
  },
  {
   "cell_type": "code",
   "execution_count": 145,
   "id": "fda4e41c-6fbe-4e0e-bf90-5884ae81eb33",
   "metadata": {},
   "outputs": [],
   "source": [
    "#로그(Log) 변환\n",
    "# 로그 변환은 양의 데이터에서 주로 사용되며, 데이터의 분포를 좁히는 데 유용.\n",
    "# 특히, 지수 분포를 가진 데이터를 다룰 때 효과적."
   ]
  },
  {
   "cell_type": "code",
   "execution_count": 147,
   "id": "36ab9a49-163b-4236-ac74-d4c954247aa2",
   "metadata": {},
   "outputs": [],
   "source": [
    "import numpy as pd\n",
    "\n",
    "#로그 변환\n",
    "df['특성1_log'] = np.log(df['특성1'])"
   ]
  },
  {
   "cell_type": "code",
   "execution_count": 151,
   "id": "b9d004c7-35f2-478e-a061-2bc8db2d3c69",
   "metadata": {},
   "outputs": [
    {
     "data": {
      "text/html": [
       "<div>\n",
       "<style scoped>\n",
       "    .dataframe tbody tr th:only-of-type {\n",
       "        vertical-align: middle;\n",
       "    }\n",
       "\n",
       "    .dataframe tbody tr th {\n",
       "        vertical-align: top;\n",
       "    }\n",
       "\n",
       "    .dataframe thead th {\n",
       "        text-align: right;\n",
       "    }\n",
       "</style>\n",
       "<table border=\"1\" class=\"dataframe\">\n",
       "  <thead>\n",
       "    <tr style=\"text-align: right;\">\n",
       "      <th></th>\n",
       "      <th>특성1</th>\n",
       "      <th>특성2</th>\n",
       "      <th>특성1_log</th>\n",
       "    </tr>\n",
       "  </thead>\n",
       "  <tbody>\n",
       "    <tr>\n",
       "      <th>0</th>\n",
       "      <td>10</td>\n",
       "      <td>1</td>\n",
       "      <td>2.302585</td>\n",
       "    </tr>\n",
       "    <tr>\n",
       "      <th>1</th>\n",
       "      <td>20</td>\n",
       "      <td>2</td>\n",
       "      <td>2.995732</td>\n",
       "    </tr>\n",
       "    <tr>\n",
       "      <th>2</th>\n",
       "      <td>30</td>\n",
       "      <td>3</td>\n",
       "      <td>3.401197</td>\n",
       "    </tr>\n",
       "    <tr>\n",
       "      <th>3</th>\n",
       "      <td>40</td>\n",
       "      <td>4</td>\n",
       "      <td>3.688879</td>\n",
       "    </tr>\n",
       "    <tr>\n",
       "      <th>4</th>\n",
       "      <td>50</td>\n",
       "      <td>5</td>\n",
       "      <td>3.912023</td>\n",
       "    </tr>\n",
       "  </tbody>\n",
       "</table>\n",
       "</div>"
      ],
      "text/plain": [
       "   특성1  특성2   특성1_log\n",
       "0   10    1  2.302585\n",
       "1   20    2  2.995732\n",
       "2   30    3  3.401197\n",
       "3   40    4  3.688879\n",
       "4   50    5  3.912023"
      ]
     },
     "execution_count": 151,
     "metadata": {},
     "output_type": "execute_result"
    }
   ],
   "source": [
    "#출력\n",
    "df"
   ]
  },
  {
   "cell_type": "code",
   "execution_count": 154,
   "id": "28816c67-f882-44cb-8a91-06373710c373",
   "metadata": {},
   "outputs": [],
   "source": [
    "#제곱근(Square Root) 변환\n",
    "#제곱근 변환은 데이터의 분포를 평탄하게 만들기 위한 또 다른 방법.\n",
    "#특히, 포아송 분포를 가진 데이터에서 사용됨."
   ]
  },
  {
   "cell_type": "code",
   "execution_count": 156,
   "id": "46261061-d37a-4551-ab21-411e6ad95e39",
   "metadata": {},
   "outputs": [],
   "source": [
    "#제곱근 변환\n",
    "df['특성1_sqrt'] = np.sqrt(df['특성1'])"
   ]
  },
  {
   "cell_type": "code",
   "execution_count": 158,
   "id": "00be2a06-73c6-43e1-b873-6e5c4ef31440",
   "metadata": {},
   "outputs": [
    {
     "data": {
      "text/html": [
       "<div>\n",
       "<style scoped>\n",
       "    .dataframe tbody tr th:only-of-type {\n",
       "        vertical-align: middle;\n",
       "    }\n",
       "\n",
       "    .dataframe tbody tr th {\n",
       "        vertical-align: top;\n",
       "    }\n",
       "\n",
       "    .dataframe thead th {\n",
       "        text-align: right;\n",
       "    }\n",
       "</style>\n",
       "<table border=\"1\" class=\"dataframe\">\n",
       "  <thead>\n",
       "    <tr style=\"text-align: right;\">\n",
       "      <th></th>\n",
       "      <th>특성1</th>\n",
       "      <th>특성2</th>\n",
       "      <th>특성1_log</th>\n",
       "      <th>특성1_sqrt</th>\n",
       "    </tr>\n",
       "  </thead>\n",
       "  <tbody>\n",
       "    <tr>\n",
       "      <th>0</th>\n",
       "      <td>10</td>\n",
       "      <td>1</td>\n",
       "      <td>2.302585</td>\n",
       "      <td>3.162278</td>\n",
       "    </tr>\n",
       "    <tr>\n",
       "      <th>1</th>\n",
       "      <td>20</td>\n",
       "      <td>2</td>\n",
       "      <td>2.995732</td>\n",
       "      <td>4.472136</td>\n",
       "    </tr>\n",
       "    <tr>\n",
       "      <th>2</th>\n",
       "      <td>30</td>\n",
       "      <td>3</td>\n",
       "      <td>3.401197</td>\n",
       "      <td>5.477226</td>\n",
       "    </tr>\n",
       "    <tr>\n",
       "      <th>3</th>\n",
       "      <td>40</td>\n",
       "      <td>4</td>\n",
       "      <td>3.688879</td>\n",
       "      <td>6.324555</td>\n",
       "    </tr>\n",
       "    <tr>\n",
       "      <th>4</th>\n",
       "      <td>50</td>\n",
       "      <td>5</td>\n",
       "      <td>3.912023</td>\n",
       "      <td>7.071068</td>\n",
       "    </tr>\n",
       "  </tbody>\n",
       "</table>\n",
       "</div>"
      ],
      "text/plain": [
       "   특성1  특성2   특성1_log  특성1_sqrt\n",
       "0   10    1  2.302585  3.162278\n",
       "1   20    2  2.995732  4.472136\n",
       "2   30    3  3.401197  5.477226\n",
       "3   40    4  3.688879  6.324555\n",
       "4   50    5  3.912023  7.071068"
      ]
     },
     "execution_count": 158,
     "metadata": {},
     "output_type": "execute_result"
    }
   ],
   "source": [
    "#출력\n",
    "df"
   ]
  },
  {
   "cell_type": "code",
   "execution_count": 160,
   "id": "2b39d43c-b06e-498c-9295-d2f90c005cca",
   "metadata": {},
   "outputs": [],
   "source": [
    "# 제곱근 변환을 통해 분포가 줄어드는 효과를 얻음."
   ]
  },
  {
   "cell_type": "code",
   "execution_count": null,
   "id": "c3d14a59-fee0-4e50-9772-0be05a71aaf1",
   "metadata": {},
   "outputs": [],
   "source": []
  },
  {
   "cell_type": "code",
   "execution_count": 163,
   "id": "6c083427-3a89-46c8-8188-4d8d93c20b13",
   "metadata": {},
   "outputs": [],
   "source": [
    "#박스-콕스(Box-Cox) 변환\n",
    "#박스-콕스 변환은 다양한 형태의 데이터 분포를 정규 분포에 가깝게 변환하기 위해 사용됨.\n",
    "#이 방법은 양수 데이터에서만 사용 가능."
   ]
  },
  {
   "cell_type": "code",
   "execution_count": 168,
   "id": "e5259257-4fdc-4a8b-8bb6-4ec2de77d3c3",
   "metadata": {},
   "outputs": [],
   "source": [
    "from scipy.stats import boxcox\n",
    "\n",
    "#박스-콕스 변환\n",
    "df['특성1_boxcox'], _ = boxcox(df['특성1'])"
   ]
  },
  {
   "cell_type": "code",
   "execution_count": 170,
   "id": "6487e985-0bd8-4ec3-9c4f-246f13280a56",
   "metadata": {},
   "outputs": [
    {
     "data": {
      "text/html": [
       "<div>\n",
       "<style scoped>\n",
       "    .dataframe tbody tr th:only-of-type {\n",
       "        vertical-align: middle;\n",
       "    }\n",
       "\n",
       "    .dataframe tbody tr th {\n",
       "        vertical-align: top;\n",
       "    }\n",
       "\n",
       "    .dataframe thead th {\n",
       "        text-align: right;\n",
       "    }\n",
       "</style>\n",
       "<table border=\"1\" class=\"dataframe\">\n",
       "  <thead>\n",
       "    <tr style=\"text-align: right;\">\n",
       "      <th></th>\n",
       "      <th>특성1</th>\n",
       "      <th>특성2</th>\n",
       "      <th>특성1_log</th>\n",
       "      <th>특성1_sqrt</th>\n",
       "      <th>특성1_boxcox</th>\n",
       "    </tr>\n",
       "  </thead>\n",
       "  <tbody>\n",
       "    <tr>\n",
       "      <th>0</th>\n",
       "      <td>10</td>\n",
       "      <td>1</td>\n",
       "      <td>2.302585</td>\n",
       "      <td>3.162278</td>\n",
       "      <td>5.651388</td>\n",
       "    </tr>\n",
       "    <tr>\n",
       "      <th>1</th>\n",
       "      <td>20</td>\n",
       "      <td>2</td>\n",
       "      <td>2.995732</td>\n",
       "      <td>4.472136</td>\n",
       "      <td>10.008082</td>\n",
       "    </tr>\n",
       "    <tr>\n",
       "      <th>2</th>\n",
       "      <td>30</td>\n",
       "      <td>3</td>\n",
       "      <td>3.401197</td>\n",
       "      <td>5.477226</td>\n",
       "      <td>13.708444</td>\n",
       "    </tr>\n",
       "    <tr>\n",
       "      <th>3</th>\n",
       "      <td>40</td>\n",
       "      <td>4</td>\n",
       "      <td>3.688879</td>\n",
       "      <td>6.324555</td>\n",
       "      <td>17.038108</td>\n",
       "    </tr>\n",
       "    <tr>\n",
       "      <th>4</th>\n",
       "      <td>50</td>\n",
       "      <td>5</td>\n",
       "      <td>3.912023</td>\n",
       "      <td>7.071068</td>\n",
       "      <td>20.116745</td>\n",
       "    </tr>\n",
       "  </tbody>\n",
       "</table>\n",
       "</div>"
      ],
      "text/plain": [
       "   특성1  특성2   특성1_log  특성1_sqrt  특성1_boxcox\n",
       "0   10    1  2.302585  3.162278    5.651388\n",
       "1   20    2  2.995732  4.472136   10.008082\n",
       "2   30    3  3.401197  5.477226   13.708444\n",
       "3   40    4  3.688879  6.324555   17.038108\n",
       "4   50    5  3.912023  7.071068   20.116745"
      ]
     },
     "execution_count": 170,
     "metadata": {},
     "output_type": "execute_result"
    }
   ],
   "source": [
    "#출력\n",
    "df"
   ]
  },
  {
   "cell_type": "code",
   "execution_count": 172,
   "id": "df635e6f-13d9-473b-905e-ab7f833da437",
   "metadata": {},
   "outputs": [],
   "source": [
    "#박스-콕스 변환을 통해 데이터의 분포가 정규분포에 가까워지는 효과."
   ]
  },
  {
   "cell_type": "code",
   "execution_count": null,
   "id": "e29a97db-cf8d-44b4-8ccb-e5596e46fa3f",
   "metadata": {},
   "outputs": [],
   "source": []
  },
  {
   "cell_type": "code",
   "execution_count": null,
   "id": "bab1dac9-34d4-4b9e-9b6c-69b096b69bcc",
   "metadata": {},
   "outputs": [],
   "source": [
    "#요약\n",
    "#정규화는 데이터의 범위를 0과 1 사이로 변환하는 과정으로, 주로 Min-Max 스케일링을 사용/\n",
    "#표준화는 데이터를 평균이 0, 표준편차가 1이 되도록 변환하는 과정으로, Z-점수 표준화가 대표적\n",
    "#비선형 변환은 로그, 제곱근, 박스-콕스 변환 등을 통해 비정상적인 데이터 분포를 정규 분포에 가깝게 변환"
   ]
  }
 ],
 "metadata": {
  "kernelspec": {
   "display_name": "Python 3 (ipykernel)",
   "language": "python",
   "name": "python3"
  },
  "language_info": {
   "codemirror_mode": {
    "name": "ipython",
    "version": 3
   },
   "file_extension": ".py",
   "mimetype": "text/x-python",
   "name": "python",
   "nbconvert_exporter": "python",
   "pygments_lexer": "ipython3",
   "version": "3.12.4"
  }
 },
 "nbformat": 4,
 "nbformat_minor": 5
}
