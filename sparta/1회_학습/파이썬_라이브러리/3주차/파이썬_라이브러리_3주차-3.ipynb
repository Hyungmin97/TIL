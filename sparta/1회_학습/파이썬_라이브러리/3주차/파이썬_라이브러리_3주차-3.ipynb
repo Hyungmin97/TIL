{
 "cells": [
  {
   "cell_type": "code",
   "execution_count": 1,
   "id": "8d188749-a20e-4706-9d75-60cc9bd15fa0",
   "metadata": {},
   "outputs": [],
   "source": [
    "#데이터를 선택하는 기본 방법"
   ]
  },
  {
   "cell_type": "code",
   "execution_count": 5,
   "id": "5a2d9098-a00c-455f-9fe7-309058fceb82",
   "metadata": {},
   "outputs": [],
   "source": [
    "#인덱스를 사용한 데이터 선택\n",
    "#데이터프레임에서 인덱스는 각 행을 고유하게 식별할 수 있는 라벨.\n",
    "#인덱스를 사용해 특정 행이나 그룹을 쉽게 선택할 수 있음."
   ]
  },
  {
   "cell_type": "code",
   "execution_count": 11,
   "id": "581870c3-9884-4dda-ae81-8dddfd75f427",
   "metadata": {},
   "outputs": [
    {
     "name": "stdout",
     "output_type": "stream",
     "text": [
      "    나이    직업\n",
      "이름          \n",
      "철수  25    학생\n",
      "영희  30   회사원\n",
      "민수  35  프리랜서\n"
     ]
    }
   ],
   "source": [
    "#set_index()로 인덱스 설정하기\n",
    "#특정 열을 인덱스로 설정 시, 데이터 선택이 더 직관적\n",
    "\n",
    "import pandas as pd\n",
    "\n",
    "#예시 데이터프레임 생성\n",
    "data ={\n",
    "    '이름': ['철수','영희','민수'],\n",
    "    '나이': [25,30,35],\n",
    "    '직업': ['학생','회사원','프리랜서']\n",
    "}\n",
    "df = pd.DataFrame(data)\n",
    "\n",
    "#'이름' 열을 인덱스로 설정\n",
    "df = df.set_index('이름')\n",
    "print(df)\n"
   ]
  },
  {
   "cell_type": "code",
   "execution_count": null,
   "id": "9300981a-c406-4803-8c53-cc47de3ef25a",
   "metadata": {},
   "outputs": [],
   "source": []
  },
  {
   "cell_type": "code",
   "execution_count": 16,
   "id": "3b823375-6e03-4cc4-974c-5ebbea0e6639",
   "metadata": {},
   "outputs": [
    {
     "name": "stdout",
     "output_type": "stream",
     "text": [
      "나이     30\n",
      "직업    회사원\n",
      "Name: 영희, dtype: object\n"
     ]
    }
   ],
   "source": [
    "#loc[]을 사용해 인덱스로 데이터 선택\n",
    "#인데스를 설정한 후, loc[]을 사용해 쉽게 데이터에 접근할 수 있음.\n",
    "\n",
    "#'영희'의 데이터 선택\n",
    "print(df.loc['영희'])"
   ]
  },
  {
   "cell_type": "code",
   "execution_count": null,
   "id": "fb54877d-bb62-4043-a428-44526515592c",
   "metadata": {},
   "outputs": [],
   "source": []
  },
  {
   "cell_type": "code",
   "execution_count": 19,
   "id": "b251853c-1e1b-4bfe-8172-a4ad01fc4134",
   "metadata": {},
   "outputs": [],
   "source": [
    "#열(columns) 지정하여 데이터 선택하기"
   ]
  },
  {
   "cell_type": "code",
   "execution_count": 21,
   "id": "e0fd9d7c-14bc-45cf-be9d-6dc65b19ccb2",
   "metadata": {},
   "outputs": [
    {
     "name": "stdout",
     "output_type": "stream",
     "text": [
      "이름\n",
      "철수    25\n",
      "영희    30\n",
      "민수    35\n",
      "Name: 나이, dtype: int64\n"
     ]
    }
   ],
   "source": [
    "#단일 열 선택\n",
    "# 열 이름을 사용해 단일 열을 선택할 수 있음.\n",
    "\n",
    "#'나이'열 선택\n",
    "print(df['나이'])"
   ]
  },
  {
   "cell_type": "code",
   "execution_count": 25,
   "id": "6b5703ab-49fe-4869-8804-2a9dfcd53601",
   "metadata": {},
   "outputs": [
    {
     "name": "stdout",
     "output_type": "stream",
     "text": [
      "    나이    직업\n",
      "이름          \n",
      "철수  25    학생\n",
      "영희  30   회사원\n",
      "민수  35  프리랜서\n"
     ]
    }
   ],
   "source": [
    "#여러 열 선택\n",
    "\n",
    "#'나이'와 '직업' 열 선택\n",
    "print(df[['나이', '직업']])"
   ]
  },
  {
   "cell_type": "code",
   "execution_count": null,
   "id": "80b0bf4d-dd45-4a51-97f6-fb0524d7fb1e",
   "metadata": {},
   "outputs": [],
   "source": []
  },
  {
   "cell_type": "code",
   "execution_count": 28,
   "id": "295e5073-d9d5-4360-866d-735f3eb70a5c",
   "metadata": {},
   "outputs": [],
   "source": [
    "#행(Row) 지정하여 데이터 선택하기"
   ]
  },
  {
   "cell_type": "code",
   "execution_count": 30,
   "id": "53a9adc2-084e-4a1e-bd9f-401e224ffe11",
   "metadata": {},
   "outputs": [
    {
     "name": "stdout",
     "output_type": "stream",
     "text": [
      "나이    25\n",
      "직업    학생\n",
      "Name: 철수, dtype: object\n"
     ]
    }
   ],
   "source": [
    "#iloc[]을 사용한 행 선택\n",
    "#iloc[]을 사용하면 정수 인덱스로 행을 선택할 수 있음.\n",
    "\n",
    "#첫 번째 행 선택\n",
    "print(df.iloc[0])"
   ]
  },
  {
   "cell_type": "code",
   "execution_count": null,
   "id": "71a9d082-3049-4023-bc05-55d138a75852",
   "metadata": {},
   "outputs": [],
   "source": []
  },
  {
   "cell_type": "code",
   "execution_count": 33,
   "id": "f51c7446-cc92-4b97-9d1e-3ebd03c50304",
   "metadata": {},
   "outputs": [
    {
     "name": "stdout",
     "output_type": "stream",
     "text": [
      "나이      35\n",
      "직업    프리랜서\n",
      "Name: 민수, dtype: object\n"
     ]
    }
   ],
   "source": [
    "#loc[]을 사용한 특정 행 선택\n",
    "#loc[]을 사용해 인덱스 라벨로 특정 행을 선택할 수 있음.\n",
    "\n",
    "#'민수'의 데이터 선택\n",
    "print(df.loc['민수'])"
   ]
  },
  {
   "cell_type": "code",
   "execution_count": null,
   "id": "eca627b6-9c97-42c3-aa8f-72c8cb2e0448",
   "metadata": {},
   "outputs": [],
   "source": []
  },
  {
   "cell_type": "code",
   "execution_count": 36,
   "id": "f0284ab2-3339-44f9-8150-3af549d16cb2",
   "metadata": {},
   "outputs": [
    {
     "name": "stdout",
     "output_type": "stream",
     "text": [
      "    나이   직업\n",
      "이름         \n",
      "철수  25   학생\n",
      "영희  30  회사원\n"
     ]
    }
   ],
   "source": [
    "#여러 행 선택\n",
    "#iloc[]이나 loc[]을 사용해 여러 행을 선택할 수 있음.\n",
    "\n",
    "#첫 번째와 두 번째 행 선택\n",
    "print(df.iloc[0:2])"
   ]
  },
  {
   "cell_type": "code",
   "execution_count": null,
   "id": "92cd2328-4b43-434f-9878-e3906a9dad2f",
   "metadata": {},
   "outputs": [],
   "source": []
  },
  {
   "cell_type": "code",
   "execution_count": null,
   "id": "89bd188a-ca6d-47d4-9f5f-25235d41ecdf",
   "metadata": {},
   "outputs": [],
   "source": [
    "#요약\n",
    "#인덱스는 데이터프레임의 특정 해을 고유하게 식별하는 데 사용되며, set_index()로 설정할 수 있음.\n",
    "#loc[]은 인덱스와 열 라벨을 사용해 데이터에 접근하며, iloc[]은 정수 인덱스를 사용.\n",
    "#단일 열 또는 여러 열을 선택하여 특정 데이터를 추출할 수 있음.\n",
    "#행과 열을 함께 지정해 정교한 데이터 선택 가능."
   ]
  }
 ],
 "metadata": {
  "kernelspec": {
   "display_name": "Python 3 (ipykernel)",
   "language": "python",
   "name": "python3"
  },
  "language_info": {
   "codemirror_mode": {
    "name": "ipython",
    "version": 3
   },
   "file_extension": ".py",
   "mimetype": "text/x-python",
   "name": "python",
   "nbconvert_exporter": "python",
   "pygments_lexer": "ipython3",
   "version": "3.12.4"
  }
 },
 "nbformat": 4,
 "nbformat_minor": 5
}
