{
 "cells": [
  {
   "cell_type": "code",
   "execution_count": 1,
   "id": "8633a971-d286-4be0-b707-9cb7f9ce79e5",
   "metadata": {},
   "outputs": [],
   "source": [
    "#데이터 변형해보기:데이터 정렬과 병합"
   ]
  },
  {
   "cell_type": "code",
   "execution_count": 3,
   "id": "4b53e237-41d4-4654-8efc-09d9dd31f390",
   "metadata": {},
   "outputs": [],
   "source": [
    "#데이터 정렬\n",
    "#pandas에서는 sort_values()와 sort_index()를 사용해 쉽게 데이터를 정렬할 수 있음."
   ]
  },
  {
   "cell_type": "code",
   "execution_count": 11,
   "id": "7920b720-ffe0-433a-87c5-97b3c77c75e2",
   "metadata": {},
   "outputs": [
    {
     "name": "stdout",
     "output_type": "stream",
     "text": [
      "   이름  나이    직업\n",
      "2  민수  22    학생\n",
      "0  철수  25    학생\n",
      "1  영희  30   회사원\n",
      "3  지수  35  프리랜서\n"
     ]
    }
   ],
   "source": [
    "#sort_values()를 사용한 값(Value) 기준 정렬\n",
    "#특정 열의 값을 기준으로 데이터를 오름차순 또는 내림차순으로 정렬할 수 있음.\n",
    "\n",
    "import pandas as pd\n",
    "\n",
    "data = {\n",
    "    '이름' : ['철수','영희','민수','지수'],\n",
    "    '나이' : [25,30,22,35],\n",
    "    '직업' : ['학생','회사원','학생','프리랜서']\n",
    "}\n",
    "df = pd.DataFrame(data)\n",
    "\n",
    "#'나이'를 기준으로 오름차순 정렬\n",
    "sorted_df = df.sort_values(by='나이')\n",
    "print(sorted_df)"
   ]
  },
  {
   "cell_type": "code",
   "execution_count": 17,
   "id": "0e7e44fb-7b66-4e2d-8d2e-829313cb8698",
   "metadata": {},
   "outputs": [
    {
     "name": "stdout",
     "output_type": "stream",
     "text": [
      "   이름  나이    직업\n",
      "3  지수  35  프리랜서\n",
      "1  영희  30   회사원\n",
      "0  철수  25    학생\n",
      "2  민수  22    학생\n"
     ]
    }
   ],
   "source": [
    "#'나이'를 기준으로 내림차순 정렬\n",
    "sorted_df_desc = df.sort_values(by='나이', ascending = False)\n",
    "print(sorted_df_desc)"
   ]
  },
  {
   "cell_type": "code",
   "execution_count": 21,
   "id": "a52a59c9-45b6-4186-a04b-099bb340d6bd",
   "metadata": {},
   "outputs": [],
   "source": [
    "#내림차순으로 정렬하려면 ascending = False를 지정."
   ]
  },
  {
   "cell_type": "code",
   "execution_count": 25,
   "id": "6d96b113-f8ca-4724-8801-f256ef041cd4",
   "metadata": {},
   "outputs": [
    {
     "name": "stdout",
     "output_type": "stream",
     "text": [
      "   이름  나이    직업\n",
      "3  지수  35  프리랜서\n",
      "2  민수  22    학생\n",
      "0  철수  25    학생\n",
      "1  영희  30   회사원\n"
     ]
    }
   ],
   "source": [
    "#sort_values()를 사용한 여러 열 기준 정렬\n",
    "#여러 열을 기준으로 정렬할 수 있음. 우선 순위에 따라서 첫 번째 열부터 정렬\n",
    "\n",
    "#'직업'을 기준으로, 같은 직업 내에서 '나이' 오름차순 정렬\n",
    "sorted_df_multi = df.sort_values(by=['직업','나이'])\n",
    "print(sorted_df_multi)"
   ]
  },
  {
   "cell_type": "code",
   "execution_count": 27,
   "id": "0850d45c-1757-40b9-9a8a-2f776917223e",
   "metadata": {},
   "outputs": [
    {
     "name": "stdout",
     "output_type": "stream",
     "text": [
      "   이름  나이    직업\n",
      "0  철수  25    학생\n",
      "1  영희  30   회사원\n",
      "2  민수  22    학생\n",
      "3  지수  35  프리랜서\n"
     ]
    }
   ],
   "source": [
    "#sort_index()를 사용한 인덱스 기준 정렬\n",
    "#인덱스를 기준으로 데이터를 정렬할 수 있음.\n",
    "\n",
    "#인덱스 기준으로 정렬\n",
    "sorted_index_df = df.sort_index()\n",
    "print(sorted_index_df)"
   ]
  },
  {
   "cell_type": "code",
   "execution_count": 29,
   "id": "6f4cc056-20f4-4f66-904d-21bd88bb59e1",
   "metadata": {},
   "outputs": [
    {
     "name": "stdout",
     "output_type": "stream",
     "text": [
      "   이름  나이    직업\n",
      "3  지수  35  프리랜서\n",
      "2  민수  22    학생\n",
      "1  영희  30   회사원\n",
      "0  철수  25    학생\n"
     ]
    }
   ],
   "source": [
    "#내림차순으로 인덱스를 정렬하려면 ascending=False를 지정.\n",
    "\n",
    "#인덱스를 내림차순으로 정렬\n",
    "sorted_index_df_desc = df.sort_index(ascending=False)\n",
    "print(sorted_index_df_desc)"
   ]
  },
  {
   "cell_type": "code",
   "execution_count": null,
   "id": "036e9bb6-d205-4ef6-9931-24198b9e1a18",
   "metadata": {},
   "outputs": [],
   "source": []
  },
  {
   "cell_type": "code",
   "execution_count": 32,
   "id": "8ccac46d-18f1-4662-a2b8-172f21640841",
   "metadata": {},
   "outputs": [],
   "source": [
    "#데이터 병합\n",
    "#pandas에서는 merge(), concat(), join()을 사용해 데이터를 병합할 수 있음."
   ]
  },
  {
   "cell_type": "code",
   "execution_count": 34,
   "id": "2b347603-44a1-4820-8bb0-9bbdeb2075a2",
   "metadata": {},
   "outputs": [
    {
     "name": "stdout",
     "output_type": "stream",
     "text": [
      "   이름  나이   직업\n",
      "0  철수  25   학생\n",
      "1  영희  30  회사원\n"
     ]
    }
   ],
   "source": [
    "#merge()를 사용한 데이터프레임 병합\n",
    "#SQL의 JOIN과 유사하게 두 데이터프레임을 공통 열을 기준으로 병합.\n",
    "\n",
    "df1= pd.DataFrame({\n",
    "    '이름' : ['철수','영희','민수'],\n",
    "    '나이' : [25,30,22]\n",
    "})\n",
    "\n",
    "df2 = pd.DataFrame({\n",
    "    '이름' : ['철수', '영희', '지수'],\n",
    "    '직업': ['학생', '회사원', '프리랜서']\n",
    "})\n",
    "\n",
    "#'이름'을 기준으로 병합\n",
    "merged_df = pd.merge(df1, df2, on='이름')\n",
    "print(merged_df)"
   ]
  },
  {
   "cell_type": "code",
   "execution_count": 36,
   "id": "6c3afa77-bfa9-4974-a7c7-3960aa93c3e1",
   "metadata": {},
   "outputs": [],
   "source": [
    "#on='이름'\n",
    "#위 부분을 작성함으로써 '이름'을 기준으로 병합할 수 있었던 것 기억할 것."
   ]
  },
  {
   "cell_type": "code",
   "execution_count": null,
   "id": "44c0f488-22df-4730-a9a2-841790cc7c6f",
   "metadata": {},
   "outputs": [],
   "source": []
  },
  {
   "cell_type": "code",
   "execution_count": 39,
   "id": "478ab95c-ec4f-45ba-936d-856349436eb3",
   "metadata": {},
   "outputs": [],
   "source": [
    "#다양한 merge() 방식\n",
    "#inner(기본값): 공통된 데이터만 병합\n",
    "#outer: 공통되지 않은 데이터도 포함하여 병합, 없는 값은 NaN으로 채움.\n",
    "#left: 왼쪽 데이터프레임 기준으로 병합.\n",
    "#right: 오른쪽 데이터프레임 기준으로 병합."
   ]
  },
  {
   "cell_type": "code",
   "execution_count": 45,
   "id": "2317ca60-a42d-4e1e-8827-6427782c31ad",
   "metadata": {},
   "outputs": [
    {
     "name": "stdout",
     "output_type": "stream",
     "text": [
      "   이름    나이    직업\n",
      "0  민수  22.0   NaN\n",
      "1  영희  30.0   회사원\n",
      "2  지수   NaN  프리랜서\n",
      "3  철수  25.0    학생\n"
     ]
    }
   ],
   "source": [
    "#outer join을 사용한 병합\n",
    "merged_df_outer = pd.merge(df1, df2, on='이름', how='outer')\n",
    "print(merged_df_outer)"
   ]
  },
  {
   "cell_type": "code",
   "execution_count": 55,
   "id": "0dfc2cf7-b24b-4bea-985a-d8301e64ab53",
   "metadata": {},
   "outputs": [
    {
     "name": "stdout",
     "output_type": "stream",
     "text": [
      "   이름    나이    직업\n",
      "0  철수  25.0   NaN\n",
      "1  영희  30.0   NaN\n",
      "2  민수  22.0   NaN\n",
      "0  철수   NaN    학생\n",
      "1  영희   NaN   회사원\n",
      "2  지수   NaN  프리랜서\n"
     ]
    }
   ],
   "source": [
    "#concat()을 사용한 데이터프레임 연결\n",
    "#행(row) 또는 열(column) 단위로 데이터프레임을 연결할 수 있음.\n",
    "\n",
    "#행 단위로 데이터프레임 연결\n",
    "concat_df = pd.concat([df1, df2], axis=0)\n",
    "print(concat_df)"
   ]
  },
  {
   "cell_type": "code",
   "execution_count": 59,
   "id": "7cbae51d-cfc5-4518-9d79-c81af7899529",
   "metadata": {},
   "outputs": [
    {
     "name": "stdout",
     "output_type": "stream",
     "text": [
      "   이름  나이  이름    직업\n",
      "0  철수  25  철수    학생\n",
      "1  영희  30  영희   회사원\n",
      "2  민수  22  지수  프리랜서\n"
     ]
    }
   ],
   "source": [
    "# 열 단위로 데이터프레임 연결\n",
    "concat_df_axis1 = pd.concat([df1, df2], axis=1)\n",
    "print(concat_df_axis1)\n"
   ]
  },
  {
   "cell_type": "code",
   "execution_count": 65,
   "id": "eabf01ba-587d-42bf-a68e-54862d276059",
   "metadata": {},
   "outputs": [],
   "source": [
    "#axis의 의미:\n",
    "#axis=0: 행 방향으로 연결. 즉, 데이터프레임을 세로로 이어붙입니다.\n",
    "#axis=1: 열 방향으로 연결. 즉, 데이터프레임을 가로로 이어붙입니다."
   ]
  },
  {
   "cell_type": "code",
   "execution_count": 63,
   "id": "c7866b53-a011-40b3-a192-0aa277cd4e14",
   "metadata": {},
   "outputs": [],
   "source": []
  },
  {
   "cell_type": "code",
   "execution_count": 71,
   "id": "b2fa4ac2-d4d9-4cff-8df7-ea6a1b6ca86f",
   "metadata": {},
   "outputs": [
    {
     "name": "stdout",
     "output_type": "stream",
     "text": [
      "    나이   직업      연봉\n",
      "이름                 \n",
      "철수  25   학생  2000.0\n",
      "영희  30  회사원  3000.0\n",
      "민수  22  NaN     NaN\n"
     ]
    }
   ],
   "source": [
    "#join()을 사용한 데이터프레임 병합\n",
    "#인덱스를 기준으로 데이터프레임을 병합할 때 사용.\n",
    "\n",
    "#예시 데이터프레임 생성\n",
    "df3 = pd.DataFrame({\n",
    "    '직업' : ['학생', '회사원', '프리랜서'],\n",
    "    '연봉': [2000, 3000, 4000]\n",
    "}, index=['철수', '영희', '지수'])\n",
    "\n",
    "#인덱스를 기준으로 병합\n",
    "joined_df = df1.set_index('이름').join(df3)\n",
    "print(joined_df)"
   ]
  },
  {
   "cell_type": "code",
   "execution_count": null,
   "id": "a296e756-ebf9-49e6-b5ae-8094419db4e0",
   "metadata": {},
   "outputs": [],
   "source": []
  },
  {
   "cell_type": "code",
   "execution_count": null,
   "id": "729a5489-34f5-4da6-b403-62a9f997c5a7",
   "metadata": {},
   "outputs": [],
   "source": [
    "#요약\n",
    "#데이터 정렬은 sort_values()로 특정 열 기준으로, sort_index()로 인덱스 기준으로 정렬할 수 있다.\n",
    "#데이터 병합은 merge()를 사용해 공통 열을 기준으로 병합하거나, concat()을 사용해 행 또는 열 단위로 연결할 수 있다.\n",
    "#인덱스를 기준으로 병합할 때는 join()을 사용할 수 있으며, 다양한 병합 방식(innner, outer, left, right)이 지원."
   ]
  }
 ],
 "metadata": {
  "kernelspec": {
   "display_name": "Python 3 (ipykernel)",
   "language": "python",
   "name": "python3"
  },
  "language_info": {
   "codemirror_mode": {
    "name": "ipython",
    "version": 3
   },
   "file_extension": ".py",
   "mimetype": "text/x-python",
   "name": "python",
   "nbconvert_exporter": "python",
   "pygments_lexer": "ipython3",
   "version": "3.12.4"
  }
 },
 "nbformat": 4,
 "nbformat_minor": 5
}
