{
 "cells": [
  {
   "cell_type": "code",
   "execution_count": 1,
   "id": "3d7b9c7f-325d-45d9-936d-9b618bb2f0c7",
   "metadata": {},
   "outputs": [],
   "source": [
    "#실습: Attention 매커니즘의 구현"
   ]
  },
  {
   "cell_type": "code",
   "execution_count": 5,
   "id": "e2063d22-b3f0-4429-bb06-c2e87e57832c",
   "metadata": {},
   "outputs": [],
   "source": [
    "#Scaled Dot-Product Attention\n",
    "\n",
    "#Q: Query, Key, Value\n",
    "import torch\n",
    "import torch.nn as nn\n",
    "import torch.nn.functional as F\n",
    "\n",
    "def scaled_dot_product_attention(Q, K, V):\n",
    "    d_k = Q.size(-1)  # Key의 차원 수\n",
    "    scores = torch.matmul(Q, K.transpose(-2, -1)) / torch.sqrt(torch.tensor(d_k, dtype=torch.float32))  # 유사도 계산 및 스케일링\n",
    "    attn_weights = F.softmax(scores, dim=-1)  # Softmax를 통한 가중치 계산\n",
    "    output = torch.matmul(attn_weights, V)  # 가중합을 통한 최종 출력 계산\n",
    "    return output, attn_weights"
   ]
  },
  {
   "cell_type": "code",
   "execution_count": 6,
   "id": "6fbbd7ee-5940-420e-b4bf-25fc0973acdb",
   "metadata": {},
   "outputs": [],
   "source": [
    "#Multi-Head Attention\n",
    "\n",
    "class MultiHeadAttention(nn.Module):\n",
    "    def __init__(self, embed_size, heads):\n",
    "        super(MultiHeadAttention, self).__init__()\n",
    "        self.embed_size = embed_size\n",
    "        self.heads = heads\n",
    "        self.head_dim = embed_size // heads\n",
    "\n",
    "        assert (\n",
    "            self.head_dim * heads == embed_size\n",
    "        ), \"Embedding size needs to be divisible by heads\"\n",
    "\n",
    "        self.values = nn.Linear(self.head_dim, self.head_dim, bias=False)\n",
    "        self.keys = nn.Linear(self.head_dim, self.head_dim, bias=False)\n",
    "        self.queries = nn.Linear(self.head_dim, self.head_dim, bias=False)\n",
    "        self.fc_out = nn.Linear(heads * self.head_dim, embed_size)\n",
    "\n",
    "    def forward(self, values, keys, query, mask=None):\n",
    "        N = query.shape[0]\n",
    "        value_len, key_len, query_len = values.shape[1], keys.shape[1], query.shape[1]\n",
    "\n",
    "        # Linear transformations\n",
    "        values = self.values(values).view(N, value_len, self.heads, self.head_dim)\n",
    "        keys = self.keys(keys).view(N, key_len, self.heads, self.head_dim)\n",
    "        queries = self.queries(query).view(N, query_len, self.heads, self.head_dim)\n",
    "\n",
    "        # Scaled dot-product attention\n",
    "        out, _ = scaled_dot_product_attention(queries, keys, values)\n",
    "\n",
    "        out = out.view(N, query_len, self.heads * self.head_dim)\n",
    "        out = self.fc_out(out)\n",
    "        return out"
   ]
  },
  {
   "cell_type": "code",
   "execution_count": null,
   "id": "5e092117-f516-4a1b-b66c-51909453d629",
   "metadata": {},
   "outputs": [],
   "source": []
  }
 ],
 "metadata": {
  "kernelspec": {
   "display_name": "Python (DL_learn)",
   "language": "python",
   "name": "dl_learn"
  },
  "language_info": {
   "codemirror_mode": {
    "name": "ipython",
    "version": 3
   },
   "file_extension": ".py",
   "mimetype": "text/x-python",
   "name": "python",
   "nbconvert_exporter": "python",
   "pygments_lexer": "ipython3",
   "version": "3.12.7"
  }
 },
 "nbformat": 4,
 "nbformat_minor": 5
}
