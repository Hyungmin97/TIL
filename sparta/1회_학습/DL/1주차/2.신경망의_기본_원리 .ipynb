{
 "cells": [
  {
   "cell_type": "code",
   "execution_count": 1,
   "id": "f82854a7-4cd0-4904-b000-cd3aebf46e1f",
   "metadata": {},
   "outputs": [],
   "source": [
    "# 2. 신경망의 기본 원리"
   ]
  },
  {
   "cell_type": "code",
   "execution_count": 1,
   "id": "529ab5dc-3f8d-4306-90e0-b1b874cbc2f8",
   "metadata": {},
   "outputs": [],
   "source": [
    "# 퍼셉트론 : 인공신경망의 가장 기본적인 단위\n",
    "#        : 사람의 뇌를 모델링한 것"
   ]
  },
  {
   "cell_type": "code",
   "execution_count": 2,
   "id": "748e158d-0ab2-4e89-9bae-fc16243c366b",
   "metadata": {},
   "outputs": [],
   "source": [
    "#단일 퍼셉트론 개념 : 입력값에 가중치를 곱한 것을 모두 더하여 활성화함수에 넣어 출력"
   ]
  },
  {
   "cell_type": "code",
   "execution_count": 3,
   "id": "fd852b1b-826b-485e-a51b-398a8b75544b",
   "metadata": {},
   "outputs": [],
   "source": [
    "#퍼셉트론의 수학적 표현 :  y = f(Σ wi*xi + b)\n",
    "#                          여기서 b는 바이어스"
   ]
  },
  {
   "cell_type": "code",
   "execution_count": null,
   "id": "bd3b8df2-8339-4635-b277-fe25482586bb",
   "metadata": {},
   "outputs": [],
   "source": []
  },
  {
   "cell_type": "code",
   "execution_count": 4,
   "id": "930c0908-8ef9-400a-a7cc-e809370678da",
   "metadata": {},
   "outputs": [],
   "source": [
    "#단일 퍼셉트론 예시\n",
    "#귀의 개수, 다리의 개수로 사람인지 개인지 구분하는 퍼셉트론 모델링\n",
    "#귀 * X + 다리 * Y + b\n",
    "\n",
    "#귀의 개수: 사람, 개 -> 2\n",
    "#다리의 개수: 사람 -> 2, 개 -> 4\n",
    "\n",
    "#예를 들어 바이어스(b):0, X, Y :1로 둔다고 했을 때,\n",
    "#사람은 언제나 4를 출력, 개는 언제나 6을 출력\n",
    "\n",
    "#만약 출력값이 4일 시에는 1을 출력하게 해서 -> 사람\n",
    "#6일 시에는 0을 출력하게 해서 -> 개"
   ]
  },
  {
   "cell_type": "code",
   "execution_count": null,
   "id": "c8cd8390-e164-432c-869c-8e1da829013e",
   "metadata": {},
   "outputs": [],
   "source": []
  },
  {
   "cell_type": "code",
   "execution_count": 5,
   "id": "78803932-1193-4f55-b1c3-b578664943ad",
   "metadata": {},
   "outputs": [],
   "source": [
    "#다층 퍼셉트론(MLP)\n",
    "#입력층 / 은닉층 / 출력층"
   ]
  },
  {
   "cell_type": "code",
   "execution_count": null,
   "id": "9720f38b-5d38-4695-bd98-279d39dcf11d",
   "metadata": {},
   "outputs": [],
   "source": []
  },
  {
   "cell_type": "code",
   "execution_count": 6,
   "id": "97ffecae-d9d6-4b26-827b-64d2b7d6540f",
   "metadata": {},
   "outputs": [],
   "source": [
    "#손실함수\n",
    "#모델의 예측값과 실제값 사이의 차이를 측정하는 함수"
   ]
  },
  {
   "cell_type": "code",
   "execution_count": null,
   "id": "3bb287d1-ff76-4224-b923-d92cfead8e30",
   "metadata": {},
   "outputs": [],
   "source": []
  }
 ],
 "metadata": {
  "kernelspec": {
   "display_name": "Python (sparta)",
   "language": "python",
   "name": "sparta"
  },
  "language_info": {
   "codemirror_mode": {
    "name": "ipython",
    "version": 3
   },
   "file_extension": ".py",
   "mimetype": "text/x-python",
   "name": "python",
   "nbconvert_exporter": "python",
   "pygments_lexer": "ipython3",
   "version": "3.12.7"
  }
 },
 "nbformat": 4,
 "nbformat_minor": 5
}
