{
 "cells": [
  {
   "cell_type": "code",
   "execution_count": 1,
   "id": "37688955-9013-48b9-bf01-7fa0da8ae783",
   "metadata": {},
   "outputs": [],
   "source": [
    "#3. 딥러닝 실습 환경 구축"
   ]
  },
  {
   "cell_type": "code",
   "execution_count": 2,
   "id": "d772465a-2506-479a-b60d-3d09ecfaba72",
   "metadata": {},
   "outputs": [],
   "source": [
    "#Anaconda 설치\n",
    "\n",
    "#가상환경 생성\n",
    "# conda create --name DL_test\n",
    "# 단, DL_test로 입력한 부분은 원하는 가상환경명으로 변경 사용 가능\n",
    "\n",
    "#가상환경 활성화\n",
    "# conda activate DL_test\n",
    "\n",
    "# 가상환경 비활성화\n",
    "# conda deactivate\n",
    "\n",
    "# 가상환경 삭제\n",
    "# conda remove --name DL_test --all\n",
    "\n",
    "#jupyter notebook 설치\n",
    "#conda install jupyter\n",
    "\n",
    "#jupyter notebook 실행\n",
    "# jupyter notebook\n",
    "\n",
    "# jupyter notebook과 가상환경 연결\n",
    "# 1. ipykernel 설치\n",
    "# conda install ipykernel\n",
    "# 2. 가상환경을 Jupyter Notebookr에 커널로 추가\n",
    "# python -m ipykernel install --user --name DL_test --display-name \"Python (DL_test)\"\n",
    "\n",
    "\n",
    "#가상환경 상에 필요한 패키지 설치\n",
    "# conda install numpy pandas matplotlib"
   ]
  },
  {
   "cell_type": "code",
   "execution_count": null,
   "id": "d9847ce2-9aae-48be-9878-4c337eaa87de",
   "metadata": {},
   "outputs": [],
   "source": [
    "#맥북에 pytorch 설치\n",
    "# conda install pytorch::pytorch torchvision torchaudio -c pytorch"
   ]
  }
 ],
 "metadata": {
  "kernelspec": {
   "display_name": "Python (DL_test)",
   "language": "python",
   "name": "dl_test"
  },
  "language_info": {
   "codemirror_mode": {
    "name": "ipython",
    "version": 3
   },
   "file_extension": ".py",
   "mimetype": "text/x-python",
   "name": "python",
   "nbconvert_exporter": "python",
   "pygments_lexer": "ipython3",
   "version": "3.12.7"
  }
 },
 "nbformat": 4,
 "nbformat_minor": 5
}
