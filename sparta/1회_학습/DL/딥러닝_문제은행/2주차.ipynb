{
 "cells": [
  {
   "cell_type": "markdown",
   "metadata": {},
   "source": [
    "# 기본 구조를 활용한 제안 모델 작성해보기\n",
    "\n",
    "### 문제\n",
    "- 이미지를 입력으로 받아 클래스를 분류하는 모델을 Pytorch로 구현해보세요.\n",
    "- 이미지 데이터는 500x500으로 변환해야해요.\n",
    "- 손실 함수는 교차엔트로피 손실, 최적화 함수는 Adam을 사용해야 합니다.\n",
    "- 출력 레이어는 Fully Connected"
   ]
  }
 ],
 "metadata": {
  "kernelspec": {
   "display_name": "DL_learn",
   "language": "python",
   "name": "python3"
  },
  "language_info": {
   "codemirror_mode": {
    "name": "ipython",
    "version": 3
   },
   "file_extension": ".py",
   "mimetype": "text/x-python",
   "name": "python",
   "nbconvert_exporter": "python",
   "pygments_lexer": "ipython3",
   "version": "3.12.7"
  }
 },
 "nbformat": 4,
 "nbformat_minor": 2
}
