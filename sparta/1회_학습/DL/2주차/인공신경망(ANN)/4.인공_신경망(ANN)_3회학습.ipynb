{
 "cells": [
  {
   "cell_type": "code",
   "execution_count": 1,
   "id": "c9554f81-2d25-40ee-92ff-eb917b366cdc",
   "metadata": {},
   "outputs": [],
   "source": [
    "#간단한 인공 신경망 모델 구현(PyTorch)"
   ]
  },
  {
   "cell_type": "code",
   "execution_count": 2,
   "id": "925353c5-e679-4032-a1fd-271325feddc4",
   "metadata": {},
   "outputs": [],
   "source": [
    "import torch\n",
    "import torch.nn as nn\n",
    "import torch.optim as optim\n",
    "import torchvision\n",
    "import torchvision.transforms as transforms"
   ]
  },
  {
   "cell_type": "code",
   "execution_count": 3,
   "id": "8b0d21c5-8c1c-4d9e-9ade-e7ef7531139a",
   "metadata": {},
   "outputs": [],
   "source": [
    "#데이터셋 로드 및 전처리\n",
    "transform = transforms.Compose([\n",
    "    transforms.ToTensor(),\n",
    "    transforms.Normalize((0.5,), (0.5,))\n",
    "])"
   ]
  },
  {
   "cell_type": "code",
   "execution_count": 5,
   "id": "bd94c1c6-b458-4c06-badd-7a180e4b73e4",
   "metadata": {},
   "outputs": [],
   "source": [
    "#MNIST 데이터셋 로드\n",
    "trainset = torchvision.datasets.MNIST(root='./data', train=True, download=True, transform=transform)\n",
    "trainloader = torch.utils.data.DataLoader(trainset, batch_size=64, shuffle=True)\n",
    "\n",
    "testset = torchvision.datasets.MNIST(root='./data', train=False, download=True, transform=transform)\n",
    "testloader = torch.utils.data.DataLoader(testset, batch_size=64, shuffle=False)"
   ]
  },
  {
   "cell_type": "code",
   "execution_count": 7,
   "id": "0786a246-a61b-4467-a4b2-e84939eae9b6",
   "metadata": {},
   "outputs": [],
   "source": [
    "#간단한 ANN 모델 정의\n",
    "class SimpleANN(nn.Module):\n",
    "    def __init__(self):\n",
    "        super(SimpleANN, self).__init__()\n",
    "        self.fc1 = nn.Linear(28 * 28,128)\n",
    "        self.fc2 = nn.Linear(128,64)\n",
    "        self.fc3 = nn.Linear(64,10)\n",
    "\n",
    "    def forward(self, x):\n",
    "        x = x.view(-1, 28*28)\n",
    "        x = torch.relu(self.fc1(x))\n",
    "        x = torch.relu(self.fc2(x))\n",
    "        x = self.fc3(x)\n",
    "        return x"
   ]
  },
  {
   "cell_type": "code",
   "execution_count": 8,
   "id": "ba30fdb9-f221-4f54-9fe7-ec8ce415d633",
   "metadata": {},
   "outputs": [],
   "source": [
    "#모델 학습\n",
    "\n",
    "#모델 초기화\n",
    "model = SimpleANN()"
   ]
  },
  {
   "cell_type": "code",
   "execution_count": 9,
   "id": "3f25a638-db40-4d11-9c8e-710e467a7439",
   "metadata": {},
   "outputs": [],
   "source": [
    "#손실 함수와 최적화 알고리즘 정의\n",
    "criterion = nn.CrossEntropyLoss()\n",
    "optimizer = optim.SGD(model.parameters(), lr = 0.01, momentum=0.9)"
   ]
  },
  {
   "cell_type": "code",
   "execution_count": 11,
   "id": "3dac8bdc-7370-49af-a1fd-b8de9aaeeb4b",
   "metadata": {},
   "outputs": [
    {
     "name": "stdout",
     "output_type": "stream",
     "text": [
      "[Epoch 1, Batch 100] loss: 1.335\n",
      "[Epoch 1, Batch 200] loss: 1.824\n",
      "[Epoch 1, Batch 300] loss: 2.198\n",
      "[Epoch 1, Batch 400] loss: 2.539\n",
      "[Epoch 1, Batch 500] loss: 2.847\n",
      "[Epoch 1, Batch 600] loss: 3.125\n",
      "[Epoch 1, Batch 700] loss: 3.391\n",
      "[Epoch 1, Batch 800] loss: 3.621\n",
      "[Epoch 1, Batch 900] loss: 3.841\n",
      "[Epoch 2, Batch 100] loss: 0.200\n",
      "[Epoch 2, Batch 200] loss: 0.406\n",
      "[Epoch 2, Batch 300] loss: 0.602\n",
      "[Epoch 2, Batch 400] loss: 0.774\n",
      "[Epoch 2, Batch 500] loss: 0.958\n",
      "[Epoch 2, Batch 600] loss: 1.121\n",
      "[Epoch 2, Batch 700] loss: 1.284\n",
      "[Epoch 2, Batch 800] loss: 1.435\n",
      "[Epoch 2, Batch 900] loss: 1.584\n",
      "[Epoch 3, Batch 100] loss: 0.130\n",
      "[Epoch 3, Batch 200] loss: 0.267\n",
      "[Epoch 3, Batch 300] loss: 0.415\n",
      "[Epoch 3, Batch 400] loss: 0.532\n",
      "[Epoch 3, Batch 500] loss: 0.649\n",
      "[Epoch 3, Batch 600] loss: 0.782\n",
      "[Epoch 3, Batch 700] loss: 0.908\n",
      "[Epoch 3, Batch 800] loss: 1.029\n",
      "[Epoch 3, Batch 900] loss: 1.149\n",
      "[Epoch 4, Batch 100] loss: 0.118\n",
      "[Epoch 4, Batch 200] loss: 0.232\n",
      "[Epoch 4, Batch 300] loss: 0.329\n",
      "[Epoch 4, Batch 400] loss: 0.425\n",
      "[Epoch 4, Batch 500] loss: 0.524\n",
      "[Epoch 4, Batch 600] loss: 0.621\n",
      "[Epoch 4, Batch 700] loss: 0.717\n",
      "[Epoch 4, Batch 800] loss: 0.818\n",
      "[Epoch 4, Batch 900] loss: 0.915\n",
      "[Epoch 5, Batch 100] loss: 0.078\n",
      "[Epoch 5, Batch 200] loss: 0.165\n",
      "[Epoch 5, Batch 300] loss: 0.255\n",
      "[Epoch 5, Batch 400] loss: 0.337\n",
      "[Epoch 5, Batch 500] loss: 0.429\n",
      "[Epoch 5, Batch 600] loss: 0.519\n",
      "[Epoch 5, Batch 700] loss: 0.606\n",
      "[Epoch 5, Batch 800] loss: 0.690\n",
      "[Epoch 5, Batch 900] loss: 0.769\n",
      "[Epoch 6, Batch 100] loss: 0.068\n",
      "[Epoch 6, Batch 200] loss: 0.130\n",
      "[Epoch 6, Batch 300] loss: 0.205\n",
      "[Epoch 6, Batch 400] loss: 0.275\n",
      "[Epoch 6, Batch 500] loss: 0.348\n",
      "[Epoch 6, Batch 600] loss: 0.418\n",
      "[Epoch 6, Batch 700] loss: 0.494\n",
      "[Epoch 6, Batch 800] loss: 0.578\n",
      "[Epoch 6, Batch 900] loss: 0.646\n",
      "[Epoch 7, Batch 100] loss: 0.060\n",
      "[Epoch 7, Batch 200] loss: 0.127\n",
      "[Epoch 7, Batch 300] loss: 0.192\n",
      "[Epoch 7, Batch 400] loss: 0.255\n",
      "[Epoch 7, Batch 500] loss: 0.313\n",
      "[Epoch 7, Batch 600] loss: 0.378\n",
      "[Epoch 7, Batch 700] loss: 0.453\n",
      "[Epoch 7, Batch 800] loss: 0.515\n",
      "[Epoch 7, Batch 900] loss: 0.578\n",
      "[Epoch 8, Batch 100] loss: 0.050\n",
      "[Epoch 8, Batch 200] loss: 0.103\n",
      "[Epoch 8, Batch 300] loss: 0.149\n",
      "[Epoch 8, Batch 400] loss: 0.207\n",
      "[Epoch 8, Batch 500] loss: 0.270\n",
      "[Epoch 8, Batch 600] loss: 0.321\n",
      "[Epoch 8, Batch 700] loss: 0.378\n",
      "[Epoch 8, Batch 800] loss: 0.432\n",
      "[Epoch 8, Batch 900] loss: 0.484\n",
      "[Epoch 9, Batch 100] loss: 0.047\n",
      "[Epoch 9, Batch 200] loss: 0.098\n",
      "[Epoch 9, Batch 300] loss: 0.147\n",
      "[Epoch 9, Batch 400] loss: 0.191\n",
      "[Epoch 9, Batch 500] loss: 0.244\n",
      "[Epoch 9, Batch 600] loss: 0.291\n",
      "[Epoch 9, Batch 700] loss: 0.348\n",
      "[Epoch 9, Batch 800] loss: 0.403\n",
      "[Epoch 9, Batch 900] loss: 0.449\n",
      "[Epoch 10, Batch 100] loss: 0.037\n",
      "[Epoch 10, Batch 200] loss: 0.073\n",
      "[Epoch 10, Batch 300] loss: 0.110\n",
      "[Epoch 10, Batch 400] loss: 0.147\n",
      "[Epoch 10, Batch 500] loss: 0.184\n",
      "[Epoch 10, Batch 600] loss: 0.233\n",
      "[Epoch 10, Batch 700] loss: 0.286\n",
      "[Epoch 10, Batch 800] loss: 0.333\n",
      "[Epoch 10, Batch 900] loss: 0.384\n",
      "Finished Training\n"
     ]
    }
   ],
   "source": [
    "#모델 학습\n",
    "for epoch in range(10):\n",
    "    running_loss = 0.0\n",
    "    for i, data in enumerate(trainloader, 0):\n",
    "        inputs, labels = data\n",
    "\n",
    "        #기울기 초기화\n",
    "        optimizer.zero_grad()\n",
    "\n",
    "        #순전파 + 역전파 + 최적화\n",
    "        outputs = model(inputs)\n",
    "        loss = criterion(outputs, labels)\n",
    "        loss.backward()\n",
    "        optimizer.step()\n",
    "\n",
    "        #손실 출력\n",
    "        running_loss += loss.item()\n",
    "        if i % 100 == 99:\n",
    "            print(f'[Epoch {epoch + 1}, Batch {i+1}] loss: {running_loss / 100:.3f}')\n",
    "\n",
    "print('Finished Training')"
   ]
  },
  {
   "cell_type": "code",
   "execution_count": 12,
   "id": "bc526e40-6696-497d-a758-70a69c559c68",
   "metadata": {},
   "outputs": [
    {
     "name": "stdout",
     "output_type": "stream",
     "text": [
      "Accuracyy of the network on the 10000 test images: 97.47%\n"
     ]
    }
   ],
   "source": [
    "#모델 평가\n",
    "correct = 0\n",
    "total = 0\n",
    "with torch.no_grad():\n",
    "    for data in testloader:\n",
    "        images, labels = data\n",
    "        outputs = model(images)\n",
    "        _, predicted = torch.max(outputs.data, 1)\n",
    "        total += labels.size(0)\n",
    "        correct += (predicted == labels).sum().item()\n",
    "\n",
    "print(f'Accuracyy of the network on the 10000 test images: {100 * correct / total:.2f}%')"
   ]
  },
  {
   "cell_type": "code",
   "execution_count": null,
   "id": "92ded830-fcdc-4d76-8748-e199e8cea5f5",
   "metadata": {},
   "outputs": [],
   "source": []
  },
  {
   "cell_type": "code",
   "execution_count": 13,
   "id": "7874eb01-6f85-4569-998e-6ce12afc3a1b",
   "metadata": {},
   "outputs": [],
   "source": [
    "#따라해봐도 뭔 소리를 하는 건지 도무지 모르겠다.."
   ]
  },
  {
   "cell_type": "code",
   "execution_count": null,
   "id": "92fa24f5-4a41-4c3e-b23f-5657733b4b22",
   "metadata": {},
   "outputs": [],
   "source": []
  }
 ],
 "metadata": {
  "kernelspec": {
   "display_name": "Python (DL_learn)",
   "language": "python",
   "name": "dl_learn"
  },
  "language_info": {
   "codemirror_mode": {
    "name": "ipython",
    "version": 3
   },
   "file_extension": ".py",
   "mimetype": "text/x-python",
   "name": "python",
   "nbconvert_exporter": "python",
   "pygments_lexer": "ipython3",
   "version": "3.12.7"
  }
 },
 "nbformat": 4,
 "nbformat_minor": 5
}
