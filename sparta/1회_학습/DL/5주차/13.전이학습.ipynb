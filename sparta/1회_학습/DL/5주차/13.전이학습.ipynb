{
 "cells": [
  {
   "cell_type": "code",
   "execution_count": 1,
   "id": "67f86186-fa9d-4b26-bb83-289abc0ac23c",
   "metadata": {},
   "outputs": [],
   "source": [
    "#13. 전이학습"
   ]
  },
  {
   "cell_type": "code",
   "execution_count": 2,
   "id": "be409252-0589-4ea0-81fa-fb9f6c605276",
   "metadata": {},
   "outputs": [],
   "source": [
    "#전이학습\n",
    "#이미 학습된 모델의 지식을 새로운 문제에 적응하는 방법\n",
    "# 특히 데이터가 부족한 상황에서 유용하며, 모델 학습 시간을 단축하고 성능을 향상시킬 수 있음."
   ]
  },
  {
   "cell_type": "code",
   "execution_count": 3,
   "id": "a29022a2-0a59-4551-8b91-87e6471eb1b0",
   "metadata": {},
   "outputs": [],
   "source": [
    "#전이학습의 필요성\n",
    "# 데이터 부족: 새로운 문제에 대한 데이터가 충분하지 않을 때, 전이 학습을 통해 기존 모델의 지식을 활용할 수 있음.\n",
    "# 학습 시간 단축: 사전 학습된 모델 사용 시, 처음부터 모델을 학습하는 것보다 빠르게 학습할 수 있음.\n",
    "# 성능 향상: 사전 학습된 모델은 대규모 데이터셋에서 학습되었기 때문에, 통상 더 나은 성능을 보임."
   ]
  },
  {
   "cell_type": "code",
   "execution_count": 4,
   "id": "4dd927c8-7a2c-4125-a665-11ecefd18105",
   "metadata": {},
   "outputs": [],
   "source": [
    "#전이 학습의 원리\n",
    "# 특정 추출기: 사전 학습된 모델의 초기 층을 고정하고, 새로운 데이터에 맞게 마지막 층만 재학습\n",
    "# 미세 조정: 사전 학습된 모델 전체를 새로운 데이터에 맞게 재학습"
   ]
  },
  {
   "cell_type": "code",
   "execution_count": null,
   "id": "229882b7-1703-46ff-81ff-0bd0c265db61",
   "metadata": {},
   "outputs": [],
   "source": []
  },
  {
   "cell_type": "code",
   "execution_count": null,
   "id": "18a0653d-ef26-4963-9309-ace41eee0edc",
   "metadata": {},
   "outputs": [],
   "source": [
    "#전이학습을 적용한 모델 구축 과정\n",
    "# 사전 학습된 모델 로드\n",
    "# - Pytorch에서 제공하는 사전 학습된 모델을 로드\n",
    "# - ResNet, VGG, Inception 등의 모델을 사용할 수 있음.\n",
    "\n",
    "# 모델 수정\n",
    "# - 사전 학습된 모델의 마지막 층을 새로운 문제에 맞게 수정\n",
    "# - 이미지 분류 문제에서 클래스 수를 변경...\n",
    "\n",
    "# 모델 학습\n",
    "# - 수정된 모델을 새로운 데이터에 맞게 학습시킴\n",
    "# - 특징 추출기 방식이나 미세 조정 방식을 사용할 수 있음."
   ]
  }
 ],
 "metadata": {
  "kernelspec": {
   "display_name": "Python (DL_learn)",
   "language": "python",
   "name": "dl_learn"
  },
  "language_info": {
   "codemirror_mode": {
    "name": "ipython",
    "version": 3
   },
   "file_extension": ".py",
   "mimetype": "text/x-python",
   "name": "python",
   "nbconvert_exporter": "python",
   "pygments_lexer": "ipython3",
   "version": "3.12.7"
  }
 },
 "nbformat": 4,
 "nbformat_minor": 5
}
