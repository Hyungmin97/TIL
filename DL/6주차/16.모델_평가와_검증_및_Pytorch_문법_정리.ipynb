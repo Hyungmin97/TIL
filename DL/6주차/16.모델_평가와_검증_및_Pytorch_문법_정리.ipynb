{
 "cells": [
  {
   "cell_type": "code",
   "execution_count": 1,
   "id": "48c1cb39-6424-4e57-b246-808e32534643",
   "metadata": {},
   "outputs": [],
   "source": [
    "#16. 모델 평가와 검증 및 Pytorch 문법 정리"
   ]
  },
  {
   "cell_type": "code",
   "execution_count": 2,
   "id": "5e9d5c53-4c2b-458a-99c5-593a56c954a9",
   "metadata": {},
   "outputs": [],
   "source": [
    "#교차 검증\n",
    "#모델의 일반화 성능을 평가하기 위해 데이터를 여러 번 나누어 학습과 검증을 반복하는 방법\n",
    "#모델이 과적합(Overfitting)되지 않고, 새로운 데이터에 대해 잘 일반화 되는 지 평가하는 데 유용"
   ]
  },
  {
   "cell_type": "code",
   "execution_count": 3,
   "id": "65d56186-1367-4cbe-a7eb-46226dc523b2",
   "metadata": {},
   "outputs": [],
   "source": [
    "#교차검증의 필요성\n",
    "\n",
    "#과적합 방지: 교차 검증은 모델이 특정 데이터셋에 과적합되지 않도록 도와줌\n",
    "#일반화 성능 평가: 교차 검증은 모델의 일반화 성능을 더 정확하게 평가할 수 있음\n",
    "#데이터 효율성: 교차 검증은 데이터를 최대한 활용하여 모델을 평가할 수 있음"
   ]
  },
  {
   "cell_type": "code",
   "execution_count": null,
   "id": "ab199f10-ef81-4d86-8129-d2c29b3b55b2",
   "metadata": {},
   "outputs": [],
   "source": [
    "#K-Fold 교차 검증\n",
    "#데이터를 K개의 폴드로 나눔\n",
    "#각 폴드가 한 번씩 검증 데이터로 사용되며, 나머지 K-1개의 폴드는 학습 데이터로 사용됨\n",
    "#K번의 학습과 검증을 반복하여, 각 폴드에 대한 검증 결과를 평균하여 모델의 성능을 ㅍㅇ가\n",
    "\n",
    "# 적용 방법\n",
    "# 데이터를 K개의 폴드로 나누고, 각 폴드에 대해 학습과 검증을 수행\n",
    "# 각 폴드에 대한 검증 결과를 저장하고, 최종적으로 평균하여 모델의 성능을 평가"
   ]
  },
  {
   "cell_type": "code",
   "execution_count": null,
   "id": "58b1fc7c-87da-4a42-bc07-2e7584c35ea4",
   "metadata": {},
   "outputs": [],
   "source": []
  },
  {
   "cell_type": "code",
   "execution_count": 1,
   "id": "f5941d2a-cdf1-4c2a-98ce-bf379531d289",
   "metadata": {},
   "outputs": [],
   "source": [
    "#Pytorch 문법 정리"
   ]
  },
  {
   "cell_type": "code",
   "execution_count": null,
   "id": "a916cbf1-35ad-4395-bac7-38fa4a4fafd1",
   "metadata": {},
   "outputs": [],
   "source": []
  }
 ],
 "metadata": {
  "kernelspec": {
   "display_name": "Python (DL_learn)",
   "language": "python",
   "name": "dl_learn"
  },
  "language_info": {
   "codemirror_mode": {
    "name": "ipython",
    "version": 3
   },
   "file_extension": ".py",
   "mimetype": "text/x-python",
   "name": "python",
   "nbconvert_exporter": "python",
   "pygments_lexer": "ipython3",
   "version": "3.12.7"
  }
 },
 "nbformat": 4,
 "nbformat_minor": 5
}
