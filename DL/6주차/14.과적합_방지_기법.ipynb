{
 "cells": [
  {
   "cell_type": "code",
   "execution_count": 1,
   "id": "4f41d4a0-82f2-474f-9dba-fd614e843606",
   "metadata": {},
   "outputs": [],
   "source": [
    "#과적합 방지 기법"
   ]
  },
  {
   "cell_type": "code",
   "execution_count": 2,
   "id": "a6b77497-6b2d-487e-b337-6aed94284547",
   "metadata": {},
   "outputs": [],
   "source": [
    "# 정규화\n",
    "# 입력 데이터의 분포를 일정한 범위로 조정하여, 모델의 학습을 안정화하고 성능을 향상시키는 기법\n",
    "\n",
    "#배치 정규화\n",
    "#각 미니배치의 평균과 분산을 사용하여 정규화.\n",
    "# 이는 학습 속도를 높이고, 과적합을 방지하는 데 도움.\n",
    "\n",
    "#레이어 정규화\n",
    "# 각 레이어의 뉴런 출력을 정규화"
   ]
  },
  {
   "cell_type": "code",
   "execution_count": 3,
   "id": "f8e26120-a9a8-49ea-b9a4-b49304c30cc2",
   "metadata": {},
   "outputs": [],
   "source": [
    "#드롭 아웃\n",
    "# 학습 과정에서 무작위로 뉴런을 비활성화하여, 모델의 과적합을 방지하는 기법\n",
    "# 학습 시에만 적용되며, 평가 시에는 모든 뉴런을 활성화"
   ]
  },
  {
   "cell_type": "code",
   "execution_count": null,
   "id": "8ddaa405-05e9-48f6-ac43-546f2b428709",
   "metadata": {},
   "outputs": [],
   "source": []
  },
  {
   "cell_type": "code",
   "execution_count": 4,
   "id": "0a180391-c363-4db7-a63a-86efaaa10f50",
   "metadata": {},
   "outputs": [],
   "source": [
    "#조기 종료와 데이터 증강"
   ]
  },
  {
   "cell_type": "code",
   "execution_count": 5,
   "id": "415fcff6-e875-4e2d-ba5b-20116be31474",
   "metadata": {},
   "outputs": [],
   "source": [
    "#조기 종료 기법\n",
    "#조기 종료는 검증 데이터의 성능이 더 이상 향상되지 않을 때, 학습을 중단하여, 과적합을 방지하는 기법.\n",
    "# 학습 과정에서 검증 손실이 일정 에포크 동안 감소하지 않으면 학습을 중단"
   ]
  },
  {
   "cell_type": "code",
   "execution_count": 6,
   "id": "931d17d4-6495-4507-b905-8156710300f5",
   "metadata": {},
   "outputs": [],
   "source": [
    "#데이터 증강 기법\n",
    "# 데이터 증강은 원본 데이터를 변형하여 새로운 데이터를 생성함으로써, 데이터셋을 확장하고 모델의 일반화 성능을 향상시키는 기법\n",
    "# 데이터 증강 기법에는 회전, 이동, 크기 조절, 색상 변환 등이 있음."
   ]
  },
  {
   "cell_type": "code",
   "execution_count": null,
   "id": "27f1e67f-95a1-42c1-bfe1-aa08c7613d46",
   "metadata": {},
   "outputs": [],
   "source": []
  }
 ],
 "metadata": {
  "kernelspec": {
   "display_name": "Python (DL_learn)",
   "language": "python",
   "name": "dl_learn"
  },
  "language_info": {
   "codemirror_mode": {
    "name": "ipython",
    "version": 3
   },
   "file_extension": ".py",
   "mimetype": "text/x-python",
   "name": "python",
   "nbconvert_exporter": "python",
   "pygments_lexer": "ipython3",
   "version": "3.12.7"
  }
 },
 "nbformat": 4,
 "nbformat_minor": 5
}
