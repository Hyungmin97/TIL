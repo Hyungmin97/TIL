{
 "cells": [
  {
   "cell_type": "code",
   "execution_count": 1,
   "id": "be158b2e-3a9f-4e41-b875-fe808746fc57",
   "metadata": {},
   "outputs": [],
   "source": [
    "#1. 딥러닝 개념을 잡아봅시다!"
   ]
  },
  {
   "cell_type": "code",
   "execution_count": null,
   "id": "36c304af-e37c-4d4d-b174-665dcce12e05",
   "metadata": {},
   "outputs": [],
   "source": []
  }
 ],
 "metadata": {
  "kernelspec": {
   "display_name": "Python (sparta)",
   "language": "python",
   "name": "sparta"
  },
  "language_info": {
   "codemirror_mode": {
    "name": "ipython",
    "version": 3
   },
   "file_extension": ".py",
   "mimetype": "text/x-python",
   "name": "python",
   "nbconvert_exporter": "python",
   "pygments_lexer": "ipython3",
   "version": "3.12.7"
  }
 },
 "nbformat": 4,
 "nbformat_minor": 5
}
