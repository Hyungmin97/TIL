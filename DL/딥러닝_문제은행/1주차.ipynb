{
 "cells": [
  {
   "cell_type": "markdown",
   "metadata": {},
   "source": [
    "# 1주차 딥러닝 OX 퀴즈\n",
    "\n",
    "### **OX 퀴즈 시간!**\n",
    "\n",
    "> 1주차에서 배운 내용을 토대로 문제를 풀어보세요 😉\n",
    "> \n",
    "\n",
    "### 딥러닝 개념 OX 퀴즈\n",
    "\n",
    "1. **딥러닝은 머신러닝의 하위 분야이다.**\n",
    "    \n",
    "    O\n",
    "    \n",
    "2. **뉴럴 네트워크에서 노드(Node)는 뉴런(Neuron)이라고도 불린다.**\n",
    "    \n",
    "    O / X\n",
    "    \n",
    "3. **딥러닝 모델은 항상 많은 양의 데이터를 필요로 한다.**\n",
    "    \n",
    "    O\n",
    "    \n",
    "4. **CNN(Convolutional Neural Network)은 주로 자연어 처리에 사용된다.**\n",
    "    \n",
    "    O / X\n",
    "    \n",
    "5. **RNN(Recurrent Neural Network)은 순환 신경망으로, 시계열 데이터에 적합하다.**\n",
    "    \n",
    "    O / X\n",
    "    \n",
    "6. **딥러닝에서는 활성화 함수(Activation Function)를 사용하여 비선형성을 모델에 도입한다.**\n",
    "    \n",
    "    O / X\n",
    "    \n",
    "7. **드롭아웃(Dropout)은 과적합을 방지하기 위해 뉴런의 일부를 임의로 제거하는 기술이다.**\n",
    "    \n",
    "    O / X\n",
    "    \n",
    "8. **백프로파게이션(Backpropagation)은 딥러닝에서 가중치를 업데이트하는 알고리즘이다.**\n",
    "    \n",
    "    O / X\n",
    "    \n",
    "9. **텐서플로우(TensorFlow)와 파이토치(PyTorch)는 딥러닝 프레임워크로, 모델을 구축하고 훈련하는 데 사용된다.**\n",
    "    \n",
    "    O / X\n",
    "    \n",
    "10. **과적합(Overfitting)은 모델이 훈련 데이터에 너무 적응하여 새로운 데이터에 대한 일반화 능력이 떨어지는 현상이다.**\n",
    "    \n",
    "    O / X\n",
    "    \n",
    "\n",
    "### **숙제 정보**\n",
    "\n",
    "■ 난이도 : 🟢하\n",
    "\n",
    "■ 실습 범위 : 1주차"
   ]
  },
  {
   "cell_type": "markdown",
   "metadata": {},
   "source": []
  }
 ],
 "metadata": {
  "language_info": {
   "name": "python"
  }
 },
 "nbformat": 4,
 "nbformat_minor": 2
}
