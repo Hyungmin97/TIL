{
 "cells": [
  {
   "cell_type": "code",
   "execution_count": 1,
   "id": "05ff5b1f-d83d-435a-a854-8a623eabe732",
   "metadata": {},
   "outputs": [],
   "source": [
    "#6. 순환 신경망(RNN)"
   ]
  },
  {
   "cell_type": "code",
   "execution_count": null,
   "id": "6e60ccdf-4120-442d-b549-f1d9c9eb171e",
   "metadata": {},
   "outputs": [],
   "source": []
  }
 ],
 "metadata": {
  "kernelspec": {
   "display_name": "Python (DL_learn)",
   "language": "python",
   "name": "dl_learn"
  },
  "language_info": {
   "codemirror_mode": {
    "name": "ipython",
    "version": 3
   },
   "file_extension": ".py",
   "mimetype": "text/x-python",
   "name": "python",
   "nbconvert_exporter": "python",
   "pygments_lexer": "ipython3",
   "version": "3.12.7"
  }
 },
 "nbformat": 4,
 "nbformat_minor": 5
}
