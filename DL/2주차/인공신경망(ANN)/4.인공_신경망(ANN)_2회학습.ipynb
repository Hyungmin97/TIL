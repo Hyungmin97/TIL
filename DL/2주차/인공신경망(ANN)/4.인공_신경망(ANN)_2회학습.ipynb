{
 "cells": [
  {
   "cell_type": "code",
   "execution_count": 1,
   "id": "63a9377e-25bf-4c5f-b849-574dfa4a6bd7",
   "metadata": {},
   "outputs": [],
   "source": [
    "#핵심 라이브러리 임포트"
   ]
  },
  {
   "cell_type": "code",
   "execution_count": 2,
   "id": "6a0f9010-839b-41b9-9408-a22df8077686",
   "metadata": {},
   "outputs": [],
   "source": [
    "import torch #PyTorch의 핵심 라이브러리로, 텐서 연산, 자동 미분, 신경망 등을 다룹니다.\n",
    "import torch.nn as nn #신경망을 구성하는데 필요한 다양한 모듈을 제공하는 라이브러리입니다. 여기서는 신경망 계층과 활성화 함수 등을 사용합니다.\n",
    "import torch.optim as optim #모델을 학습시키기 위한 최적화 알고리즘을 포함하고 있습니다.\n",
    "import torchvision #이미지 처리 및 컴퓨터 비전과 관련된 도구와 데이터셋을 제공합니다.\n",
    "import torchvision.transforms as transforms #이미지 데이터에 대한 전처리(transformations)를 도와주는 모듈입니다. 여기서는 이미지를 텐서(tensor)로 변환하고, 정규화하는 작업에 사용됩니다."
   ]
  },
  {
   "cell_type": "code",
   "execution_count": 3,
   "id": "7d55b846-5850-46e0-90f2-feefbf56fc01",
   "metadata": {},
   "outputs": [],
   "source": [
    "#데이터셋 로드 및 전처리\n",
    "transform = transforms.Compose([ \n",
    "    transforms.ToTensor(),\n",
    "    transforms.Normalize((0.5,), (0.5,))\n",
    "])\n",
    "#transforms.Compose: 여러 전처리 작업을 순차적으로 적용할 수 있도록 묶어주는 역할을 합니다.\n",
    "#ToTensor(): 이미지를 PyTorch 텐서(tensor)로 변환합니다. 텐서는 PyTorch에서 데이터를 다루는 기본 단위입니다.\n",
    "#Normalize((0.5,), (0.5,)): 데이터를 평균 0.5, 표준편차 0.5로 정규화(normalization)합니다. 이는 모델이 각 픽셀 값을 더 쉽게 학습하도록 돕습니다."
   ]
  },
  {
   "cell_type": "code",
   "execution_count": 4,
   "id": "df03fafc-e7c1-44e4-aeaa-bb86692a77dc",
   "metadata": {},
   "outputs": [],
   "source": [
    "# MNIST 데이터셋 로드\n",
    "trainset = torchvision.datasets.MNIST(root='./data', train=True, download=True, transform=transform)\n",
    "trainloader = torch.utils.data.DataLoader(trainset, batch_size=64, shuffle=True)\n",
    "\n",
    "testset = torchvision.datasets.MNIST(root='./data', train=False, download=True, transform=transform)\n",
    "testloader = torch.utils.data.DataLoader(testset, batch_size=64, shuffle=False)\n",
    "\n",
    "#datasets.MNIST: MNIST 데이터셋을 가져옵니다. train=True는 학습용 데이터를 가져온다는 의미이며, download=True는 데이터셋이 없을 경우 자동으로 다운로드하게 합니다.\n",
    "#DataLoader: 데이터를 배치(batch)로 나누어 모델에 입력하고, 무작위로 섞어주는 역할을 합니다. 배치 크기는 64이며, shuffle=True는 학습 데이터의 순서를 무작위로 섞습니다.\n"
   ]
  },
  {
   "cell_type": "code",
   "execution_count": 5,
   "id": "f73928c3-1a9e-42b7-8d73-0b88afae462e",
   "metadata": {},
   "outputs": [],
   "source": [
    "#신경망 모델 정의\n",
    "class SimpleANN(nn.Module):\n",
    "    def __init__(self):\n",
    "        super(SimpleANN, self).__init__()\n",
    "        self.fc1 = nn.Linear(28 * 28, 128)  # 입력층에서 은닉층으로\n",
    "        self.fc2 = nn.Linear(128, 64)       # 은닉층에서 은닉층으로\n",
    "        self.fc3 = nn.Linear(64, 10)        # 은닉층에서 출력층으로\n",
    "\n",
    "    def forward(self, x):\n",
    "        x = x.view(-1, 28 * 28)  # 입력 이미지를 1차원 벡터로 변환\n",
    "        x = torch.relu(self.fc1(x))\n",
    "        x = torch.relu(self.fc2(x))\n",
    "        x = self.fc3(x)\n",
    "        return x\n",
    "\n",
    "#SimpleANN: 이 클래스는 간단한 인공 신경망(ANN)을 정의합니다. fc1, fc2, fc3는 각각의 선형 계층(fully connected layers)을 나타냅니다.\n",
    "#fc1: 28 x 28 크기의 이미지를 펼쳐서 128개의 노드로 보내는 입력 계층입니다.\n",
    "#fc2: 128개의 노드를 받아 64개의 노드로 출력하는 은닉 계층입니다.\n",
    "#fc3: 64개의 노드를 받아 10개의 출력 노드로 변환하는 출력 계층입니다. (MNIST는 10개의 숫자(0~9)를 분류하므로 10개의 출력이 필요합니다.)\n",
    "#forward: 입력 데이터가 신경망을 통과하는 과정(순전파)을 정의합니다. 이미지를 1차원 벡터로 변환한 후, ReLU 활성화 함수를 거쳐 신경망을 통과합니다.\n"
   ]
  },
  {
   "cell_type": "code",
   "execution_count": 6,
   "id": "efdf5f4a-8fba-42f3-8a4c-cd7425c75210",
   "metadata": {},
   "outputs": [
    {
     "name": "stdout",
     "output_type": "stream",
     "text": [
      "Accuracy of the network on the 10000 test images: 6.62%\n"
     ]
    }
   ],
   "source": [
    "#모델 초기화 및 성능 평가(학습 전)\n",
    "model = SimpleANN()\n",
    "\n",
    "correct = 0\n",
    "total = 0\n",
    "with torch.no_grad():\n",
    "    for data in testloader:\n",
    "        images, labels = data\n",
    "        outputs = model(images)\n",
    "        _, predicted = torch.max(outputs.data, 1)\n",
    "        total += labels.size(0)\n",
    "        correct += (predicted == labels).sum().item()\n",
    "\n",
    "print(f'Accuracy of the network on the 10000 test images: {100 * correct / total:.2f}%')\n",
    "\n",
    "#torch.no_grad(): 모델이 학습되지 않도록 하는 구문입니다. 테스트 데이터로 평가할 때는 역전파나 가중치 업데이트가 필요 없으므로 사용됩니다.\n",
    "#torch.max: 신경망이 예측한 결과 중 가장 높은 값을 가진 클래스를 선택합니다.\n",
    "#correct와 total: 정확히 예측한 개수와 전체 데이터를 계산하여, 정확도를 출력합니다.\n"
   ]
  },
  {
   "cell_type": "code",
   "execution_count": 7,
   "id": "a98574dc-1b5e-427c-a893-3614a2656dfe",
   "metadata": {},
   "outputs": [],
   "source": [
    "#손실 함수와 최적화 알고리즘 정의\n",
    "criterion = nn.CrossEntropyLoss()\n",
    "optimizer = optim.SGD(model.parameters(), lr=0.01, momentum=0.9)\n",
    "\n",
    "#CrossEntropyLoss: 분류 문제에서 사용되는 손실 함수입니다. 모델의 출력과 실제 정답의 차이를 계산합니다.\n",
    "#SGD: 확률적 경사 하강법(Stochastic Gradient Descent) 최적화 알고리즘입니다. lr=0.01은 학습률, momentum=0.9은 속도를 높이는 매개변수입니다."
   ]
  },
  {
   "cell_type": "code",
   "execution_count": 8,
   "id": "84fc3890-cad0-41a3-a2fa-6c0f446518d6",
   "metadata": {},
   "outputs": [
    {
     "name": "stdout",
     "output_type": "stream",
     "text": [
      "[Epoch 1, Batch 100] loss: 1.435\n",
      "[Epoch 1, Batch 200] loss: 0.503\n",
      "[Epoch 1, Batch 300] loss: 0.391\n",
      "[Epoch 1, Batch 400] loss: 0.340\n",
      "[Epoch 1, Batch 500] loss: 0.328\n",
      "[Epoch 1, Batch 600] loss: 0.305\n",
      "[Epoch 1, Batch 700] loss: 0.265\n",
      "[Epoch 1, Batch 800] loss: 0.258\n",
      "[Epoch 1, Batch 900] loss: 0.252\n",
      "[Epoch 2, Batch 100] loss: 0.213\n",
      "[Epoch 2, Batch 200] loss: 0.182\n",
      "[Epoch 2, Batch 300] loss: 0.186\n",
      "[Epoch 2, Batch 400] loss: 0.187\n",
      "[Epoch 2, Batch 500] loss: 0.183\n",
      "[Epoch 2, Batch 600] loss: 0.182\n",
      "[Epoch 2, Batch 700] loss: 0.171\n",
      "[Epoch 2, Batch 800] loss: 0.154\n",
      "[Epoch 2, Batch 900] loss: 0.172\n",
      "[Epoch 3, Batch 100] loss: 0.136\n",
      "[Epoch 3, Batch 200] loss: 0.145\n",
      "[Epoch 3, Batch 300] loss: 0.124\n",
      "[Epoch 3, Batch 400] loss: 0.145\n",
      "[Epoch 3, Batch 500] loss: 0.134\n",
      "[Epoch 3, Batch 600] loss: 0.145\n",
      "[Epoch 3, Batch 700] loss: 0.136\n",
      "[Epoch 3, Batch 800] loss: 0.136\n",
      "[Epoch 3, Batch 900] loss: 0.120\n",
      "[Epoch 4, Batch 100] loss: 0.110\n",
      "[Epoch 4, Batch 200] loss: 0.109\n",
      "[Epoch 4, Batch 300] loss: 0.111\n",
      "[Epoch 4, Batch 400] loss: 0.112\n",
      "[Epoch 4, Batch 500] loss: 0.121\n",
      "[Epoch 4, Batch 600] loss: 0.099\n",
      "[Epoch 4, Batch 700] loss: 0.105\n",
      "[Epoch 4, Batch 800] loss: 0.107\n",
      "[Epoch 4, Batch 900] loss: 0.105\n",
      "[Epoch 5, Batch 100] loss: 0.088\n",
      "[Epoch 5, Batch 200] loss: 0.107\n",
      "[Epoch 5, Batch 300] loss: 0.088\n",
      "[Epoch 5, Batch 400] loss: 0.094\n",
      "[Epoch 5, Batch 500] loss: 0.086\n",
      "[Epoch 5, Batch 600] loss: 0.090\n",
      "[Epoch 5, Batch 700] loss: 0.093\n",
      "[Epoch 5, Batch 800] loss: 0.084\n",
      "[Epoch 5, Batch 900] loss: 0.090\n",
      "[Epoch 6, Batch 100] loss: 0.082\n",
      "[Epoch 6, Batch 200] loss: 0.075\n",
      "[Epoch 6, Batch 300] loss: 0.075\n",
      "[Epoch 6, Batch 400] loss: 0.070\n",
      "[Epoch 6, Batch 500] loss: 0.074\n",
      "[Epoch 6, Batch 600] loss: 0.083\n",
      "[Epoch 6, Batch 700] loss: 0.079\n",
      "[Epoch 6, Batch 800] loss: 0.065\n",
      "[Epoch 6, Batch 900] loss: 0.088\n",
      "[Epoch 7, Batch 100] loss: 0.057\n",
      "[Epoch 7, Batch 200] loss: 0.070\n",
      "[Epoch 7, Batch 300] loss: 0.069\n",
      "[Epoch 7, Batch 400] loss: 0.065\n",
      "[Epoch 7, Batch 500] loss: 0.073\n",
      "[Epoch 7, Batch 600] loss: 0.060\n",
      "[Epoch 7, Batch 700] loss: 0.069\n",
      "[Epoch 7, Batch 800] loss: 0.078\n",
      "[Epoch 7, Batch 900] loss: 0.068\n",
      "[Epoch 8, Batch 100] loss: 0.055\n",
      "[Epoch 8, Batch 200] loss: 0.066\n",
      "[Epoch 8, Batch 300] loss: 0.053\n",
      "[Epoch 8, Batch 400] loss: 0.056\n",
      "[Epoch 8, Batch 500] loss: 0.056\n",
      "[Epoch 8, Batch 600] loss: 0.068\n",
      "[Epoch 8, Batch 700] loss: 0.058\n",
      "[Epoch 8, Batch 800] loss: 0.062\n",
      "[Epoch 8, Batch 900] loss: 0.062\n",
      "[Epoch 9, Batch 100] loss: 0.057\n",
      "[Epoch 9, Batch 200] loss: 0.054\n",
      "[Epoch 9, Batch 300] loss: 0.050\n",
      "[Epoch 9, Batch 400] loss: 0.052\n",
      "[Epoch 9, Batch 500] loss: 0.061\n",
      "[Epoch 9, Batch 600] loss: 0.051\n",
      "[Epoch 9, Batch 700] loss: 0.048\n",
      "[Epoch 9, Batch 800] loss: 0.057\n",
      "[Epoch 9, Batch 900] loss: 0.055\n",
      "[Epoch 10, Batch 100] loss: 0.054\n",
      "[Epoch 10, Batch 200] loss: 0.033\n",
      "[Epoch 10, Batch 300] loss: 0.048\n",
      "[Epoch 10, Batch 400] loss: 0.049\n",
      "[Epoch 10, Batch 500] loss: 0.048\n",
      "[Epoch 10, Batch 600] loss: 0.055\n",
      "[Epoch 10, Batch 700] loss: 0.051\n",
      "[Epoch 10, Batch 800] loss: 0.045\n",
      "[Epoch 10, Batch 900] loss: 0.048\n",
      "Finished Training\n"
     ]
    }
   ],
   "source": [
    "#모델 학습\n",
    "for epoch in range(10):\n",
    "    running_loss = 0.0\n",
    "    for i, data in enumerate(trainloader, 0):\n",
    "        inputs, labels = data\n",
    "        optimizer.zero_grad()\n",
    "        outputs = model(inputs)\n",
    "        loss = criterion(outputs, labels)\n",
    "        loss.backward()\n",
    "        optimizer.step()\n",
    "\n",
    "        running_loss += loss.item()\n",
    "        if i % 100 == 99:\n",
    "            print(f'[Epoch {epoch + 1}, Batch {i + 1}] loss: {running_loss / 100:.3f}')\n",
    "            running_loss = 0.0\n",
    "print('Finished Training')\n",
    "#epoch: 전체 데이터셋을 한 번 학습하는 것을 1 에포크라고 하며, 여기서는 10 에포크 동안 학습합니다.\n",
    "#optimizer.zero_grad(): 이전 학습에서 계산된 기울기를 초기화합니다.\n",
    "#loss.backward(): 역전파를 통해 기울기를 계산합니다.\n",
    "#optimizer.step(): 계산된 기울기를 기반으로 가중치를 업데이트합니다.\n",
    "#running_loss: 배치마다 손실을 기록하여 출력합니다."
   ]
  },
  {
   "cell_type": "code",
   "execution_count": 9,
   "id": "88410105-2f87-47b6-9d71-db472d94f2de",
   "metadata": {},
   "outputs": [
    {
     "name": "stdout",
     "output_type": "stream",
     "text": [
      "Accuracy of the network on the 10000 test images: 97.47%\n"
     ]
    }
   ],
   "source": [
    "#최종 모델 평가\n",
    "correct = 0\n",
    "total = 0\n",
    "with torch.no_grad():\n",
    "    for data in testloader:\n",
    "        images, labels = data\n",
    "        outputs = model(images)\n",
    "        _, predicted = torch.max(outputs.data, 1)\n",
    "        total += labels.size(0)\n",
    "        correct += (predicted == labels).sum().item()\n",
    "\n",
    "print(f'Accuracy of the network on the 10000 test images: {100 * correct / total:.2f}%')"
   ]
  },
  {
   "cell_type": "code",
   "execution_count": null,
   "id": "e736e22b-c13a-44d1-ac0b-e62b0b15e15c",
   "metadata": {},
   "outputs": [],
   "source": []
  }
 ],
 "metadata": {
  "kernelspec": {
   "display_name": "Python (DL_learn)",
   "language": "python",
   "name": "dl_learn"
  },
  "language_info": {
   "codemirror_mode": {
    "name": "ipython",
    "version": 3
   },
   "file_extension": ".py",
   "mimetype": "text/x-python",
   "name": "python",
   "nbconvert_exporter": "python",
   "pygments_lexer": "ipython3",
   "version": "3.12.7"
  }
 },
 "nbformat": 4,
 "nbformat_minor": 5
}
