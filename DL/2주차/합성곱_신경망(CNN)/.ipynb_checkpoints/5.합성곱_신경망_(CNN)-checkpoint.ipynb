{
 "cells": [
  {
   "cell_type": "code",
   "execution_count": 1,
   "id": "499e6909-36c0-45a6-979b-f2039cf6f36e",
   "metadata": {},
   "outputs": [],
   "source": [
    "#5. 합성곱 신경망 (CNN)"
   ]
  },
  {
   "cell_type": "code",
   "execution_count": null,
   "id": "5bd6e7d0-6541-4052-93db-73b09674baf3",
   "metadata": {},
   "outputs": [],
   "source": []
  }
 ],
 "metadata": {
  "kernelspec": {
   "display_name": "Python (DL_learn)",
   "language": "python",
   "name": "dl_learn"
  },
  "language_info": {
   "codemirror_mode": {
    "name": "ipython",
    "version": 3
   },
   "file_extension": ".py",
   "mimetype": "text/x-python",
   "name": "python",
   "nbconvert_exporter": "python",
   "pygments_lexer": "ipython3",
   "version": "3.12.7"
  }
 },
 "nbformat": 4,
 "nbformat_minor": 5
}
