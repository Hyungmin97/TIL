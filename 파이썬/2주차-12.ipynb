{
 "cells": [
  {
   "cell_type": "code",
   "execution_count": 1,
   "id": "768f7d06-81e5-40b5-92f4-e5fc69d6ac97",
   "metadata": {},
   "outputs": [],
   "source": [
    "#함수 만들기"
   ]
  },
  {
   "cell_type": "code",
   "execution_count": 3,
   "id": "574c496d-75fa-4b21-a3f8-52b7f567d75e",
   "metadata": {},
   "outputs": [
    {
     "name": "stdout",
     "output_type": "stream",
     "text": [
      "안녕하세요, Alice님!\n"
     ]
    }
   ],
   "source": [
    "#함수만들기: 기본개념\n",
    "\n",
    "def greet(name):\n",
    "    return f\"안녕하세요, {name}님!\"\n",
    "\n",
    "message = greet(\"Alice\")\n",
    "print(message)"
   ]
  },
  {
   "cell_type": "code",
   "execution_count": null,
   "id": "f4433d7f-bf78-4939-8e34-ba4b5475599b",
   "metadata": {},
   "outputs": [],
   "source": [
    "#이 예시에서는 greet 함수가 name이라는 매개변수를 받아 인사말을 생성하고,\n",
    "#return을 통해 결과를 반환"
   ]
  },
  {
   "cell_type": "code",
   "execution_count": null,
   "id": "79ae2c63-5fed-41ae-88ae-bd444b4b51f3",
   "metadata": {},
   "outputs": [],
   "source": []
  },
  {
   "cell_type": "code",
   "execution_count": 6,
   "id": "4755b32a-ca20-4a9b-900c-44e59bbf375c",
   "metadata": {},
   "outputs": [
    {
     "name": "stdout",
     "output_type": "stream",
     "text": [
      "8\n"
     ]
    }
   ],
   "source": [
    "#매개변수(Parameters)\n",
    "def add(a, b):\n",
    "    return a + b\n",
    "\n",
    "result = add(3,5)\n",
    "print(result)"
   ]
  },
  {
   "cell_type": "code",
   "execution_count": 8,
   "id": "3f0b5cd2-9d33-4fed-a08a-390418fe4b7c",
   "metadata": {},
   "outputs": [
    {
     "name": "stdout",
     "output_type": "stream",
     "text": [
      "24\n"
     ]
    }
   ],
   "source": [
    "#다중 매개변수 예시\n",
    "def multiply(x,y,z):\n",
    "    return x * y * z\n",
    "\n",
    "result = multiply(2,3,4)\n",
    "print(result)"
   ]
  },
  {
   "cell_type": "code",
   "execution_count": 10,
   "id": "194b0e6e-1496-4636-841b-fd80badc985a",
   "metadata": {},
   "outputs": [
    {
     "name": "stdout",
     "output_type": "stream",
     "text": [
      "25\n"
     ]
    }
   ],
   "source": [
    "#반환값(Return Value)\n",
    "def square(n):\n",
    "    return n * n\n",
    "\n",
    "result = square(5)\n",
    "print(result)"
   ]
  },
  {
   "cell_type": "code",
   "execution_count": 20,
   "id": "3bd91316-64a3-4954-9ac8-2e4ec327556b",
   "metadata": {},
   "outputs": [
    {
     "name": "stdout",
     "output_type": "stream",
     "text": [
      "15\n",
      "5\n"
     ]
    }
   ],
   "source": [
    "#복수 반환값 예시\n",
    "def calculate(a,b):\n",
    "    sum = a + b\n",
    "    difference = a - b\n",
    "    return sum, difference\n",
    "\n",
    "s, d = calculate(10, 5)\n",
    "print(s)\n",
    "print(d)"
   ]
  },
  {
   "cell_type": "code",
   "execution_count": 22,
   "id": "092ded26-e026-4ce3-8bfa-dd37a2c51a53",
   "metadata": {},
   "outputs": [
    {
     "name": "stdout",
     "output_type": "stream",
     "text": [
      "Hello!\n",
      "None\n"
     ]
    }
   ],
   "source": [
    "#반환값이 없는 함수 예시\n",
    "def say_hello():\n",
    "    print(\"Hello!\")\n",
    "\n",
    "result = say_hello()\n",
    "print(result)"
   ]
  },
  {
   "cell_type": "code",
   "execution_count": 28,
   "id": "2c893a42-62e2-4ad4-a7b7-98a2434f520a",
   "metadata": {},
   "outputs": [
    {
     "name": "stdout",
     "output_type": "stream",
     "text": [
      "안녕하세요, 손님님!\n",
      "안녕하세요, 형민님!\n"
     ]
    }
   ],
   "source": [
    "#기본값(Default Parameter)\n",
    "#기본값 예시\n",
    "\n",
    "def greet(name = '손님'):\n",
    "    return f\"안녕하세요, {name}님!\"\n",
    "\n",
    "print(greet())\n",
    "print(greet(\"형민\"))"
   ]
  },
  {
   "cell_type": "code",
   "execution_count": 32,
   "id": "2a4eaedd-ded6-4822-8b41-a56992f6f32e",
   "metadata": {},
   "outputs": [
    {
     "name": "stdout",
     "output_type": "stream",
     "text": [
      "핸드폰 12개 주문하셨습니다. 가격은 9600000 입니다.\n"
     ]
    }
   ],
   "source": [
    "def order(item, quantity=1, price=1000):\n",
    "    return f\"{item} {quantity}개 주문하셨습니다. 가격은 {quantity * price} 입니다.\"\n",
    "\n",
    "print(order(\"핸드폰\", 12, 800000))"
   ]
  },
  {
   "cell_type": "code",
   "execution_count": 34,
   "id": "5f31f1a2-80d5-4aaa-8df1-2fd99611a673",
   "metadata": {},
   "outputs": [
    {
     "name": "stdout",
     "output_type": "stream",
     "text": [
      "6\n",
      "100\n"
     ]
    }
   ],
   "source": [
    "#가변매개변수\n",
    "#args 예시\n",
    "def add(*args):\n",
    "    return sum(args)\n",
    "\n",
    "print(add(1,2,3))\n",
    "print(add(10,20,30,40))"
   ]
  },
  {
   "cell_type": "code",
   "execution_count": 38,
   "id": "59cffdd2-5b65-4306-8df4-1cb476c59d7a",
   "metadata": {},
   "outputs": [
    {
     "name": "stdout",
     "output_type": "stream",
     "text": [
      "name: Alice\n",
      "age: 30\n",
      "city: Seoul\n"
     ]
    }
   ],
   "source": [
    "#*kwargs 예시\n",
    "def print_info(**kwargs):\n",
    "    for key, value in kwargs.items():\n",
    "        print(f\"{key}: {value}\")\n",
    "\n",
    "print_info(name=\"Alice\", age = 30, city = \"Seoul\")"
   ]
  },
  {
   "cell_type": "code",
   "execution_count": 40,
   "id": "343282ad-2f83-4738-9aa7-d2424af34a19",
   "metadata": {},
   "outputs": [
    {
     "name": "stdout",
     "output_type": "stream",
     "text": [
      "a: 1, b: 2\n",
      "args: (3, 4, 5)\n",
      "kwargs: {'key1': 'value1', 'key2': 'value2'}\n"
     ]
    }
   ],
   "source": [
    "# args와 *kwargs 함께 사용 예시\n",
    "def mix_parameters(a, b, *args, **kwargs):\n",
    "    print(f\"a: {a}, b: {b}\")\n",
    "    print(\"args:\", args)\n",
    "    print(\"kwargs:\", kwargs)\n",
    "\n",
    "mix_parameters(1,2,3,4,5, key1=\"value1\", key2=\"value2\")"
   ]
  },
  {
   "cell_type": "code",
   "execution_count": null,
   "id": "92b563fa-378a-460f-94de-3df7f74b7b4e",
   "metadata": {},
   "outputs": [],
   "source": []
  }
 ],
 "metadata": {
  "kernelspec": {
   "display_name": "Python 3 (ipykernel)",
   "language": "python",
   "name": "python3"
  },
  "language_info": {
   "codemirror_mode": {
    "name": "ipython",
    "version": 3
   },
   "file_extension": ".py",
   "mimetype": "text/x-python",
   "name": "python",
   "nbconvert_exporter": "python",
   "pygments_lexer": "ipython3",
   "version": "3.12.4"
  }
 },
 "nbformat": 4,
 "nbformat_minor": 5
}
