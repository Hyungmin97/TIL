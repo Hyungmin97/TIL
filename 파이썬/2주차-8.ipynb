{
 "cells": [
  {
   "cell_type": "code",
   "execution_count": 1,
   "id": "bd22ba56-a9dd-4f88-b2a8-39295184519d",
   "metadata": {},
   "outputs": [],
   "source": [
    "#python 반복문"
   ]
  },
  {
   "cell_type": "code",
   "execution_count": 3,
   "id": "cdaa880a-b1a4-4849-b215-bab2a30dde2d",
   "metadata": {},
   "outputs": [
    {
     "name": "stdout",
     "output_type": "stream",
     "text": [
      "apple\n",
      "banana\n",
      "cherry\n"
     ]
    }
   ],
   "source": [
    "#for문 기본 구조 예시\n",
    "fruits = [\"apple\", \"banana\", \"cherry\"]\n",
    "\n",
    "for fruit in fruits:\n",
    "    print(fruit)"
   ]
  },
  {
   "cell_type": "code",
   "execution_count": 5,
   "id": "929e48cc-1d9b-4e10-bfd8-cc8fe84f2a68",
   "metadata": {},
   "outputs": [
    {
     "name": "stdout",
     "output_type": "stream",
     "text": [
      "1의 제곱 값은 1입니다.\n",
      "2의 제곱 값은 4입니다.\n",
      "3의 제곱 값은 9입니다.\n",
      "4의 제곱 값은 16입니다.\n",
      "5의 제곱 값은 25입니다.\n"
     ]
    }
   ],
   "source": [
    "#for 문 실습\n",
    "\n",
    "#숫자 리스트의 각 요소를 제곱한 값을 출력하는 프로그램\n",
    "numbers = [1,2,3,4,5]\n",
    "\n",
    "for number in numbers:\n",
    "    square = number**2\n",
    "    print(f\"{number}의 제곱 값은 {square}입니다.\")"
   ]
  },
  {
   "cell_type": "code",
   "execution_count": null,
   "id": "f6e21793-6a15-4d0f-b061-ca53b35880df",
   "metadata": {},
   "outputs": [],
   "source": []
  },
  {
   "cell_type": "code",
   "execution_count": 12,
   "id": "74a5782d-fa0a-4afc-af03-f4196e51c59c",
   "metadata": {},
   "outputs": [
    {
     "name": "stdout",
     "output_type": "stream",
     "text": [
      "카운트다운: 5\n",
      "카운트다운: 4\n",
      "카운트다운: 3\n",
      "카운트다운: 2\n",
      "카운트다운: 1\n",
      "발사!: \n"
     ]
    }
   ],
   "source": [
    "#while문: 조건 기반 반복\n",
    "\n",
    "count = 5\n",
    "\n",
    "while count > 0:\n",
    "    print(f\"카운트다운: {count}\")\n",
    "    count -= 1\n",
    "\n",
    "print(\"발사!: \")"
   ]
  },
  {
   "cell_type": "code",
   "execution_count": 22,
   "id": "d04f0dee-1633-4f0a-bde9-8633dc621fa0",
   "metadata": {},
   "outputs": [
    {
     "name": "stdin",
     "output_type": "stream",
     "text": [
      "숫자를 입력하세요.(0을 입력하면 프로그램 종료) 1\n"
     ]
    },
    {
     "name": "stdout",
     "output_type": "stream",
     "text": [
      "입력하신 숫자는 1입니다.\n"
     ]
    },
    {
     "name": "stdin",
     "output_type": "stream",
     "text": [
      "다시 숫자를 입력하세요.(0을 입력하면 종료) 0\n"
     ]
    },
    {
     "name": "stdout",
     "output_type": "stream",
     "text": [
      "프로그램을 종료합니다.\n"
     ]
    }
   ],
   "source": [
    "#while문 실습\n",
    "\n",
    "#사용자로부터 숫자를 입력받아, 그 숫자가 0이 될 때까지 반복헤서 입력받는 프로그램\n",
    "number = int(input(\"숫자를 입력하세요.(0을 입력하면 프로그램 종료)\"))\n",
    "\n",
    "while number !=0:\n",
    "    print(f\"입력하신 숫자는 {number}입니다.\")\n",
    "    number = int(input(\"다시 숫자를 입력하세요.(0을 입력하면 종료)\"))\n",
    "print(\"프로그램을 종료합니다.\")"
   ]
  },
  {
   "cell_type": "code",
   "execution_count": 24,
   "id": "26837862-bd59-46e3-92cd-a3da61f8f74c",
   "metadata": {},
   "outputs": [
    {
     "name": "stdout",
     "output_type": "stream",
     "text": [
      "1\n",
      "2\n",
      "3\n",
      "4\n"
     ]
    }
   ],
   "source": [
    "#break 사용 예시\n",
    "for i in range(1, 11):\n",
    "    if i == 5:\n",
    "        break\n",
    "    print(i)"
   ]
  },
  {
   "cell_type": "code",
   "execution_count": 26,
   "id": "dda14b27-e237-478b-b21d-f2dc5289037e",
   "metadata": {},
   "outputs": [
    {
     "name": "stdout",
     "output_type": "stream",
     "text": [
      "1\n",
      "3\n",
      "5\n"
     ]
    }
   ],
   "source": [
    "for i in range(1,6):\n",
    "    if i % 2 == 0:\n",
    "        continue\n",
    "    print(i)"
   ]
  },
  {
   "cell_type": "code",
   "execution_count": 30,
   "id": "817bdd34-490c-414c-bc78-815f4e9bb46e",
   "metadata": {},
   "outputs": [
    {
     "name": "stdin",
     "output_type": "stream",
     "text": [
      "숫자를 입력하세요(음수 입력 시, 프로그램 종료) 1\n"
     ]
    },
    {
     "name": "stdout",
     "output_type": "stream",
     "text": [
      "홀수 입니다\n"
     ]
    },
    {
     "name": "stdin",
     "output_type": "stream",
     "text": [
      "숫자를 입력하세요(음수 입력 시, 프로그램 종료) 2\n"
     ]
    },
    {
     "name": "stdout",
     "output_type": "stream",
     "text": [
      "짝수 입니다.\n"
     ]
    },
    {
     "name": "stdin",
     "output_type": "stream",
     "text": [
      "숫자를 입력하세요(음수 입력 시, 프로그램 종료) 3\n"
     ]
    },
    {
     "name": "stdout",
     "output_type": "stream",
     "text": [
      "홀수 입니다\n"
     ]
    },
    {
     "name": "stdin",
     "output_type": "stream",
     "text": [
      "숫자를 입력하세요(음수 입력 시, 프로그램 종료) 4\n"
     ]
    },
    {
     "name": "stdout",
     "output_type": "stream",
     "text": [
      "짝수 입니다.\n"
     ]
    },
    {
     "name": "stdin",
     "output_type": "stream",
     "text": [
      "숫자를 입력하세요(음수 입력 시, 프로그램 종료) 5\n"
     ]
    },
    {
     "name": "stdout",
     "output_type": "stream",
     "text": [
      "홀수 입니다\n"
     ]
    },
    {
     "name": "stdin",
     "output_type": "stream",
     "text": [
      "숫자를 입력하세요(음수 입력 시, 프로그램 종료) 0\n"
     ]
    },
    {
     "name": "stdout",
     "output_type": "stream",
     "text": [
      "짝수 입니다.\n"
     ]
    },
    {
     "name": "stdin",
     "output_type": "stream",
     "text": [
      "숫자를 입력하세요(음수 입력 시, 프로그램 종료) -1\n"
     ]
    },
    {
     "name": "stdout",
     "output_type": "stream",
     "text": [
      "음수가 입력되어 프로그램이 종료됩니다.\n"
     ]
    }
   ],
   "source": [
    "#사용자로부터 숫자를 입력받아, 음수를 입력할 경우 반복문을 종료하는 프로그램\n",
    "while True:\n",
    "    input_num = int(input(\"숫자를 입력하세요(음수 입력 시, 프로그램 종료)\"))\n",
    "\n",
    "    if input_num < 0:\n",
    "        print(\"음수가 입력되어 프로그램이 종료됩니다.\")\n",
    "        break\n",
    "    elif input_num % 2 == 0:\n",
    "        print(\"짝수 입니다.\")\n",
    "        continue\n",
    "    else:\n",
    "        print(\"홀수 입니다\")"
   ]
  },
  {
   "cell_type": "code",
   "execution_count": 32,
   "id": "8948e9f7-6fe6-4589-b703-1322724c021e",
   "metadata": {},
   "outputs": [
    {
     "name": "stdout",
     "output_type": "stream",
     "text": [
      "1\n",
      "3\n",
      "5\n",
      "7\n",
      "9\n"
     ]
    }
   ],
   "source": [
    "#반복문과 컬렉션: range()함수 활용하기\n",
    "for i in range(1, 10, 2):\n",
    "    print(i)"
   ]
  },
  {
   "cell_type": "code",
   "execution_count": 40,
   "id": "498bfb57-5097-4c4d-85fb-3eb42bf26f31",
   "metadata": {},
   "outputs": [
    {
     "name": "stdout",
     "output_type": "stream",
     "text": [
      "2\n",
      "4\n",
      "6\n",
      "8\n",
      "10\n"
     ]
    }
   ],
   "source": [
    "#1부터 10까지의 숫자 중 짝수만 출력하는 프로그램\n",
    "for i in range(1,11):\n",
    "    if i % 2 == 0:\n",
    "        print(i)"
   ]
  },
  {
   "cell_type": "code",
   "execution_count": 44,
   "id": "e481ed28-fd77-4e5d-b357-44ca56f0f42f",
   "metadata": {},
   "outputs": [
    {
     "name": "stdout",
     "output_type": "stream",
     "text": [
      "i = 1, j =1\n",
      "i = 1, j =2\n",
      "i = 1, j =3\n",
      "i = 2, j =1\n",
      "i = 2, j =2\n",
      "i = 2, j =3\n",
      "i = 3, j =1\n",
      "i = 3, j =2\n",
      "i = 3, j =3\n"
     ]
    }
   ],
   "source": [
    "#중첩반복문: 반복문 안의 반복문\n",
    "\n",
    "for i in range(1, 4):\n",
    "    for j in range(1, 4):\n",
    "        print(f\"i = {i}, j ={j}\")"
   ]
  },
  {
   "cell_type": "code",
   "execution_count": 54,
   "id": "f41b1e69-e802-428c-afab-c35fd263c416",
   "metadata": {},
   "outputs": [
    {
     "name": "stdout",
     "output_type": "stream",
     "text": [
      "1 * 1 = 1\n",
      "1 * 2 = 2\n",
      "1 * 3 = 3\n",
      "1 * 4 = 4\n",
      "1 * 5 = 5\n",
      "1 * 6 = 6\n",
      "1 * 7 = 7\n",
      "1 * 8 = 8\n",
      "1 * 9 = 9\n",
      "2 * 1 = 2\n",
      "2 * 2 = 4\n",
      "2 * 3 = 6\n",
      "2 * 4 = 8\n",
      "2 * 5 = 10\n",
      "2 * 6 = 12\n",
      "2 * 7 = 14\n",
      "2 * 8 = 16\n",
      "2 * 9 = 18\n",
      "3 * 1 = 3\n",
      "3 * 2 = 6\n",
      "3 * 3 = 9\n",
      "3 * 4 = 12\n",
      "3 * 5 = 15\n",
      "3 * 6 = 18\n",
      "3 * 7 = 21\n",
      "3 * 8 = 24\n",
      "3 * 9 = 27\n",
      "4 * 1 = 4\n",
      "4 * 2 = 8\n",
      "4 * 3 = 12\n",
      "4 * 4 = 16\n",
      "4 * 5 = 20\n",
      "4 * 6 = 24\n",
      "4 * 7 = 28\n",
      "4 * 8 = 32\n",
      "4 * 9 = 36\n",
      "5 * 1 = 5\n",
      "5 * 2 = 10\n",
      "5 * 3 = 15\n",
      "5 * 4 = 20\n",
      "5 * 5 = 25\n",
      "5 * 6 = 30\n",
      "5 * 7 = 35\n",
      "5 * 8 = 40\n",
      "5 * 9 = 45\n",
      "6 * 1 = 6\n",
      "6 * 2 = 12\n",
      "6 * 3 = 18\n",
      "6 * 4 = 24\n",
      "6 * 5 = 30\n",
      "6 * 6 = 36\n",
      "6 * 7 = 42\n",
      "6 * 8 = 48\n",
      "6 * 9 = 54\n",
      "7 * 1 = 7\n",
      "7 * 2 = 14\n",
      "7 * 3 = 21\n",
      "7 * 4 = 28\n",
      "7 * 5 = 35\n",
      "7 * 6 = 42\n",
      "7 * 7 = 49\n",
      "7 * 8 = 56\n",
      "7 * 9 = 63\n",
      "8 * 1 = 8\n",
      "8 * 2 = 16\n",
      "8 * 3 = 24\n",
      "8 * 4 = 32\n",
      "8 * 5 = 40\n",
      "8 * 6 = 48\n",
      "8 * 7 = 56\n",
      "8 * 8 = 64\n",
      "8 * 9 = 72\n",
      "9 * 1 = 9\n",
      "9 * 2 = 18\n",
      "9 * 3 = 27\n",
      "9 * 4 = 36\n",
      "9 * 5 = 45\n",
      "9 * 6 = 54\n",
      "9 * 7 = 63\n",
      "9 * 8 = 72\n",
      "9 * 9 = 81\n",
      "\n"
     ]
    }
   ],
   "source": [
    "#중첩반복문 실습\n",
    "#구구단 출력\n",
    "for i in range(1, 10):\n",
    "    for j in range(1, 10):\n",
    "        print(f\"{i} * {j} = {i*j}\")\n",
    "    print()#각 단마다 줄바꿈"
   ]
  },
  {
   "cell_type": "code",
   "execution_count": null,
   "id": "6d19dbe4-f69a-4ea3-af18-c6c4ef19dc34",
   "metadata": {},
   "outputs": [],
   "source": []
  }
 ],
 "metadata": {
  "kernelspec": {
   "display_name": "Python 3 (ipykernel)",
   "language": "python",
   "name": "python3"
  },
  "language_info": {
   "codemirror_mode": {
    "name": "ipython",
    "version": 3
   },
   "file_extension": ".py",
   "mimetype": "text/x-python",
   "name": "python",
   "nbconvert_exporter": "python",
   "pygments_lexer": "ipython3",
   "version": "3.12.4"
  }
 },
 "nbformat": 4,
 "nbformat_minor": 5
}
