{
 "cells": [
  {
   "cell_type": "code",
   "execution_count": 13,
   "id": "2b6d51da-af79-42e2-97e3-80c730e04466",
   "metadata": {},
   "outputs": [
    {
     "name": "stdin",
     "output_type": "stream",
     "text": [
      "나이를 입력하세요. 28\n",
      "학생일 경우 1, 학생이 아닐 경우 0을 입력하세요. 1\n"
     ]
    },
    {
     "name": "stdout",
     "output_type": "stream",
     "text": [
      "성인이며, 학생입니다.\n"
     ]
    }
   ],
   "source": [
    "#중첩 조건문 (Nested Conditions)\n",
    "\n",
    "age = int(input(\"나이를 입력하세요.\"))\n",
    "is_student = int(input(\"학생일 경우 1, 학생이 아닐 경우 0을 입력하세요.\")) # 1: True, 0: False이기 때문에\n",
    "\n",
    "if age >= 18:\n",
    "    if is_student:\n",
    "        print(\"성인이며, 학생입니다.\")\n",
    "    else:\n",
    "        print(\"성인이며, 학생이 아닙니다.\")\n",
    "else:\n",
    "    print(\"미성년자입니다.\")"
   ]
  },
  {
   "cell_type": "code",
   "execution_count": 25,
   "id": "9a7d0ed3-2ded-4ffe-9e32-76502be80148",
   "metadata": {},
   "outputs": [
    {
     "name": "stdin",
     "output_type": "stream",
     "text": [
      "나이를 입력하세요. 28\n",
      "학생인가요? (yes/no):  no\n"
     ]
    },
    {
     "name": "stdout",
     "output_type": "stream",
     "text": [
      "성인이며, 학생이 아닙니다.\n"
     ]
    }
   ],
   "source": [
    "#중첩 구조문 실습\n",
    "age = int(input(\"나이를 입력하세요.\"))\n",
    "is_student = input(\"학생인가요? (yes/no): \")\n",
    "\n",
    "if age >= 18:\n",
    "    if is_student.lower() == \"yes\":\n",
    "        print(\"성인이며, 학생입니다.\")\n",
    "    else:\n",
    "        print(\"성인이며, 학생이 아닙니다.\")\n",
    "else:\n",
    "    if is_student.lower() == \"yes\":\n",
    "        print(\"미성년자이며, 학생입니다.\")\n",
    "    else:\n",
    "        print(\"미성년자이며, 학생이 아닙니다.\")"
   ]
  },
  {
   "cell_type": "code",
   "execution_count": null,
   "id": "e1922596-b164-4700-bb8b-2c669e561582",
   "metadata": {},
   "outputs": [],
   "source": []
  }
 ],
 "metadata": {
  "kernelspec": {
   "display_name": "Python 3 (ipykernel)",
   "language": "python",
   "name": "python3"
  },
  "language_info": {
   "codemirror_mode": {
    "name": "ipython",
    "version": 3
   },
   "file_extension": ".py",
   "mimetype": "text/x-python",
   "name": "python",
   "nbconvert_exporter": "python",
   "pygments_lexer": "ipython3",
   "version": "3.12.4"
  }
 },
 "nbformat": 4,
 "nbformat_minor": 5
}
