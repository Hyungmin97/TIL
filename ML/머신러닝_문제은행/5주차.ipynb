{
 "cells": [
  {
   "cell_type": "markdown",
   "metadata": {
    "vscode": {
     "languageId": "plaintext"
    }
   },
   "source": [
    "# 주차 최신 모델을 사용해 캐글 도전하기!\n",
    "\n",
    "자 저희가 현재까지 배운 모델을 사용 혹은 새롭게 공부한 모델을 통해 캐글을 도전해봅시다!\n",
    "\n",
    "### 요구 사항\n",
    "\n",
    "- 캐글에서 문제를 선정해주세요!\n",
    "- 데이터를 적합하게 처리하는 과정이 필요하겠죠?\n",
    "- 그 후 최신 모델을 사용해 제출 파일을 만들어보세요!\n",
    "\n",
    "*데이터의 특성을 확인 후 모델을 만들면? 당연히 성능이 좋을거에요!* \n",
    "\n",
    "### **숙제 정보**\n",
    "\n",
    "■ 난이도 : 🔴상\n",
    "\n",
    "■ 실습 범위 : 1~5주차\n",
    "\n",
    "■ 사용 언어 및 라이브러리 : xgboost, pandas, numpy, scikit-learn"
   ]
  },
  {
   "cell_type": "code",
   "execution_count": null,
   "metadata": {
    "vscode": {
     "languageId": "plaintext"
    }
   },
   "outputs": [],
   "source": []
  }
 ],
 "metadata": {
  "language_info": {
   "name": "python"
  }
 },
 "nbformat": 4,
 "nbformat_minor": 2
}
