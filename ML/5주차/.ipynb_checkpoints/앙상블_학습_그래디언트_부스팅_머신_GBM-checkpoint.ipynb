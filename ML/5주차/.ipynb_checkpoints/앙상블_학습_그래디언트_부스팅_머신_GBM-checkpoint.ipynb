{
 "cells": [
  {
   "cell_type": "code",
   "execution_count": 1,
   "id": "0da5d584-6ffd-4b3e-8e89-6a3ec5cde24d",
   "metadata": {},
   "outputs": [],
   "source": [
    "#앙상블 학습 - 그래디언트 부스팅 머신 (GBM) "
   ]
  },
  {
   "cell_type": "code",
   "execution_count": 3,
   "id": "a03ded2b-79cb-4231-a863-9d5dd844d08e",
   "metadata": {},
   "outputs": [],
   "source": [
    "#유방암 데이터셋 실습"
   ]
  },
  {
   "cell_type": "code",
   "execution_count": 4,
   "id": "99294f89-fdd1-458a-80dc-f07ec496e6d2",
   "metadata": {},
   "outputs": [],
   "source": [
    "from sklearn.ensemble import BaggingRegressor\n",
    "from sklearn.tree import DecisionTreeRegressor\n",
    "from sklearn.metrics import mean_squared_error\n",
    "from sklearn.datasets import load_breast_cancer\n",
    "from sklearn.model_selection import train_test_split\n",
    "from sklearn.preprocessing import StandardScaler\n",
    "\n",
    "# 유방암 데이터 로드\n",
    "cancer_data = load_breast_cancer()\n",
    "X, y = cancer_data.data, cancer_data.target\n",
    "\n",
    "# 데이터 분할\n",
    "X_train, X_test, y_train, y_test = train_test_split(X, y, test_size=0.2, random_state=42)\n",
    "\n",
    "# 데이터 스케일링\n",
    "scaler = StandardScaler()\n",
    "X_train_scaled = scaler.fit_transform(X_train)\n",
    "X_test_scaled = scaler.transform(X_test)"
   ]
  },
  {
   "cell_type": "code",
   "execution_count": 5,
   "id": "6c7e4e4b-cba9-4f7d-aa67-1bb68e86da64",
   "metadata": {},
   "outputs": [
    {
     "name": "stdout",
     "output_type": "stream",
     "text": [
      "GBM 모델의 MSE: 0.031272928032902256\n"
     ]
    }
   ],
   "source": [
    "from sklearn.ensemble import GradientBoostingRegressor\n",
    "from sklearn.metrics import mean_squared_error\n",
    "\n",
    "# GBM 모델 생성\n",
    "gbm_model = GradientBoostingRegressor(n_estimators=100, learning_rate=0.1, max_depth=3, random_state=42)\n",
    "\n",
    "# 모델 학습\n",
    "gbm_model.fit(X_train_scaled, y_train)\n",
    "\n",
    "# 예측\n",
    "y_pred_gbm = gbm_model.predict(X_test_scaled)\n",
    "\n",
    "# 평가\n",
    "mse_gbm = mean_squared_error(y_test, y_pred_gbm)\n",
    "print(f'GBM 모델의 MSE: {mse_gbm}')"
   ]
  },
  {
   "cell_type": "code",
   "execution_count": null,
   "id": "fa1c6a04-2a4e-4a97-8d20-4918231a75d8",
   "metadata": {},
   "outputs": [],
   "source": []
  }
 ],
 "metadata": {
  "kernelspec": {
   "display_name": "Python (sparta)",
   "language": "python",
   "name": "sparta"
  },
  "language_info": {
   "codemirror_mode": {
    "name": "ipython",
    "version": 3
   },
   "file_extension": ".py",
   "mimetype": "text/x-python",
   "name": "python",
   "nbconvert_exporter": "python",
   "pygments_lexer": "ipython3",
   "version": "3.12.7"
  }
 },
 "nbformat": 4,
 "nbformat_minor": 5
}
